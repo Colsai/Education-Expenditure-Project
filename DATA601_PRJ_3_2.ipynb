{
  "nbformat": 4,
  "nbformat_minor": 0,
  "metadata": {
    "colab": {
      "name": "DATA601_PRJ_3.ipynb",
      "provenance": [],
      "collapsed_sections": [],
      "toc_visible": true,
      "authorship_tag": "ABX9TyPBHF7ohgmFK1EDXRRzAtlC",
      "include_colab_link": true
    },
    "kernelspec": {
      "name": "python3",
      "display_name": "Python 3"
    },
    "language_info": {
      "name": "python"
    }
  },
  "cells": [
    {
      "cell_type": "markdown",
      "metadata": {
        "id": "view-in-github",
        "colab_type": "text"
      },
      "source": [
        "<a href=\"https://colab.research.google.com/github/Colsai/Education-Expenditure-Project/blob/Test-Branch/DATA601_PRJ_3_2.ipynb\" target=\"_parent\"><img src=\"https://colab.research.google.com/assets/colab-badge.svg\" alt=\"Open In Colab\"/></a>"
      ]
    },
    {
      "cell_type": "markdown",
      "metadata": {
        "id": "kNwK--kv-ALj"
      },
      "source": [
        "# DATA601: Project 3  \n",
        "## Spring 2021, WAN \n",
        "--- \n",
        "New York High School Trends in Low Income/Poverty Markers (2015-2019)  \n",
        "Scott Hirabayashi, Spring 2021\n",
        "\n",
        "## Previous Projects:\n",
        "- Project 1: EDA analysis on Chicago Public Schools\n",
        "- Project 2: Analysis on trends within past 4 years comparing charter schools to neighborhood in Chicago Public Schools\n",
        "- Project 3: Trends in low income/poverty metrics for students in New York Public High Schools\n",
        "\n",
        "### Indicators to focus on:\n",
        "Temp Housing: Percent of Students in Temporary Housing (metric of student poverty)\n",
        "Economic Need Index: A metric that\n",
        "Student Attendance Rate and Percent of Students Chronically Absent\n",
        "Percent of teachers with 3 or more years of experience\n",
        "Teacher Attendance Rate\n",
        "\n",
        "### Background:\n",
        "I thought a lot about a question I wanted to answer. One of the main questions was to look for trends in the Educational system in terms of. Unfortunately, a lot of these data statistics that I would like are protected (such as NAEP), but I discovered that they are listed by the City of New York for their schools. Of course, this is a small sample size to deal with, but what I want to do (and merge) is look through High Schools.\n",
        "\n",
        "\n",
        "1. In this project, I'll use multiple datasets. \n",
        "2.  First, I'll take a look at general poverty statistics in schools in the NYC area.\n",
        "3. Then, I'll look at specific poverty indicators in School Quality Reports."
      ]
    },
    {
      "cell_type": "markdown",
      "metadata": {
        "id": "o4kq64lviSBf"
      },
      "source": [
        "\n",
        "### Major Questions\n",
        "#### Economic\n",
        "- How high and what is the trend of the economic need index (low income/poverty metric)? What is the trend of the temp housing index?\n",
        "- For all of the schools in New York, is there a correlation between student attendance rate/chronic absenteeism and economic need/poverty? If so, how strong is the correlation?\n",
        "\n",
        "#### General (and backup)\n",
        "- Is teacher attendance rate a good predictor of student attendance rate for High Schools? (is there a correlation?)\n",
        "- How does experience correlate with attendance? (Are schools with more 3+ year/experienced educators, more likely to be at schools with higher student attendance?)"
      ]
    },
    {
      "cell_type": "code",
      "metadata": {
        "id": "4IMYhddh9wQz"
      },
      "source": [
        "#Packages Used for Project\n",
        "import pandas as pd\n",
        "import numpy as np\n",
        "import seaborn as sns\n",
        "import matplotlib.pyplot as plt\n",
        "import time\n",
        "import os\n",
        "import scipy.stats"
      ],
      "execution_count": 2,
      "outputs": []
    },
    {
      "cell_type": "code",
      "metadata": {
        "colab": {
          "base_uri": "https://localhost:8080/"
        },
        "id": "ahFKkg4K4blt",
        "outputId": "32e82e19-18c0-4caa-ed04-5b1bbaae1235"
      },
      "source": [
        "#Check Version of Pandas\n",
        "print(f\"Pandas Version: {pd.__version__}\")"
      ],
      "execution_count": 3,
      "outputs": [
        {
          "output_type": "stream",
          "text": [
            "Pandas Version: 1.1.5\n"
          ],
          "name": "stdout"
        }
      ]
    },
    {
      "cell_type": "markdown",
      "metadata": {
        "id": "NSgcc3t10j_r"
      },
      "source": [
        "# 1. Explain and Load the Data\n",
        "In the next section, I will explain the data that I have chosen, and include sources and information for reference."
      ]
    },
    {
      "cell_type": "markdown",
      "metadata": {
        "id": "gQaHOj7vFhud"
      },
      "source": [
        "## Dataset Sources for Project 3\n",
        "New York Open Data Portal, Education Reports for High Schools.\n",
        "\n",
        "The first dataset is a dataset of all schools in New York, and has data on % Poverty and Economic Need.\n",
        "\n",
        "| Year | Data Source |  \n",
        "|---|---|  \n",
        "| All Years | https://data.cityofnewyork.us/api/views/nie4-bv6q/rows.csv?accessType=DOWNLOAD | |"
      ]
    },
    {
      "cell_type": "code",
      "metadata": {
        "id": "EbW-hxl2zixu"
      },
      "source": [
        "#All Poverty Df (14-20)\n",
        "df_all_poverty = df_allpov = pd.read_csv('https://data.cityofnewyork.us/api/views/nie4-bv6q/rows.csv?accessType=DOWNLOAD')"
      ],
      "execution_count": 4,
      "outputs": []
    },
    {
      "cell_type": "code",
      "metadata": {
        "colab": {
          "base_uri": "https://localhost:8080/"
        },
        "id": "yAtUUe2pzksm",
        "outputId": "8bfe6bfc-706d-4b41-d6ed-f438e8f9e9c5"
      },
      "source": [
        "df_all_poverty.info()"
      ],
      "execution_count": 5,
      "outputs": [
        {
          "output_type": "stream",
          "text": [
            "<class 'pandas.core.frame.DataFrame'>\n",
            "RangeIndex: 9096 entries, 0 to 9095\n",
            "Data columns (total 39 columns):\n",
            " #   Column                                      Non-Null Count  Dtype  \n",
            "---  ------                                      --------------  -----  \n",
            " 0   DBN                                         9096 non-null   object \n",
            " 1   School Name                                 9096 non-null   object \n",
            " 2   Year                                        9096 non-null   object \n",
            " 3   Total Enrollment                            9096 non-null   int64  \n",
            " 4   Grade 3K+PK (Half Day & Full Day)           9096 non-null   int64  \n",
            " 5   Grade K                                     9096 non-null   int64  \n",
            " 6   Grade 1                                     9096 non-null   int64  \n",
            " 7   Grade 2                                     9096 non-null   int64  \n",
            " 8   Grade 3                                     9096 non-null   int64  \n",
            " 9   Grade 4                                     9096 non-null   int64  \n",
            " 10  Grade 5                                     9096 non-null   int64  \n",
            " 11  Grade 6                                     9096 non-null   int64  \n",
            " 12  Grade 7                                     9096 non-null   int64  \n",
            " 13  Grade 8                                     9096 non-null   int64  \n",
            " 14  Grade 9                                     9096 non-null   int64  \n",
            " 15  Grade 10                                    9096 non-null   int64  \n",
            " 16  Grade 11                                    9096 non-null   int64  \n",
            " 17  Grade 12                                    9096 non-null   int64  \n",
            " 18  # Female                                    9096 non-null   int64  \n",
            " 19  % Female                                    9096 non-null   float64\n",
            " 20  # Male                                      9096 non-null   int64  \n",
            " 21  % Male                                      9096 non-null   float64\n",
            " 22  # Asian                                     9096 non-null   int64  \n",
            " 23  % Asian                                     9096 non-null   float64\n",
            " 24  # Black                                     9096 non-null   int64  \n",
            " 25  % Black                                     9096 non-null   float64\n",
            " 26  # Hispanic                                  9096 non-null   int64  \n",
            " 27  % Hispanic                                  9096 non-null   float64\n",
            " 28  # Multiple Race Categories Not Represented  9096 non-null   int64  \n",
            " 29  % Multiple Race Categories Not Represented  9096 non-null   float64\n",
            " 30  # White                                     9096 non-null   int64  \n",
            " 31  % White                                     9096 non-null   float64\n",
            " 32  # Students with Disabilities                9096 non-null   int64  \n",
            " 33  % Students with Disabilities                9096 non-null   float64\n",
            " 34  # English Language Learners                 9096 non-null   int64  \n",
            " 35  % English Language Learners                 9096 non-null   float64\n",
            " 36  # Poverty                                   9096 non-null   object \n",
            " 37  % Poverty                                   9096 non-null   object \n",
            " 38  Economic Need Index                         9096 non-null   object \n",
            "dtypes: float64(9), int64(24), object(6)\n",
            "memory usage: 2.7+ MB\n"
          ],
          "name": "stdout"
        }
      ]
    },
    {
      "cell_type": "markdown",
      "metadata": {
        "id": "hDV-sPli03kw"
      },
      "source": [
        "We'll return to this dataset later so that we can compare these general poverty statistics with the specific ones from New York High Schools."
      ]
    },
    {
      "cell_type": "markdown",
      "metadata": {
        "id": "GRaW44B5_CK9"
      },
      "source": [
        "## Second Dataset for Project 3\n",
        "This is a targeted and specific look at New York Public High Schools. Some of the poverty metrics changed in the 2014-2015 dataset, so I will only look at the last 4 years, seen here. \n",
        "\n",
        "Datasets used: (.gov open data)\n",
        "\n",
        "| Year | Data Source |  \n",
        "|---|---|  \n",
        "| 2014/2015 | https://data.cityofnewyork.us/Education/2014-2015-School-Quality-Reports-Results-For-High-/vrfr-9k4d | |\n",
        "| 2015/2016 | https://data.cityofnewyork.us/Education/2015-2016-School-Quality-Report-Results-for-High-S/mz5e-yub2 | |\n",
        "| 2016/2017 | https://data.cityofnewyork.us/Education/2016-2017-School-Quality-Report-Results-for-High-S/ewhs-k7um | |\n",
        "| 2017/2018 | https://data.cityofnewyork.us/Education/2017-2018-School-Quality-Report-High-School/7c8x-xds8  | |\n",
        "\n",
        "Each Dataset is about 30+ x 495 (495 high schools included)."
      ]
    },
    {
      "cell_type": "code",
      "metadata": {
        "colab": {
          "base_uri": "https://localhost:8080/",
          "height": 35
        },
        "id": "LmfmH54896sT",
        "outputId": "ff6653fd-2e97-46de-c01b-30d3cccc4a0e"
      },
      "source": [
        "#Load data into dataframes (4 datasets used)\n",
        "start = time.time()\n",
        "try:\n",
        "    df_1415 = pd.read_excel('https://data.cityofnewyork.us/download/vrfr-9k4d/application%2Fvnd.ms-excel', header = 1)\n",
        "    df_1516 = pd.read_csv('https://data.cityofnewyork.us/api/views/mz5e-yub2/rows.csv?accessType=DOWNLOAD')\n",
        "    df_1617 = pd.read_csv('https://data.cityofnewyork.us/api/views/ewhs-k7um/rows.csv?accessType=DOWNLOAD')\n",
        "    df_1718 = pd.read_csv('https://data.cityofnewyork.us/api/views/7c8x-xds8/rows.csv?accessType=DOWNLOAD')\n",
        "except:\n",
        "    print(\"Data Did Not Load Correctly\")\n",
        "\n",
        "f\"Finished ({time.time() - start} seconds.)\""
      ],
      "execution_count": 6,
      "outputs": [
        {
          "output_type": "execute_result",
          "data": {
            "application/vnd.google.colaboratory.intrinsic+json": {
              "type": "string"
            },
            "text/plain": [
              "'Finished (6.141287565231323 seconds.)'"
            ]
          },
          "metadata": {
            "tags": []
          },
          "execution_count": 6
        }
      ]
    },
    {
      "cell_type": "markdown",
      "metadata": {
        "id": "4wv4pAMq1oq2"
      },
      "source": [
        "## Merge Data\n",
        "- We'll perform an outer join so we don't lose any of our information.\n",
        "- We'll perform another outer join after that, to merge all 4 datasets into one.\n",
        "- And add suffixes so that we know which data is from which year (if varnames are the same)\n",
        "\n",
        "2014-2015, 2015-2016, 2016-2017, 2017-2018"
      ]
    },
    {
      "cell_type": "markdown",
      "metadata": {
        "id": "j2LPAAmaFruu"
      },
      "source": [
        "# 2. Data Exploration and Cleaning\n",
        "- Explain the target of our data exploration (Poverty Metrics in Public High Schools)\n",
        "- Explore the Data"
      ]
    },
    {
      "cell_type": "code",
      "metadata": {
        "colab": {
          "base_uri": "https://localhost:8080/"
        },
        "id": "QKhPusRx78a3",
        "outputId": "06ad3f5b-7e9d-4c82-d978-676bf81d0b02"
      },
      "source": [
        "df_1415.columns"
      ],
      "execution_count": 7,
      "outputs": [
        {
          "output_type": "execute_result",
          "data": {
            "text/plain": [
              "Index(['DBN', 'School Name', 'School Type', 'Enrollment',\n",
              "       'Rigorous Instruction Rating', 'Collaborative Teachers Rating',\n",
              "       'Supportive Environment Rating', 'Effective School Leadership Rating',\n",
              "       'Strong Family-Community Ties Rating', 'Trust Rating',\n",
              "       'Student Achievement Rating', 'Rigorous Instruction - Percent Positive',\n",
              "       'Collaborative Teachers - Percent Positive',\n",
              "       'Supportive Environment - Percent Positive',\n",
              "       'Effective School Leadership - Percent Positive',\n",
              "       'Strong Family-Community Ties - Percent Positive',\n",
              "       'Trust - Percent Positive',\n",
              "       'Quality Review - How interesting and challenging is the curriculum?',\n",
              "       'Quality Review - How effective is the teaching and learning?',\n",
              "       'Quality Review - How well does the school assess what students are learning?',\n",
              "       'Quality Review - How well do teachers work with each other?',\n",
              "       'Quality Review - How clearly are high expectations communicated to students and staff?',\n",
              "       'Quality Review - Dates of Review',\n",
              "       'Average Grade 8 English Proficiency',\n",
              "       'Average Grade 8 Math Proficiency', 'Percent English Language Learners',\n",
              "       'Percent Students with Disabilities', 'Percent Self-Contained',\n",
              "       'Economic Need Index', 'Percent in Temp Housing - 4yr',\n",
              "       'Percent HRA Eligible', 'Percent Asian', 'Percent Black',\n",
              "       'Percent Hispanic', 'Percent White',\n",
              "       'Years of principal experience at this school',\n",
              "       'Percent of teachers with 3 or more years of experience',\n",
              "       'Student Attendance Rate', 'Percent of Students Chronically Absent',\n",
              "       'Teacher Attendance Rate'],\n",
              "      dtype='object')"
            ]
          },
          "metadata": {
            "tags": []
          },
          "execution_count": 7
        }
      ]
    },
    {
      "cell_type": "markdown",
      "metadata": {
        "id": "2V5iyI0C8PmA"
      },
      "source": [
        "We can focus on three metrics here: \n",
        "- 'Percent HRA Eligible', \n",
        "- 'Percent in Temp Housing', and \n",
        "- 'Economic Need Index'."
      ]
    },
    {
      "cell_type": "markdown",
      "metadata": {
        "id": "ywwAi-X7Bpz1"
      },
      "source": [
        "Before moving on, are some elements being captured in later dataframes that are not in the first dataframe?  \n",
        "This function explores the differences in columns between two dataframes"
      ]
    },
    {
      "cell_type": "code",
      "metadata": {
        "id": "zvMMRmbC_1_C"
      },
      "source": [
        "def col_difference(df1,df2):\n",
        "#Create two lists of cols\n",
        "    df1_cols = df1.columns.to_list()\n",
        "    df2_cols = df2.columns.to_list()\n",
        "        \n",
        "    if df1.columns.to_list() != df2.columns.to_list():\n",
        "        col_dif = [col for col in df1_cols if col not in df2_cols]\n",
        "        rev_col_dif = [col for col in df2_cols if col not in df1_cols]\n",
        "\n",
        "    return [col_dif, rev_col_dif]"
      ],
      "execution_count": 8,
      "outputs": []
    },
    {
      "cell_type": "markdown",
      "metadata": {
        "id": "zrtydDusAvY8"
      },
      "source": [
        "Let's look at some of the differences between the collected information"
      ]
    },
    {
      "cell_type": "markdown",
      "metadata": {
        "id": "AeH4d3JD36Vr"
      },
      "source": [
        "Looks like we have it multiple times here. Let's rename the column for df_1415 so that the merge is cleaner. "
      ]
    },
    {
      "cell_type": "code",
      "metadata": {
        "id": "vzXcYX2CGuDe"
      },
      "source": [
        "all_dfs = [df_1415, df_1516,df_1617,df_1718]"
      ],
      "execution_count": 10,
      "outputs": []
    },
    {
      "cell_type": "code",
      "metadata": {
        "colab": {
          "base_uri": "https://localhost:8080/"
        },
        "id": "zWJlzFgmB2kG",
        "outputId": "0c0cd240-a89b-4d50-dbf1-db4dc6420d12"
      },
      "source": [
        "for i in range(1,len(all_dfs)):\n",
        "    print(f\"{2014}-{2015} and {2014+(i+1)}-{2014+(i+2)} {col_difference(all_dfs[0],all_dfs[i])}\")"
      ],
      "execution_count": 11,
      "outputs": [
        {
          "output_type": "stream",
          "text": [
            "2014-2015 and 2016-2017 [['Percent in Temp Housing - 4yr'], ['Percent Overage/Undercredited', 'Percent in Temp Housing']]\n",
            "2014-2015 and 2017-2018 [['Percent in Temp Housing - 4yr'], ['Quality Review - How safe and inclusive is the school while supporting social-emotional growth?', 'Quality Review - How well does the school allocate and manage resources?', 'Quality Review - How well does the school identify, track, and meet its goals?', 'Quality Review - How thoughtful is the school’s approach to teacher development and evaluation?', 'Quality Review - How well are school decisions evaluated and adjusted?', 'Percent Overage/ Undercredited', 'Percent in Temp Housing']]\n",
            "2014-2015 and 2018-2019 [['Percent in Temp Housing - 4yr'], ['Quality Review - How safe and inclusive is the school while supporting social-emotional growth?', 'Quality Review - How well does the school allocate and manage resources?', 'Quality Review - How well does the school identify, track, and meet its goals?', 'Quality Review - How thoughtful is the school’s approach to teacher development and evaluation?', 'Quality Review - How well are school decisions evaluated and adjusted?', 'Percent Overage/Undercredited', 'Percent in Temp Housing']]\n"
          ],
          "name": "stdout"
        }
      ]
    },
    {
      "cell_type": "markdown",
      "metadata": {
        "id": "H-o1UVOKGrgR"
      },
      "source": [
        "Code here is pretty ineligant, will try to revist later."
      ]
    },
    {
      "cell_type": "code",
      "metadata": {
        "colab": {
          "base_uri": "https://localhost:8080/"
        },
        "id": "Ph-7STja8rhV",
        "outputId": "a87c8aed-8f16-47c8-fedf-ab468dd6fcbf"
      },
      "source": [
        "dif_cols = [col_difference(all_dfs[0], all_dfs[i]) for i in range(1, len(all_dfs))]\n",
        "\n",
        "parsed_cols = []\n",
        "\n",
        "for list_ in dif_cols:\n",
        "    for cols in list_:\n",
        "        for elem in cols:\n",
        "            if elem not in parsed_cols:\n",
        "                parsed_cols.append(elem)\n",
        "\n",
        "parsed_cols"
      ],
      "execution_count": 12,
      "outputs": [
        {
          "output_type": "execute_result",
          "data": {
            "text/plain": [
              "['Percent in Temp Housing - 4yr',\n",
              " 'Percent Overage/Undercredited',\n",
              " 'Percent in Temp Housing',\n",
              " 'Quality Review - How safe and inclusive is the school while supporting social-emotional growth?',\n",
              " 'Quality Review - How well does the school allocate and manage resources?',\n",
              " 'Quality Review - How well does the school identify, track, and meet its goals?',\n",
              " 'Quality Review - How thoughtful is the school’s approach to teacher development and evaluation?',\n",
              " 'Quality Review - How well are school decisions evaluated and adjusted?',\n",
              " 'Percent Overage/ Undercredited']"
            ]
          },
          "metadata": {
            "tags": []
          },
          "execution_count": 12
        }
      ]
    },
    {
      "cell_type": "markdown",
      "metadata": {
        "id": "cGNMwq1v3LbH"
      },
      "source": [
        "- Overall, not too many differences. It's possible that some of the survey questions here were added in later years in data tracking for these high schools. \n",
        "- However, \"Temp housing\", one of the variables that we are looking at \n",
        "has an issue here.  \n",
        "- We can use nested list comprehension to save some time.\n",
        "\n",
        "Ref: https://www.geeksforgeeks.org/nested-list-comprehensions-in-python/"
      ]
    },
    {
      "cell_type": "code",
      "metadata": {
        "colab": {
          "base_uri": "https://localhost:8080/"
        },
        "id": "WhgrsF9m3K06",
        "outputId": "93811935-b91b-4983-d04d-1f1ab4dab78c"
      },
      "source": [
        "[[col for col in dataframe if \"Temp\" in col] for dataframe in [df_1415, df_1516, df_1617, df_1718]]"
      ],
      "execution_count": 13,
      "outputs": [
        {
          "output_type": "execute_result",
          "data": {
            "text/plain": [
              "[['Percent in Temp Housing - 4yr'],\n",
              " ['Percent in Temp Housing'],\n",
              " ['Percent in Temp Housing'],\n",
              " ['Percent in Temp Housing']]"
            ]
          },
          "metadata": {
            "tags": []
          },
          "execution_count": 13
        }
      ]
    },
    {
      "cell_type": "markdown",
      "metadata": {
        "id": "yfHbtmAo6szz"
      },
      "source": [
        "pd.Rename Documentation:  \n",
        "https://pandas.pydata.org/pandas-docs/stable/reference/api/pandas.DataFrame.rename.html"
      ]
    },
    {
      "cell_type": "code",
      "metadata": {
        "id": "PFm2WNz55q7F"
      },
      "source": [
        "#Rename the column with rename\n",
        "df_1415 = df_1415.rename(columns={'Percent in Temp Housing - 4yr': 'Percent in Temp Housing'})"
      ],
      "execution_count": 14,
      "outputs": []
    },
    {
      "cell_type": "code",
      "metadata": {
        "colab": {
          "base_uri": "https://localhost:8080/"
        },
        "id": "4vkQXB_F6F6l",
        "outputId": "9d58b01a-f1c9-48de-a537-5cb607346aff"
      },
      "source": [
        "#Recheck to make sure it worked...\n",
        "check_name = \"Percent in Temp Housing\"\n",
        "[[bool(col) for col in dataframe if check_name in col] for dataframe in [df_1415, df_1516, df_1617, df_1718]]"
      ],
      "execution_count": 15,
      "outputs": [
        {
          "output_type": "execute_result",
          "data": {
            "text/plain": [
              "[[True], [True], [True], [True]]"
            ]
          },
          "metadata": {
            "tags": []
          },
          "execution_count": 15
        }
      ]
    },
    {
      "cell_type": "markdown",
      "metadata": {
        "id": "uu94sRhcUVOU"
      },
      "source": [
        "## Join Data on 'DBN'\n",
        "\n",
        "The unique identifier here for schools is called the 'District Borough Number', or 'DBN', which combines district, borough, and school number into an identfier/primary key. \n",
        "\n",
        "See: https://teachnyc.zendesk.com/hc/en-us/articles/360053601831-What-is-a-DBN-District-Borough-Number-#:~:text=The%20DBN%20or%20District%20Borough,has%20a%20District%20Borough%20Number.\n"
      ]
    },
    {
      "cell_type": "code",
      "metadata": {
        "id": "v5t4T3ce5jMV"
      },
      "source": [
        "#merge the two component parts\n",
        "df_1416 = df_1415.merge(df_1516, \n",
        "                        how = \"outer\", \n",
        "                        on=\"DBN\", \n",
        "                        suffixes=('_1415','_1516'))\n",
        "\n",
        "df_1618 = df_1617.merge(df_1718, \n",
        "                        how = \"outer\", \n",
        "                        on = \"DBN\",\n",
        "                        suffixes = ('_1617','_1718'))\n",
        "\n",
        "#Merge them into a single dataframe 'full_df'\n",
        "full_df = df_1416.merge(df_1618, how = \"outer\", on=\"DBN\")"
      ],
      "execution_count": 16,
      "outputs": []
    },
    {
      "cell_type": "markdown",
      "metadata": {
        "id": "6RxjqIhC4jA_"
      },
      "source": [
        "Now, let's check the new dataframe."
      ]
    },
    {
      "cell_type": "code",
      "metadata": {
        "colab": {
          "base_uri": "https://localhost:8080/",
          "height": 666
        },
        "id": "gylZRqcB7vG_",
        "outputId": "81b46db3-0900-4272-dcab-e8075b0b90df"
      },
      "source": [
        "full_df.head()"
      ],
      "execution_count": 17,
      "outputs": [
        {
          "output_type": "execute_result",
          "data": {
            "text/html": [
              "<div>\n",
              "<style scoped>\n",
              "    .dataframe tbody tr th:only-of-type {\n",
              "        vertical-align: middle;\n",
              "    }\n",
              "\n",
              "    .dataframe tbody tr th {\n",
              "        vertical-align: top;\n",
              "    }\n",
              "\n",
              "    .dataframe thead th {\n",
              "        text-align: right;\n",
              "    }\n",
              "</style>\n",
              "<table border=\"1\" class=\"dataframe\">\n",
              "  <thead>\n",
              "    <tr style=\"text-align: right;\">\n",
              "      <th></th>\n",
              "      <th>DBN</th>\n",
              "      <th>School Name_1415</th>\n",
              "      <th>School Type_1415</th>\n",
              "      <th>Enrollment_1415</th>\n",
              "      <th>Rigorous Instruction Rating_1415</th>\n",
              "      <th>Collaborative Teachers Rating_1415</th>\n",
              "      <th>Supportive Environment Rating_1415</th>\n",
              "      <th>Effective School Leadership Rating_1415</th>\n",
              "      <th>Strong Family-Community Ties Rating_1415</th>\n",
              "      <th>Trust Rating_1415</th>\n",
              "      <th>Student Achievement Rating_1415</th>\n",
              "      <th>Rigorous Instruction - Percent Positive_1415</th>\n",
              "      <th>Collaborative Teachers - Percent Positive_1415</th>\n",
              "      <th>Supportive Environment - Percent Positive_1415</th>\n",
              "      <th>Effective School Leadership - Percent Positive_1415</th>\n",
              "      <th>Strong Family-Community Ties - Percent Positive_1415</th>\n",
              "      <th>Trust - Percent Positive_1415</th>\n",
              "      <th>Quality Review - How interesting and challenging is the curriculum?_1415</th>\n",
              "      <th>Quality Review - How effective is the teaching and learning?_1415</th>\n",
              "      <th>Quality Review - How well does the school assess what students are learning?_1415</th>\n",
              "      <th>Quality Review - How well do teachers work with each other?_1415</th>\n",
              "      <th>Quality Review - How clearly are high expectations communicated to students and staff?_1415</th>\n",
              "      <th>Quality Review - Dates of Review_1415</th>\n",
              "      <th>Average Grade 8 English Proficiency_1415</th>\n",
              "      <th>Average Grade 8 Math Proficiency_1415</th>\n",
              "      <th>Percent English Language Learners_1415</th>\n",
              "      <th>Percent Students with Disabilities_1415</th>\n",
              "      <th>Percent Self-Contained_1415</th>\n",
              "      <th>Economic Need Index_1415</th>\n",
              "      <th>Percent in Temp Housing_1415</th>\n",
              "      <th>Percent HRA Eligible_1415</th>\n",
              "      <th>Percent Asian_1415</th>\n",
              "      <th>Percent Black_1415</th>\n",
              "      <th>Percent Hispanic_1415</th>\n",
              "      <th>Percent White_1415</th>\n",
              "      <th>Years of principal experience at this school_1415</th>\n",
              "      <th>Percent of teachers with 3 or more years of experience_1415</th>\n",
              "      <th>Student Attendance Rate_1415</th>\n",
              "      <th>Percent of Students Chronically Absent_1415</th>\n",
              "      <th>Teacher Attendance Rate_1415</th>\n",
              "      <th>...</th>\n",
              "      <th>Supportive Environment Rating_1718</th>\n",
              "      <th>Effective School Leadership Rating_1718</th>\n",
              "      <th>Strong Family-Community Ties Rating_1718</th>\n",
              "      <th>Trust Rating_1718</th>\n",
              "      <th>Student Achievement Rating_1718</th>\n",
              "      <th>Rigorous Instruction - Percent Positive_1718</th>\n",
              "      <th>Collaborative Teachers - Percent Positive_1718</th>\n",
              "      <th>Supportive Environment - Percent Positive_1718</th>\n",
              "      <th>Effective School Leadership - Percent Positive_1718</th>\n",
              "      <th>Strong Family-Community Ties - Percent Positive_1718</th>\n",
              "      <th>Trust - Percent Positive_1718</th>\n",
              "      <th>Quality Review - How interesting and challenging is the curriculum?_1718</th>\n",
              "      <th>Quality Review - How effective is the teaching and learning?_1718</th>\n",
              "      <th>Quality Review - How well does the school assess what students are learning?_1718</th>\n",
              "      <th>Quality Review - How clearly are high expectations communicated to students and staff?_1718</th>\n",
              "      <th>Quality Review - How well do teachers work with each other?_1718</th>\n",
              "      <th>Quality Review - How safe and inclusive is the school while supporting social-emotional growth?_1718</th>\n",
              "      <th>Quality Review - How well does the school allocate and manage resources?_1718</th>\n",
              "      <th>Quality Review - How well does the school identify, track, and meet its goals?_1718</th>\n",
              "      <th>Quality Review - How thoughtful is the school’s approach to teacher development and evaluation?_1718</th>\n",
              "      <th>Quality Review - How well are school decisions evaluated and adjusted?_1718</th>\n",
              "      <th>Quality Review - Dates of Review_1718</th>\n",
              "      <th>Average Grade 8 English Proficiency_1718</th>\n",
              "      <th>Average Grade 8 Math Proficiency_1718</th>\n",
              "      <th>Percent English Language Learners_1718</th>\n",
              "      <th>Percent Students with Disabilities_1718</th>\n",
              "      <th>Percent Self-Contained_1718</th>\n",
              "      <th>Economic Need Index_1718</th>\n",
              "      <th>Percent Overage/Undercredited_y</th>\n",
              "      <th>Percent in Temp Housing_1718</th>\n",
              "      <th>Percent HRA Eligible_1718</th>\n",
              "      <th>Percent Asian_1718</th>\n",
              "      <th>Percent Black_1718</th>\n",
              "      <th>Percent Hispanic_1718</th>\n",
              "      <th>Percent White_1718</th>\n",
              "      <th>Years of principal experience at this school_1718</th>\n",
              "      <th>Percent of teachers with 3 or more years of experience_1718</th>\n",
              "      <th>Student Attendance Rate_1718</th>\n",
              "      <th>Percent of Students Chronically Absent_1718</th>\n",
              "      <th>Teacher Attendance Rate_1718</th>\n",
              "    </tr>\n",
              "  </thead>\n",
              "  <tbody>\n",
              "    <tr>\n",
              "      <th>0</th>\n",
              "      <td>01M292</td>\n",
              "      <td>Henry Street School for International Studies</td>\n",
              "      <td>High School</td>\n",
              "      <td>255.0</td>\n",
              "      <td>Not Meeting Target</td>\n",
              "      <td>Approaching Target</td>\n",
              "      <td>Approaching Target</td>\n",
              "      <td>Approaching Target</td>\n",
              "      <td>Approaching Target</td>\n",
              "      <td>Meeting Target</td>\n",
              "      <td>Meeting Target</td>\n",
              "      <td>0.72</td>\n",
              "      <td>0.77</td>\n",
              "      <td>0.77</td>\n",
              "      <td>0.72</td>\n",
              "      <td>0.76</td>\n",
              "      <td>0.87</td>\n",
              "      <td>Developing</td>\n",
              "      <td>Developing</td>\n",
              "      <td>Developing</td>\n",
              "      <td>Developing</td>\n",
              "      <td>Developing</td>\n",
              "      <td>2015-05-01 00:00:00</td>\n",
              "      <td>2.18</td>\n",
              "      <td>2.06</td>\n",
              "      <td>0.127</td>\n",
              "      <td>0.298</td>\n",
              "      <td>0.015</td>\n",
              "      <td>0.832</td>\n",
              "      <td>0.190</td>\n",
              "      <td>0.663</td>\n",
              "      <td>0.132</td>\n",
              "      <td>0.244</td>\n",
              "      <td>0.566</td>\n",
              "      <td>0.039</td>\n",
              "      <td>3.0</td>\n",
              "      <td>0.667</td>\n",
              "      <td>0.766</td>\n",
              "      <td>0.568</td>\n",
              "      <td>0.971</td>\n",
              "      <td>...</td>\n",
              "      <td>Meeting Target</td>\n",
              "      <td>Meeting Target</td>\n",
              "      <td>Meeting Target</td>\n",
              "      <td>Exceeding Target</td>\n",
              "      <td>Meeting Target</td>\n",
              "      <td>0.82</td>\n",
              "      <td>0.87</td>\n",
              "      <td>0.78</td>\n",
              "      <td>0.91</td>\n",
              "      <td>0.85</td>\n",
              "      <td>0.92</td>\n",
              "      <td>Proficient</td>\n",
              "      <td>Proficient</td>\n",
              "      <td>Proficient</td>\n",
              "      <td>Proficient</td>\n",
              "      <td>Proficient</td>\n",
              "      <td>Well Developed</td>\n",
              "      <td>Proficient</td>\n",
              "      <td>Proficient</td>\n",
              "      <td>Well Developed</td>\n",
              "      <td>Proficient</td>\n",
              "      <td>04/01/2017 12:00:00 AM</td>\n",
              "      <td>2.75</td>\n",
              "      <td>2.28</td>\n",
              "      <td>0.135</td>\n",
              "      <td>0.240</td>\n",
              "      <td>0.012</td>\n",
              "      <td>0.898</td>\n",
              "      <td>0.047</td>\n",
              "      <td>0.205</td>\n",
              "      <td>0.813</td>\n",
              "      <td>0.117</td>\n",
              "      <td>0.246</td>\n",
              "      <td>0.567</td>\n",
              "      <td>0.047</td>\n",
              "      <td>2.9</td>\n",
              "      <td>0.684</td>\n",
              "      <td>0.886</td>\n",
              "      <td>0.364</td>\n",
              "      <td>0.965</td>\n",
              "    </tr>\n",
              "    <tr>\n",
              "      <th>1</th>\n",
              "      <td>01M448</td>\n",
              "      <td>University Neighborhood High School</td>\n",
              "      <td>High School</td>\n",
              "      <td>304.0</td>\n",
              "      <td>Meeting Target</td>\n",
              "      <td>Meeting Target</td>\n",
              "      <td>Exceeding Target</td>\n",
              "      <td>Exceeding Target</td>\n",
              "      <td>Meeting Target</td>\n",
              "      <td>Exceeding Target</td>\n",
              "      <td>Exceeding Target</td>\n",
              "      <td>0.85</td>\n",
              "      <td>0.95</td>\n",
              "      <td>0.87</td>\n",
              "      <td>0.93</td>\n",
              "      <td>0.79</td>\n",
              "      <td>0.95</td>\n",
              "      <td>Well Developed</td>\n",
              "      <td>Proficient</td>\n",
              "      <td>Proficient</td>\n",
              "      <td>Well Developed</td>\n",
              "      <td>Proficient</td>\n",
              "      <td>2015-04-21 00:00:00</td>\n",
              "      <td>2.27</td>\n",
              "      <td>2.37</td>\n",
              "      <td>0.194</td>\n",
              "      <td>0.220</td>\n",
              "      <td>0.003</td>\n",
              "      <td>0.812</td>\n",
              "      <td>0.263</td>\n",
              "      <td>0.599</td>\n",
              "      <td>0.299</td>\n",
              "      <td>0.250</td>\n",
              "      <td>0.411</td>\n",
              "      <td>0.033</td>\n",
              "      <td>5.5</td>\n",
              "      <td>0.696</td>\n",
              "      <td>0.880</td>\n",
              "      <td>0.347</td>\n",
              "      <td>0.971</td>\n",
              "      <td>...</td>\n",
              "      <td>Exceeding Target</td>\n",
              "      <td>Exceeding Target</td>\n",
              "      <td>Exceeding Target</td>\n",
              "      <td>Exceeding Target</td>\n",
              "      <td>Meeting Target</td>\n",
              "      <td>0.87</td>\n",
              "      <td>0.93</td>\n",
              "      <td>0.82</td>\n",
              "      <td>0.95</td>\n",
              "      <td>0.87</td>\n",
              "      <td>0.94</td>\n",
              "      <td>Well Developed</td>\n",
              "      <td>Proficient</td>\n",
              "      <td>Proficient</td>\n",
              "      <td>Well Developed</td>\n",
              "      <td>Proficient</td>\n",
              "      <td>NaN</td>\n",
              "      <td>NaN</td>\n",
              "      <td>NaN</td>\n",
              "      <td>NaN</td>\n",
              "      <td>NaN</td>\n",
              "      <td>04/21/2015 12:00:00 AM</td>\n",
              "      <td>2.96</td>\n",
              "      <td>2.86</td>\n",
              "      <td>0.105</td>\n",
              "      <td>0.172</td>\n",
              "      <td>0.002</td>\n",
              "      <td>0.825</td>\n",
              "      <td>0.062</td>\n",
              "      <td>0.189</td>\n",
              "      <td>0.738</td>\n",
              "      <td>0.303</td>\n",
              "      <td>0.215</td>\n",
              "      <td>0.443</td>\n",
              "      <td>0.032</td>\n",
              "      <td>8.5</td>\n",
              "      <td>0.419</td>\n",
              "      <td>0.922</td>\n",
              "      <td>0.252</td>\n",
              "      <td>0.968</td>\n",
              "    </tr>\n",
              "    <tr>\n",
              "      <th>2</th>\n",
              "      <td>01M450</td>\n",
              "      <td>East Side Community School</td>\n",
              "      <td>High School</td>\n",
              "      <td>666.0</td>\n",
              "      <td>Exceeding Target</td>\n",
              "      <td>Exceeding Target</td>\n",
              "      <td>Exceeding Target</td>\n",
              "      <td>Exceeding Target</td>\n",
              "      <td>Exceeding Target</td>\n",
              "      <td>Exceeding Target</td>\n",
              "      <td>Exceeding Target</td>\n",
              "      <td>0.92</td>\n",
              "      <td>0.95</td>\n",
              "      <td>0.92</td>\n",
              "      <td>0.96</td>\n",
              "      <td>0.88</td>\n",
              "      <td>0.95</td>\n",
              "      <td>Well Developed</td>\n",
              "      <td>Proficient</td>\n",
              "      <td>Well Developed</td>\n",
              "      <td>Well Developed</td>\n",
              "      <td>Well Developed</td>\n",
              "      <td>2015-05-26 00:00:00</td>\n",
              "      <td>2.66</td>\n",
              "      <td>2.63</td>\n",
              "      <td>0.018</td>\n",
              "      <td>0.234</td>\n",
              "      <td>0.000</td>\n",
              "      <td>0.610</td>\n",
              "      <td>0.057</td>\n",
              "      <td>0.447</td>\n",
              "      <td>0.094</td>\n",
              "      <td>0.221</td>\n",
              "      <td>0.579</td>\n",
              "      <td>0.083</td>\n",
              "      <td>13.8</td>\n",
              "      <td>0.784</td>\n",
              "      <td>0.938</td>\n",
              "      <td>0.165</td>\n",
              "      <td>0.961</td>\n",
              "      <td>...</td>\n",
              "      <td>Exceeding Target</td>\n",
              "      <td>Exceeding Target</td>\n",
              "      <td>Exceeding Target</td>\n",
              "      <td>Exceeding Target</td>\n",
              "      <td>Meeting Target</td>\n",
              "      <td>0.87</td>\n",
              "      <td>0.89</td>\n",
              "      <td>0.83</td>\n",
              "      <td>0.93</td>\n",
              "      <td>0.96</td>\n",
              "      <td>0.94</td>\n",
              "      <td>Well Developed</td>\n",
              "      <td>Proficient</td>\n",
              "      <td>Well Developed</td>\n",
              "      <td>Well Developed</td>\n",
              "      <td>Well Developed</td>\n",
              "      <td>NaN</td>\n",
              "      <td>NaN</td>\n",
              "      <td>NaN</td>\n",
              "      <td>NaN</td>\n",
              "      <td>NaN</td>\n",
              "      <td>05/26/2015 12:00:00 AM</td>\n",
              "      <td>3.14</td>\n",
              "      <td>3.11</td>\n",
              "      <td>0.010</td>\n",
              "      <td>0.234</td>\n",
              "      <td>0.000</td>\n",
              "      <td>0.648</td>\n",
              "      <td>0.013</td>\n",
              "      <td>0.052</td>\n",
              "      <td>0.496</td>\n",
              "      <td>0.122</td>\n",
              "      <td>0.195</td>\n",
              "      <td>0.543</td>\n",
              "      <td>0.106</td>\n",
              "      <td>16.8</td>\n",
              "      <td>0.796</td>\n",
              "      <td>0.940</td>\n",
              "      <td>0.174</td>\n",
              "      <td>0.989</td>\n",
              "    </tr>\n",
              "    <tr>\n",
              "      <th>3</th>\n",
              "      <td>01M509</td>\n",
              "      <td>Marta Valle High School</td>\n",
              "      <td>High School</td>\n",
              "      <td>363.0</td>\n",
              "      <td>Approaching Target</td>\n",
              "      <td>Approaching Target</td>\n",
              "      <td>Approaching Target</td>\n",
              "      <td>Approaching Target</td>\n",
              "      <td>Approaching Target</td>\n",
              "      <td>Approaching Target</td>\n",
              "      <td>Approaching Target</td>\n",
              "      <td>0.86</td>\n",
              "      <td>0.76</td>\n",
              "      <td>0.81</td>\n",
              "      <td>0.69</td>\n",
              "      <td>0.70</td>\n",
              "      <td>0.82</td>\n",
              "      <td>Developing</td>\n",
              "      <td>Developing</td>\n",
              "      <td>Developing</td>\n",
              "      <td>Developing</td>\n",
              "      <td>Proficient</td>\n",
              "      <td>2015-01-08 00:00:00</td>\n",
              "      <td>2.28</td>\n",
              "      <td>2.09</td>\n",
              "      <td>0.091</td>\n",
              "      <td>0.284</td>\n",
              "      <td>0.146</td>\n",
              "      <td>0.767</td>\n",
              "      <td>0.149</td>\n",
              "      <td>0.595</td>\n",
              "      <td>0.058</td>\n",
              "      <td>0.399</td>\n",
              "      <td>0.512</td>\n",
              "      <td>0.025</td>\n",
              "      <td>1.9</td>\n",
              "      <td>0.690</td>\n",
              "      <td>0.768</td>\n",
              "      <td>0.647</td>\n",
              "      <td>0.971</td>\n",
              "      <td>...</td>\n",
              "      <td>Approaching Target</td>\n",
              "      <td>Meeting Target</td>\n",
              "      <td>NaN</td>\n",
              "      <td>NaN</td>\n",
              "      <td>Approaching Target</td>\n",
              "      <td>0.64</td>\n",
              "      <td>0.88</td>\n",
              "      <td>0.61</td>\n",
              "      <td>0.94</td>\n",
              "      <td>0.83</td>\n",
              "      <td>0.86</td>\n",
              "      <td>Developing</td>\n",
              "      <td>Developing</td>\n",
              "      <td>Developing</td>\n",
              "      <td>Proficient</td>\n",
              "      <td>Developing</td>\n",
              "      <td>Proficient</td>\n",
              "      <td>Proficient</td>\n",
              "      <td>Proficient</td>\n",
              "      <td>Proficient</td>\n",
              "      <td>Proficient</td>\n",
              "      <td>12/01/2016 12:00:00 AM</td>\n",
              "      <td>2.71</td>\n",
              "      <td>2.27</td>\n",
              "      <td>0.068</td>\n",
              "      <td>0.257</td>\n",
              "      <td>0.047</td>\n",
              "      <td>0.823</td>\n",
              "      <td>0.081</td>\n",
              "      <td>0.162</td>\n",
              "      <td>0.743</td>\n",
              "      <td>0.047</td>\n",
              "      <td>0.318</td>\n",
              "      <td>0.595</td>\n",
              "      <td>0.027</td>\n",
              "      <td>3.0</td>\n",
              "      <td>0.429</td>\n",
              "      <td>0.798</td>\n",
              "      <td>0.631</td>\n",
              "      <td>0.967</td>\n",
              "    </tr>\n",
              "    <tr>\n",
              "      <th>4</th>\n",
              "      <td>01M539</td>\n",
              "      <td>New Explorations into Science, Technology and ...</td>\n",
              "      <td>High School</td>\n",
              "      <td>1735.0</td>\n",
              "      <td>Exceeding Target</td>\n",
              "      <td>Approaching Target</td>\n",
              "      <td>Meeting Target</td>\n",
              "      <td>Not Meeting Target</td>\n",
              "      <td>Approaching Target</td>\n",
              "      <td>Not Meeting Target</td>\n",
              "      <td>Exceeding Target</td>\n",
              "      <td>0.81</td>\n",
              "      <td>0.73</td>\n",
              "      <td>0.85</td>\n",
              "      <td>0.55</td>\n",
              "      <td>0.81</td>\n",
              "      <td>0.74</td>\n",
              "      <td>Well Developed</td>\n",
              "      <td>Well Developed</td>\n",
              "      <td>Well Developed</td>\n",
              "      <td>Well Developed</td>\n",
              "      <td>Proficient</td>\n",
              "      <td>2015-02-05 00:00:00</td>\n",
              "      <td>3.50</td>\n",
              "      <td>3.53</td>\n",
              "      <td>0.002</td>\n",
              "      <td>0.043</td>\n",
              "      <td>0.000</td>\n",
              "      <td>0.257</td>\n",
              "      <td>0.029</td>\n",
              "      <td>0.260</td>\n",
              "      <td>0.385</td>\n",
              "      <td>0.133</td>\n",
              "      <td>0.180</td>\n",
              "      <td>0.286</td>\n",
              "      <td>9.0</td>\n",
              "      <td>0.602</td>\n",
              "      <td>0.952</td>\n",
              "      <td>0.130</td>\n",
              "      <td>0.967</td>\n",
              "      <td>...</td>\n",
              "      <td>Meeting Target</td>\n",
              "      <td>Meeting Target</td>\n",
              "      <td>Exceeding Target</td>\n",
              "      <td>Meeting Target</td>\n",
              "      <td>Exceeding Target</td>\n",
              "      <td>0.82</td>\n",
              "      <td>0.76</td>\n",
              "      <td>0.71</td>\n",
              "      <td>0.78</td>\n",
              "      <td>0.93</td>\n",
              "      <td>0.84</td>\n",
              "      <td>Well Developed</td>\n",
              "      <td>Proficient</td>\n",
              "      <td>Proficient</td>\n",
              "      <td>Well Developed</td>\n",
              "      <td>Proficient</td>\n",
              "      <td>Well Developed</td>\n",
              "      <td>Well Developed</td>\n",
              "      <td>Proficient</td>\n",
              "      <td>Proficient</td>\n",
              "      <td>Well Developed</td>\n",
              "      <td>04/01/2017 12:00:00 AM</td>\n",
              "      <td>3.75</td>\n",
              "      <td>3.86</td>\n",
              "      <td>0.005</td>\n",
              "      <td>0.144</td>\n",
              "      <td>0.000</td>\n",
              "      <td>0.434</td>\n",
              "      <td>0.017</td>\n",
              "      <td>0.036</td>\n",
              "      <td>0.311</td>\n",
              "      <td>0.294</td>\n",
              "      <td>0.131</td>\n",
              "      <td>0.189</td>\n",
              "      <td>0.352</td>\n",
              "      <td>3.0</td>\n",
              "      <td>0.639</td>\n",
              "      <td>0.952</td>\n",
              "      <td>0.120</td>\n",
              "      <td>0.969</td>\n",
              "    </tr>\n",
              "  </tbody>\n",
              "</table>\n",
              "<p>5 rows × 170 columns</p>\n",
              "</div>"
            ],
            "text/plain": [
              "      DBN  ... Teacher Attendance Rate_1718\n",
              "0  01M292  ...                        0.965\n",
              "1  01M448  ...                        0.968\n",
              "2  01M450  ...                        0.989\n",
              "3  01M509  ...                        0.967\n",
              "4  01M539  ...                        0.969\n",
              "\n",
              "[5 rows x 170 columns]"
            ]
          },
          "metadata": {
            "tags": []
          },
          "execution_count": 17
        }
      ]
    },
    {
      "cell_type": "markdown",
      "metadata": {
        "id": "fybJRZQRVvhP"
      },
      "source": [
        "It looks like most of the elements merged fine, although there may be a few schools in the data here that are new, etc. (520 schools is greater than the shape of any of the original datasets)"
      ]
    },
    {
      "cell_type": "code",
      "metadata": {
        "colab": {
          "base_uri": "https://localhost:8080/"
        },
        "id": "ou5zNfDfVuBK",
        "outputId": "76fbc0a8-e3ce-4e3e-b48d-ae835bec121f"
      },
      "source": [
        "full_df.info()"
      ],
      "execution_count": 18,
      "outputs": [
        {
          "output_type": "stream",
          "text": [
            "<class 'pandas.core.frame.DataFrame'>\n",
            "Int64Index: 520 entries, 0 to 519\n",
            "Columns: 170 entries, DBN to Teacher Attendance Rate_1718\n",
            "dtypes: float64(99), object(71)\n",
            "memory usage: 694.7+ KB\n"
          ],
          "name": "stdout"
        }
      ]
    },
    {
      "cell_type": "code",
      "metadata": {
        "colab": {
          "base_uri": "https://localhost:8080/"
        },
        "id": "Z7ld_QAzHh6t",
        "outputId": "9988f312-0852-49a7-c511-2a22c056ebf4"
      },
      "source": [
        "#Check for the statistics that we are looking for\n",
        "[col for check_pov in [\"temp housing\", \"hra\", \"economic\"] for col in full_df.columns if check_pov in col.lower()]"
      ],
      "execution_count": 19,
      "outputs": [
        {
          "output_type": "execute_result",
          "data": {
            "text/plain": [
              "['Percent in Temp Housing_1415',\n",
              " 'Percent in Temp Housing_1516',\n",
              " 'Percent in Temp Housing_1617',\n",
              " 'Percent in Temp Housing_1718',\n",
              " 'Percent HRA Eligible_1415',\n",
              " 'Percent HRA Eligible_1516',\n",
              " 'Percent HRA Eligible_1617',\n",
              " 'Percent HRA Eligible_1718',\n",
              " 'Economic Need Index_1415',\n",
              " 'Economic Need Index_1516',\n",
              " 'Economic Need Index_1617',\n",
              " 'Economic Need Index_1718']"
            ]
          },
          "metadata": {
            "tags": []
          },
          "execution_count": 19
        }
      ]
    },
    {
      "cell_type": "markdown",
      "metadata": {
        "id": "PBKIW-PhJ5Q7"
      },
      "source": [
        "Quick Check: How many nulls do we have for each of these elements?"
      ]
    },
    {
      "cell_type": "code",
      "metadata": {
        "colab": {
          "base_uri": "https://localhost:8080/"
        },
        "id": "0_l0YFSdJd4S",
        "outputId": "6db75be0-7089-43ad-a891-8f8ac52e3f73"
      },
      "source": [
        "#Check for the statistics that we are looking for\n",
        "[round(full_df[col].isna().sum()/len(full_df[col])*100,1) for check_pov in [\"temp housing\", \"hra\", \"economic\"] for col in full_df.columns if check_pov in col.lower()]"
      ],
      "execution_count": 20,
      "outputs": [
        {
          "output_type": "execute_result",
          "data": {
            "text/plain": [
              "[5.6, 5.2, 6.7, 6.0, 5.6, 5.2, 6.7, 6.0, 5.6, 5.2, 6.7, 6.0]"
            ]
          },
          "metadata": {
            "tags": []
          },
          "execution_count": 20
        }
      ]
    },
    {
      "cell_type": "markdown",
      "metadata": {
        "id": "mcb3MiICbACP"
      },
      "source": [
        "Insert New Cols into housing_df\n",
        "Ref: https://cmdlinetips.com/2020/04/insert-a-column-at-specific-location-in-pandas-dataframe/#:~:text=We%20can%20use%20Pandas'%20insert,arguments%20to%20insert()%20function.&text=If%20we%20try%20to%20insert,dataframe%20already%2C%20like%20shown%20below."
      ]
    },
    {
      "cell_type": "code",
      "metadata": {
        "id": "FzAxHhlUWds0"
      },
      "source": [
        "#Insert Housing Dataframes\n",
        "housing_df = full_df[['DBN',\n",
        "                      'School Name_1415',\n",
        "                      'School Type_1415']]"
      ],
      "execution_count": 21,
      "outputs": []
    },
    {
      "cell_type": "code",
      "metadata": {
        "colab": {
          "base_uri": "https://localhost:8080/"
        },
        "id": "7T9XGnWgTMMj",
        "outputId": "48a00e47-3437-4c21-aae2-6238b805f3dd"
      },
      "source": [
        "#Do we have\n",
        "[('Percent in Temp Housing - 4yr' in df.columns.to_list()) or \n",
        " ('Percent in Temp Housing' in df.columns.to_list()) for df in all_dfs]"
      ],
      "execution_count": 22,
      "outputs": [
        {
          "output_type": "execute_result",
          "data": {
            "text/plain": [
              "[True, True, True, True]"
            ]
          },
          "metadata": {
            "tags": []
          },
          "execution_count": 22
        }
      ]
    },
    {
      "cell_type": "code",
      "metadata": {
        "colab": {
          "base_uri": "https://localhost:8080/"
        },
        "id": "yQuB0a6hTaAs",
        "outputId": "f21b9ea9-84f1-44ed-d3ad-ad52fa9324d4"
      },
      "source": [
        "df_1516.columns"
      ],
      "execution_count": 23,
      "outputs": [
        {
          "output_type": "execute_result",
          "data": {
            "text/plain": [
              "Index(['DBN', 'School Name', 'School Type', 'Enrollment',\n",
              "       'Rigorous Instruction Rating', 'Collaborative Teachers Rating',\n",
              "       'Supportive Environment Rating', 'Effective School Leadership Rating',\n",
              "       'Strong Family-Community Ties Rating', 'Trust Rating',\n",
              "       'Student Achievement Rating', 'Rigorous Instruction - Percent Positive',\n",
              "       'Collaborative Teachers - Percent Positive',\n",
              "       'Supportive Environment - Percent Positive',\n",
              "       'Effective School Leadership - Percent Positive',\n",
              "       'Strong Family-Community Ties - Percent Positive',\n",
              "       'Trust - Percent Positive',\n",
              "       'Quality Review - How interesting and challenging is the curriculum?',\n",
              "       'Quality Review - How effective is the teaching and learning?',\n",
              "       'Quality Review - How well does the school assess what students are learning?',\n",
              "       'Quality Review - How clearly are high expectations communicated to students and staff?',\n",
              "       'Quality Review - How well do teachers work with each other?',\n",
              "       'Quality Review - Dates of Review',\n",
              "       'Average Grade 8 English Proficiency',\n",
              "       'Average Grade 8 Math Proficiency', 'Percent English Language Learners',\n",
              "       'Percent Students with Disabilities', 'Percent Self-Contained',\n",
              "       'Economic Need Index', 'Percent Overage/Undercredited',\n",
              "       'Percent in Temp Housing', 'Percent HRA Eligible', 'Percent Asian',\n",
              "       'Percent Black', 'Percent Hispanic', 'Percent White',\n",
              "       'Years of principal experience at this school',\n",
              "       'Percent of teachers with 3 or more years of experience',\n",
              "       'Student Attendance Rate', 'Percent of Students Chronically Absent',\n",
              "       'Teacher Attendance Rate'],\n",
              "      dtype='object')"
            ]
          },
          "metadata": {
            "tags": []
          },
          "execution_count": 23
        }
      ]
    },
    {
      "cell_type": "code",
      "metadata": {
        "colab": {
          "base_uri": "https://localhost:8080/",
          "height": 585
        },
        "id": "fgrb7P03LBL4",
        "outputId": "fa2d7e69-5a1b-4af3-8a32-4e5c47164032"
      },
      "source": [
        "df_1516.head()"
      ],
      "execution_count": 24,
      "outputs": [
        {
          "output_type": "execute_result",
          "data": {
            "text/html": [
              "<div>\n",
              "<style scoped>\n",
              "    .dataframe tbody tr th:only-of-type {\n",
              "        vertical-align: middle;\n",
              "    }\n",
              "\n",
              "    .dataframe tbody tr th {\n",
              "        vertical-align: top;\n",
              "    }\n",
              "\n",
              "    .dataframe thead th {\n",
              "        text-align: right;\n",
              "    }\n",
              "</style>\n",
              "<table border=\"1\" class=\"dataframe\">\n",
              "  <thead>\n",
              "    <tr style=\"text-align: right;\">\n",
              "      <th></th>\n",
              "      <th>DBN</th>\n",
              "      <th>School Name</th>\n",
              "      <th>School Type</th>\n",
              "      <th>Enrollment</th>\n",
              "      <th>Rigorous Instruction Rating</th>\n",
              "      <th>Collaborative Teachers Rating</th>\n",
              "      <th>Supportive Environment Rating</th>\n",
              "      <th>Effective School Leadership Rating</th>\n",
              "      <th>Strong Family-Community Ties Rating</th>\n",
              "      <th>Trust Rating</th>\n",
              "      <th>Student Achievement Rating</th>\n",
              "      <th>Rigorous Instruction - Percent Positive</th>\n",
              "      <th>Collaborative Teachers - Percent Positive</th>\n",
              "      <th>Supportive Environment - Percent Positive</th>\n",
              "      <th>Effective School Leadership - Percent Positive</th>\n",
              "      <th>Strong Family-Community Ties - Percent Positive</th>\n",
              "      <th>Trust - Percent Positive</th>\n",
              "      <th>Quality Review - How interesting and challenging is the curriculum?</th>\n",
              "      <th>Quality Review - How effective is the teaching and learning?</th>\n",
              "      <th>Quality Review - How well does the school assess what students are learning?</th>\n",
              "      <th>Quality Review - How clearly are high expectations communicated to students and staff?</th>\n",
              "      <th>Quality Review - How well do teachers work with each other?</th>\n",
              "      <th>Quality Review - Dates of Review</th>\n",
              "      <th>Average Grade 8 English Proficiency</th>\n",
              "      <th>Average Grade 8 Math Proficiency</th>\n",
              "      <th>Percent English Language Learners</th>\n",
              "      <th>Percent Students with Disabilities</th>\n",
              "      <th>Percent Self-Contained</th>\n",
              "      <th>Economic Need Index</th>\n",
              "      <th>Percent Overage/Undercredited</th>\n",
              "      <th>Percent in Temp Housing</th>\n",
              "      <th>Percent HRA Eligible</th>\n",
              "      <th>Percent Asian</th>\n",
              "      <th>Percent Black</th>\n",
              "      <th>Percent Hispanic</th>\n",
              "      <th>Percent White</th>\n",
              "      <th>Years of principal experience at this school</th>\n",
              "      <th>Percent of teachers with 3 or more years of experience</th>\n",
              "      <th>Student Attendance Rate</th>\n",
              "      <th>Percent of Students Chronically Absent</th>\n",
              "      <th>Teacher Attendance Rate</th>\n",
              "    </tr>\n",
              "  </thead>\n",
              "  <tbody>\n",
              "    <tr>\n",
              "      <th>0</th>\n",
              "      <td>01M292</td>\n",
              "      <td>Henry Street School for International Studies</td>\n",
              "      <td>High School</td>\n",
              "      <td>160</td>\n",
              "      <td>Approaching Target</td>\n",
              "      <td>Meeting Target</td>\n",
              "      <td>Approaching Target</td>\n",
              "      <td>Meeting Target</td>\n",
              "      <td>Meeting Target</td>\n",
              "      <td>Meeting Target</td>\n",
              "      <td>Approaching Target</td>\n",
              "      <td>0.80</td>\n",
              "      <td>0.76</td>\n",
              "      <td>0.73</td>\n",
              "      <td>0.89</td>\n",
              "      <td>0.83</td>\n",
              "      <td>0.91</td>\n",
              "      <td>Developing</td>\n",
              "      <td>Developing</td>\n",
              "      <td>Developing</td>\n",
              "      <td>Proficient</td>\n",
              "      <td>Proficient</td>\n",
              "      <td>May 3, 2016</td>\n",
              "      <td>2.31</td>\n",
              "      <td>2.09</td>\n",
              "      <td>0.150</td>\n",
              "      <td>0.319</td>\n",
              "      <td>0.013</td>\n",
              "      <td>0.881</td>\n",
              "      <td>0.113</td>\n",
              "      <td>0.225</td>\n",
              "      <td>0.638</td>\n",
              "      <td>0.131</td>\n",
              "      <td>0.225</td>\n",
              "      <td>0.600</td>\n",
              "      <td>0.038</td>\n",
              "      <td>0.9</td>\n",
              "      <td>0.591</td>\n",
              "      <td>0.811</td>\n",
              "      <td>0.524</td>\n",
              "      <td>0.972</td>\n",
              "    </tr>\n",
              "    <tr>\n",
              "      <th>1</th>\n",
              "      <td>01M448</td>\n",
              "      <td>University Neighborhood High School</td>\n",
              "      <td>High School</td>\n",
              "      <td>343</td>\n",
              "      <td>Exceeding Target</td>\n",
              "      <td>Meeting Target</td>\n",
              "      <td>Exceeding Target</td>\n",
              "      <td>Exceeding Target</td>\n",
              "      <td>Meeting Target</td>\n",
              "      <td>Meeting Target</td>\n",
              "      <td>Exceeding Target</td>\n",
              "      <td>0.91</td>\n",
              "      <td>0.91</td>\n",
              "      <td>0.76</td>\n",
              "      <td>0.95</td>\n",
              "      <td>0.85</td>\n",
              "      <td>0.92</td>\n",
              "      <td>Well Developed</td>\n",
              "      <td>Proficient</td>\n",
              "      <td>Proficient</td>\n",
              "      <td>Well Developed</td>\n",
              "      <td>Proficient</td>\n",
              "      <td>2015-04-21T00:00:00.000</td>\n",
              "      <td>2.60</td>\n",
              "      <td>2.54</td>\n",
              "      <td>0.137</td>\n",
              "      <td>0.198</td>\n",
              "      <td>0.009</td>\n",
              "      <td>0.771</td>\n",
              "      <td>0.111</td>\n",
              "      <td>0.198</td>\n",
              "      <td>0.548</td>\n",
              "      <td>0.280</td>\n",
              "      <td>0.274</td>\n",
              "      <td>0.414</td>\n",
              "      <td>0.029</td>\n",
              "      <td>6.5</td>\n",
              "      <td>0.577</td>\n",
              "      <td>0.908</td>\n",
              "      <td>0.256</td>\n",
              "      <td>0.966</td>\n",
              "    </tr>\n",
              "    <tr>\n",
              "      <th>2</th>\n",
              "      <td>01M450</td>\n",
              "      <td>East Side Community School</td>\n",
              "      <td>High School</td>\n",
              "      <td>386</td>\n",
              "      <td>Exceeding Target</td>\n",
              "      <td>Exceeding Target</td>\n",
              "      <td>Exceeding Target</td>\n",
              "      <td>Exceeding Target</td>\n",
              "      <td>Exceeding Target</td>\n",
              "      <td>Exceeding Target</td>\n",
              "      <td>Meeting Target</td>\n",
              "      <td>0.92</td>\n",
              "      <td>0.94</td>\n",
              "      <td>0.84</td>\n",
              "      <td>0.96</td>\n",
              "      <td>0.94</td>\n",
              "      <td>0.95</td>\n",
              "      <td>Well Developed</td>\n",
              "      <td>Proficient</td>\n",
              "      <td>Well Developed</td>\n",
              "      <td>Well Developed</td>\n",
              "      <td>Well Developed</td>\n",
              "      <td>2015-05-26T00:00:00.000</td>\n",
              "      <td>2.97</td>\n",
              "      <td>2.93</td>\n",
              "      <td>0.016</td>\n",
              "      <td>0.236</td>\n",
              "      <td>0.005</td>\n",
              "      <td>0.591</td>\n",
              "      <td>0.003</td>\n",
              "      <td>0.057</td>\n",
              "      <td>0.420</td>\n",
              "      <td>0.122</td>\n",
              "      <td>0.210</td>\n",
              "      <td>0.554</td>\n",
              "      <td>0.083</td>\n",
              "      <td>14.8</td>\n",
              "      <td>0.820</td>\n",
              "      <td>0.927</td>\n",
              "      <td>0.198</td>\n",
              "      <td>0.975</td>\n",
              "    </tr>\n",
              "    <tr>\n",
              "      <th>3</th>\n",
              "      <td>01M509</td>\n",
              "      <td>Marta Valle High School</td>\n",
              "      <td>High School</td>\n",
              "      <td>272</td>\n",
              "      <td>Approaching Target</td>\n",
              "      <td>Meeting Target</td>\n",
              "      <td>Approaching Target</td>\n",
              "      <td>Not Meeting Target</td>\n",
              "      <td>Meeting Target</td>\n",
              "      <td>Approaching Target</td>\n",
              "      <td>Approaching Target</td>\n",
              "      <td>0.74</td>\n",
              "      <td>0.69</td>\n",
              "      <td>0.64</td>\n",
              "      <td>0.64</td>\n",
              "      <td>0.82</td>\n",
              "      <td>0.75</td>\n",
              "      <td>Developing</td>\n",
              "      <td>Developing</td>\n",
              "      <td>Developing</td>\n",
              "      <td>Developing</td>\n",
              "      <td>Proficient</td>\n",
              "      <td>2015-01-08T00:00:00.000</td>\n",
              "      <td>2.54</td>\n",
              "      <td>2.24</td>\n",
              "      <td>0.081</td>\n",
              "      <td>0.279</td>\n",
              "      <td>0.063</td>\n",
              "      <td>0.794</td>\n",
              "      <td>0.114</td>\n",
              "      <td>0.154</td>\n",
              "      <td>0.643</td>\n",
              "      <td>0.033</td>\n",
              "      <td>0.423</td>\n",
              "      <td>0.522</td>\n",
              "      <td>0.018</td>\n",
              "      <td>1.0</td>\n",
              "      <td>0.741</td>\n",
              "      <td>0.803</td>\n",
              "      <td>0.615</td>\n",
              "      <td>0.961</td>\n",
              "    </tr>\n",
              "    <tr>\n",
              "      <th>4</th>\n",
              "      <td>01M539</td>\n",
              "      <td>New Explorations into Science, Technology and ...</td>\n",
              "      <td>High School</td>\n",
              "      <td>655</td>\n",
              "      <td>Exceeding Target</td>\n",
              "      <td>Approaching Target</td>\n",
              "      <td>Meeting Target</td>\n",
              "      <td>Not Meeting Target</td>\n",
              "      <td>Meeting Target</td>\n",
              "      <td>Approaching Target</td>\n",
              "      <td>Exceeding Target</td>\n",
              "      <td>0.79</td>\n",
              "      <td>0.65</td>\n",
              "      <td>0.74</td>\n",
              "      <td>0.61</td>\n",
              "      <td>0.90</td>\n",
              "      <td>0.75</td>\n",
              "      <td>Well Developed</td>\n",
              "      <td>Well Developed</td>\n",
              "      <td>Well Developed</td>\n",
              "      <td>Well Developed</td>\n",
              "      <td>Proficient</td>\n",
              "      <td>February 5, 2015</td>\n",
              "      <td>3.72</td>\n",
              "      <td>3.83</td>\n",
              "      <td>0.002</td>\n",
              "      <td>0.060</td>\n",
              "      <td>0.000</td>\n",
              "      <td>0.278</td>\n",
              "      <td>0.012</td>\n",
              "      <td>0.032</td>\n",
              "      <td>0.232</td>\n",
              "      <td>0.359</td>\n",
              "      <td>0.119</td>\n",
              "      <td>0.179</td>\n",
              "      <td>0.310</td>\n",
              "      <td>1.0</td>\n",
              "      <td>0.574</td>\n",
              "      <td>0.940</td>\n",
              "      <td>0.146</td>\n",
              "      <td>0.962</td>\n",
              "    </tr>\n",
              "  </tbody>\n",
              "</table>\n",
              "</div>"
            ],
            "text/plain": [
              "      DBN  ... Teacher Attendance Rate\n",
              "0  01M292  ...                   0.972\n",
              "1  01M448  ...                   0.966\n",
              "2  01M450  ...                   0.975\n",
              "3  01M509  ...                   0.961\n",
              "4  01M539  ...                   0.962\n",
              "\n",
              "[5 rows x 41 columns]"
            ]
          },
          "metadata": {
            "tags": []
          },
          "execution_count": 24
        }
      ]
    },
    {
      "cell_type": "markdown",
      "metadata": {
        "id": "kba5GmyjXrqx"
      },
      "source": [
        "Check and treatment of Nulls"
      ]
    },
    {
      "cell_type": "code",
      "metadata": {
        "colab": {
          "base_uri": "https://localhost:8080/",
          "height": 666
        },
        "id": "QqkYziEudXh7",
        "outputId": "f413bcf4-ccba-4101-8ad2-7d9b6a832907"
      },
      "source": [
        "full_df.head()"
      ],
      "execution_count": 25,
      "outputs": [
        {
          "output_type": "execute_result",
          "data": {
            "text/html": [
              "<div>\n",
              "<style scoped>\n",
              "    .dataframe tbody tr th:only-of-type {\n",
              "        vertical-align: middle;\n",
              "    }\n",
              "\n",
              "    .dataframe tbody tr th {\n",
              "        vertical-align: top;\n",
              "    }\n",
              "\n",
              "    .dataframe thead th {\n",
              "        text-align: right;\n",
              "    }\n",
              "</style>\n",
              "<table border=\"1\" class=\"dataframe\">\n",
              "  <thead>\n",
              "    <tr style=\"text-align: right;\">\n",
              "      <th></th>\n",
              "      <th>DBN</th>\n",
              "      <th>School Name_1415</th>\n",
              "      <th>School Type_1415</th>\n",
              "      <th>Enrollment_1415</th>\n",
              "      <th>Rigorous Instruction Rating_1415</th>\n",
              "      <th>Collaborative Teachers Rating_1415</th>\n",
              "      <th>Supportive Environment Rating_1415</th>\n",
              "      <th>Effective School Leadership Rating_1415</th>\n",
              "      <th>Strong Family-Community Ties Rating_1415</th>\n",
              "      <th>Trust Rating_1415</th>\n",
              "      <th>Student Achievement Rating_1415</th>\n",
              "      <th>Rigorous Instruction - Percent Positive_1415</th>\n",
              "      <th>Collaborative Teachers - Percent Positive_1415</th>\n",
              "      <th>Supportive Environment - Percent Positive_1415</th>\n",
              "      <th>Effective School Leadership - Percent Positive_1415</th>\n",
              "      <th>Strong Family-Community Ties - Percent Positive_1415</th>\n",
              "      <th>Trust - Percent Positive_1415</th>\n",
              "      <th>Quality Review - How interesting and challenging is the curriculum?_1415</th>\n",
              "      <th>Quality Review - How effective is the teaching and learning?_1415</th>\n",
              "      <th>Quality Review - How well does the school assess what students are learning?_1415</th>\n",
              "      <th>Quality Review - How well do teachers work with each other?_1415</th>\n",
              "      <th>Quality Review - How clearly are high expectations communicated to students and staff?_1415</th>\n",
              "      <th>Quality Review - Dates of Review_1415</th>\n",
              "      <th>Average Grade 8 English Proficiency_1415</th>\n",
              "      <th>Average Grade 8 Math Proficiency_1415</th>\n",
              "      <th>Percent English Language Learners_1415</th>\n",
              "      <th>Percent Students with Disabilities_1415</th>\n",
              "      <th>Percent Self-Contained_1415</th>\n",
              "      <th>Economic Need Index_1415</th>\n",
              "      <th>Percent in Temp Housing_1415</th>\n",
              "      <th>Percent HRA Eligible_1415</th>\n",
              "      <th>Percent Asian_1415</th>\n",
              "      <th>Percent Black_1415</th>\n",
              "      <th>Percent Hispanic_1415</th>\n",
              "      <th>Percent White_1415</th>\n",
              "      <th>Years of principal experience at this school_1415</th>\n",
              "      <th>Percent of teachers with 3 or more years of experience_1415</th>\n",
              "      <th>Student Attendance Rate_1415</th>\n",
              "      <th>Percent of Students Chronically Absent_1415</th>\n",
              "      <th>Teacher Attendance Rate_1415</th>\n",
              "      <th>...</th>\n",
              "      <th>Supportive Environment Rating_1718</th>\n",
              "      <th>Effective School Leadership Rating_1718</th>\n",
              "      <th>Strong Family-Community Ties Rating_1718</th>\n",
              "      <th>Trust Rating_1718</th>\n",
              "      <th>Student Achievement Rating_1718</th>\n",
              "      <th>Rigorous Instruction - Percent Positive_1718</th>\n",
              "      <th>Collaborative Teachers - Percent Positive_1718</th>\n",
              "      <th>Supportive Environment - Percent Positive_1718</th>\n",
              "      <th>Effective School Leadership - Percent Positive_1718</th>\n",
              "      <th>Strong Family-Community Ties - Percent Positive_1718</th>\n",
              "      <th>Trust - Percent Positive_1718</th>\n",
              "      <th>Quality Review - How interesting and challenging is the curriculum?_1718</th>\n",
              "      <th>Quality Review - How effective is the teaching and learning?_1718</th>\n",
              "      <th>Quality Review - How well does the school assess what students are learning?_1718</th>\n",
              "      <th>Quality Review - How clearly are high expectations communicated to students and staff?_1718</th>\n",
              "      <th>Quality Review - How well do teachers work with each other?_1718</th>\n",
              "      <th>Quality Review - How safe and inclusive is the school while supporting social-emotional growth?_1718</th>\n",
              "      <th>Quality Review - How well does the school allocate and manage resources?_1718</th>\n",
              "      <th>Quality Review - How well does the school identify, track, and meet its goals?_1718</th>\n",
              "      <th>Quality Review - How thoughtful is the school’s approach to teacher development and evaluation?_1718</th>\n",
              "      <th>Quality Review - How well are school decisions evaluated and adjusted?_1718</th>\n",
              "      <th>Quality Review - Dates of Review_1718</th>\n",
              "      <th>Average Grade 8 English Proficiency_1718</th>\n",
              "      <th>Average Grade 8 Math Proficiency_1718</th>\n",
              "      <th>Percent English Language Learners_1718</th>\n",
              "      <th>Percent Students with Disabilities_1718</th>\n",
              "      <th>Percent Self-Contained_1718</th>\n",
              "      <th>Economic Need Index_1718</th>\n",
              "      <th>Percent Overage/Undercredited_y</th>\n",
              "      <th>Percent in Temp Housing_1718</th>\n",
              "      <th>Percent HRA Eligible_1718</th>\n",
              "      <th>Percent Asian_1718</th>\n",
              "      <th>Percent Black_1718</th>\n",
              "      <th>Percent Hispanic_1718</th>\n",
              "      <th>Percent White_1718</th>\n",
              "      <th>Years of principal experience at this school_1718</th>\n",
              "      <th>Percent of teachers with 3 or more years of experience_1718</th>\n",
              "      <th>Student Attendance Rate_1718</th>\n",
              "      <th>Percent of Students Chronically Absent_1718</th>\n",
              "      <th>Teacher Attendance Rate_1718</th>\n",
              "    </tr>\n",
              "  </thead>\n",
              "  <tbody>\n",
              "    <tr>\n",
              "      <th>0</th>\n",
              "      <td>01M292</td>\n",
              "      <td>Henry Street School for International Studies</td>\n",
              "      <td>High School</td>\n",
              "      <td>255.0</td>\n",
              "      <td>Not Meeting Target</td>\n",
              "      <td>Approaching Target</td>\n",
              "      <td>Approaching Target</td>\n",
              "      <td>Approaching Target</td>\n",
              "      <td>Approaching Target</td>\n",
              "      <td>Meeting Target</td>\n",
              "      <td>Meeting Target</td>\n",
              "      <td>0.72</td>\n",
              "      <td>0.77</td>\n",
              "      <td>0.77</td>\n",
              "      <td>0.72</td>\n",
              "      <td>0.76</td>\n",
              "      <td>0.87</td>\n",
              "      <td>Developing</td>\n",
              "      <td>Developing</td>\n",
              "      <td>Developing</td>\n",
              "      <td>Developing</td>\n",
              "      <td>Developing</td>\n",
              "      <td>2015-05-01 00:00:00</td>\n",
              "      <td>2.18</td>\n",
              "      <td>2.06</td>\n",
              "      <td>0.127</td>\n",
              "      <td>0.298</td>\n",
              "      <td>0.015</td>\n",
              "      <td>0.832</td>\n",
              "      <td>0.190</td>\n",
              "      <td>0.663</td>\n",
              "      <td>0.132</td>\n",
              "      <td>0.244</td>\n",
              "      <td>0.566</td>\n",
              "      <td>0.039</td>\n",
              "      <td>3.0</td>\n",
              "      <td>0.667</td>\n",
              "      <td>0.766</td>\n",
              "      <td>0.568</td>\n",
              "      <td>0.971</td>\n",
              "      <td>...</td>\n",
              "      <td>Meeting Target</td>\n",
              "      <td>Meeting Target</td>\n",
              "      <td>Meeting Target</td>\n",
              "      <td>Exceeding Target</td>\n",
              "      <td>Meeting Target</td>\n",
              "      <td>0.82</td>\n",
              "      <td>0.87</td>\n",
              "      <td>0.78</td>\n",
              "      <td>0.91</td>\n",
              "      <td>0.85</td>\n",
              "      <td>0.92</td>\n",
              "      <td>Proficient</td>\n",
              "      <td>Proficient</td>\n",
              "      <td>Proficient</td>\n",
              "      <td>Proficient</td>\n",
              "      <td>Proficient</td>\n",
              "      <td>Well Developed</td>\n",
              "      <td>Proficient</td>\n",
              "      <td>Proficient</td>\n",
              "      <td>Well Developed</td>\n",
              "      <td>Proficient</td>\n",
              "      <td>04/01/2017 12:00:00 AM</td>\n",
              "      <td>2.75</td>\n",
              "      <td>2.28</td>\n",
              "      <td>0.135</td>\n",
              "      <td>0.240</td>\n",
              "      <td>0.012</td>\n",
              "      <td>0.898</td>\n",
              "      <td>0.047</td>\n",
              "      <td>0.205</td>\n",
              "      <td>0.813</td>\n",
              "      <td>0.117</td>\n",
              "      <td>0.246</td>\n",
              "      <td>0.567</td>\n",
              "      <td>0.047</td>\n",
              "      <td>2.9</td>\n",
              "      <td>0.684</td>\n",
              "      <td>0.886</td>\n",
              "      <td>0.364</td>\n",
              "      <td>0.965</td>\n",
              "    </tr>\n",
              "    <tr>\n",
              "      <th>1</th>\n",
              "      <td>01M448</td>\n",
              "      <td>University Neighborhood High School</td>\n",
              "      <td>High School</td>\n",
              "      <td>304.0</td>\n",
              "      <td>Meeting Target</td>\n",
              "      <td>Meeting Target</td>\n",
              "      <td>Exceeding Target</td>\n",
              "      <td>Exceeding Target</td>\n",
              "      <td>Meeting Target</td>\n",
              "      <td>Exceeding Target</td>\n",
              "      <td>Exceeding Target</td>\n",
              "      <td>0.85</td>\n",
              "      <td>0.95</td>\n",
              "      <td>0.87</td>\n",
              "      <td>0.93</td>\n",
              "      <td>0.79</td>\n",
              "      <td>0.95</td>\n",
              "      <td>Well Developed</td>\n",
              "      <td>Proficient</td>\n",
              "      <td>Proficient</td>\n",
              "      <td>Well Developed</td>\n",
              "      <td>Proficient</td>\n",
              "      <td>2015-04-21 00:00:00</td>\n",
              "      <td>2.27</td>\n",
              "      <td>2.37</td>\n",
              "      <td>0.194</td>\n",
              "      <td>0.220</td>\n",
              "      <td>0.003</td>\n",
              "      <td>0.812</td>\n",
              "      <td>0.263</td>\n",
              "      <td>0.599</td>\n",
              "      <td>0.299</td>\n",
              "      <td>0.250</td>\n",
              "      <td>0.411</td>\n",
              "      <td>0.033</td>\n",
              "      <td>5.5</td>\n",
              "      <td>0.696</td>\n",
              "      <td>0.880</td>\n",
              "      <td>0.347</td>\n",
              "      <td>0.971</td>\n",
              "      <td>...</td>\n",
              "      <td>Exceeding Target</td>\n",
              "      <td>Exceeding Target</td>\n",
              "      <td>Exceeding Target</td>\n",
              "      <td>Exceeding Target</td>\n",
              "      <td>Meeting Target</td>\n",
              "      <td>0.87</td>\n",
              "      <td>0.93</td>\n",
              "      <td>0.82</td>\n",
              "      <td>0.95</td>\n",
              "      <td>0.87</td>\n",
              "      <td>0.94</td>\n",
              "      <td>Well Developed</td>\n",
              "      <td>Proficient</td>\n",
              "      <td>Proficient</td>\n",
              "      <td>Well Developed</td>\n",
              "      <td>Proficient</td>\n",
              "      <td>NaN</td>\n",
              "      <td>NaN</td>\n",
              "      <td>NaN</td>\n",
              "      <td>NaN</td>\n",
              "      <td>NaN</td>\n",
              "      <td>04/21/2015 12:00:00 AM</td>\n",
              "      <td>2.96</td>\n",
              "      <td>2.86</td>\n",
              "      <td>0.105</td>\n",
              "      <td>0.172</td>\n",
              "      <td>0.002</td>\n",
              "      <td>0.825</td>\n",
              "      <td>0.062</td>\n",
              "      <td>0.189</td>\n",
              "      <td>0.738</td>\n",
              "      <td>0.303</td>\n",
              "      <td>0.215</td>\n",
              "      <td>0.443</td>\n",
              "      <td>0.032</td>\n",
              "      <td>8.5</td>\n",
              "      <td>0.419</td>\n",
              "      <td>0.922</td>\n",
              "      <td>0.252</td>\n",
              "      <td>0.968</td>\n",
              "    </tr>\n",
              "    <tr>\n",
              "      <th>2</th>\n",
              "      <td>01M450</td>\n",
              "      <td>East Side Community School</td>\n",
              "      <td>High School</td>\n",
              "      <td>666.0</td>\n",
              "      <td>Exceeding Target</td>\n",
              "      <td>Exceeding Target</td>\n",
              "      <td>Exceeding Target</td>\n",
              "      <td>Exceeding Target</td>\n",
              "      <td>Exceeding Target</td>\n",
              "      <td>Exceeding Target</td>\n",
              "      <td>Exceeding Target</td>\n",
              "      <td>0.92</td>\n",
              "      <td>0.95</td>\n",
              "      <td>0.92</td>\n",
              "      <td>0.96</td>\n",
              "      <td>0.88</td>\n",
              "      <td>0.95</td>\n",
              "      <td>Well Developed</td>\n",
              "      <td>Proficient</td>\n",
              "      <td>Well Developed</td>\n",
              "      <td>Well Developed</td>\n",
              "      <td>Well Developed</td>\n",
              "      <td>2015-05-26 00:00:00</td>\n",
              "      <td>2.66</td>\n",
              "      <td>2.63</td>\n",
              "      <td>0.018</td>\n",
              "      <td>0.234</td>\n",
              "      <td>0.000</td>\n",
              "      <td>0.610</td>\n",
              "      <td>0.057</td>\n",
              "      <td>0.447</td>\n",
              "      <td>0.094</td>\n",
              "      <td>0.221</td>\n",
              "      <td>0.579</td>\n",
              "      <td>0.083</td>\n",
              "      <td>13.8</td>\n",
              "      <td>0.784</td>\n",
              "      <td>0.938</td>\n",
              "      <td>0.165</td>\n",
              "      <td>0.961</td>\n",
              "      <td>...</td>\n",
              "      <td>Exceeding Target</td>\n",
              "      <td>Exceeding Target</td>\n",
              "      <td>Exceeding Target</td>\n",
              "      <td>Exceeding Target</td>\n",
              "      <td>Meeting Target</td>\n",
              "      <td>0.87</td>\n",
              "      <td>0.89</td>\n",
              "      <td>0.83</td>\n",
              "      <td>0.93</td>\n",
              "      <td>0.96</td>\n",
              "      <td>0.94</td>\n",
              "      <td>Well Developed</td>\n",
              "      <td>Proficient</td>\n",
              "      <td>Well Developed</td>\n",
              "      <td>Well Developed</td>\n",
              "      <td>Well Developed</td>\n",
              "      <td>NaN</td>\n",
              "      <td>NaN</td>\n",
              "      <td>NaN</td>\n",
              "      <td>NaN</td>\n",
              "      <td>NaN</td>\n",
              "      <td>05/26/2015 12:00:00 AM</td>\n",
              "      <td>3.14</td>\n",
              "      <td>3.11</td>\n",
              "      <td>0.010</td>\n",
              "      <td>0.234</td>\n",
              "      <td>0.000</td>\n",
              "      <td>0.648</td>\n",
              "      <td>0.013</td>\n",
              "      <td>0.052</td>\n",
              "      <td>0.496</td>\n",
              "      <td>0.122</td>\n",
              "      <td>0.195</td>\n",
              "      <td>0.543</td>\n",
              "      <td>0.106</td>\n",
              "      <td>16.8</td>\n",
              "      <td>0.796</td>\n",
              "      <td>0.940</td>\n",
              "      <td>0.174</td>\n",
              "      <td>0.989</td>\n",
              "    </tr>\n",
              "    <tr>\n",
              "      <th>3</th>\n",
              "      <td>01M509</td>\n",
              "      <td>Marta Valle High School</td>\n",
              "      <td>High School</td>\n",
              "      <td>363.0</td>\n",
              "      <td>Approaching Target</td>\n",
              "      <td>Approaching Target</td>\n",
              "      <td>Approaching Target</td>\n",
              "      <td>Approaching Target</td>\n",
              "      <td>Approaching Target</td>\n",
              "      <td>Approaching Target</td>\n",
              "      <td>Approaching Target</td>\n",
              "      <td>0.86</td>\n",
              "      <td>0.76</td>\n",
              "      <td>0.81</td>\n",
              "      <td>0.69</td>\n",
              "      <td>0.70</td>\n",
              "      <td>0.82</td>\n",
              "      <td>Developing</td>\n",
              "      <td>Developing</td>\n",
              "      <td>Developing</td>\n",
              "      <td>Developing</td>\n",
              "      <td>Proficient</td>\n",
              "      <td>2015-01-08 00:00:00</td>\n",
              "      <td>2.28</td>\n",
              "      <td>2.09</td>\n",
              "      <td>0.091</td>\n",
              "      <td>0.284</td>\n",
              "      <td>0.146</td>\n",
              "      <td>0.767</td>\n",
              "      <td>0.149</td>\n",
              "      <td>0.595</td>\n",
              "      <td>0.058</td>\n",
              "      <td>0.399</td>\n",
              "      <td>0.512</td>\n",
              "      <td>0.025</td>\n",
              "      <td>1.9</td>\n",
              "      <td>0.690</td>\n",
              "      <td>0.768</td>\n",
              "      <td>0.647</td>\n",
              "      <td>0.971</td>\n",
              "      <td>...</td>\n",
              "      <td>Approaching Target</td>\n",
              "      <td>Meeting Target</td>\n",
              "      <td>NaN</td>\n",
              "      <td>NaN</td>\n",
              "      <td>Approaching Target</td>\n",
              "      <td>0.64</td>\n",
              "      <td>0.88</td>\n",
              "      <td>0.61</td>\n",
              "      <td>0.94</td>\n",
              "      <td>0.83</td>\n",
              "      <td>0.86</td>\n",
              "      <td>Developing</td>\n",
              "      <td>Developing</td>\n",
              "      <td>Developing</td>\n",
              "      <td>Proficient</td>\n",
              "      <td>Developing</td>\n",
              "      <td>Proficient</td>\n",
              "      <td>Proficient</td>\n",
              "      <td>Proficient</td>\n",
              "      <td>Proficient</td>\n",
              "      <td>Proficient</td>\n",
              "      <td>12/01/2016 12:00:00 AM</td>\n",
              "      <td>2.71</td>\n",
              "      <td>2.27</td>\n",
              "      <td>0.068</td>\n",
              "      <td>0.257</td>\n",
              "      <td>0.047</td>\n",
              "      <td>0.823</td>\n",
              "      <td>0.081</td>\n",
              "      <td>0.162</td>\n",
              "      <td>0.743</td>\n",
              "      <td>0.047</td>\n",
              "      <td>0.318</td>\n",
              "      <td>0.595</td>\n",
              "      <td>0.027</td>\n",
              "      <td>3.0</td>\n",
              "      <td>0.429</td>\n",
              "      <td>0.798</td>\n",
              "      <td>0.631</td>\n",
              "      <td>0.967</td>\n",
              "    </tr>\n",
              "    <tr>\n",
              "      <th>4</th>\n",
              "      <td>01M539</td>\n",
              "      <td>New Explorations into Science, Technology and ...</td>\n",
              "      <td>High School</td>\n",
              "      <td>1735.0</td>\n",
              "      <td>Exceeding Target</td>\n",
              "      <td>Approaching Target</td>\n",
              "      <td>Meeting Target</td>\n",
              "      <td>Not Meeting Target</td>\n",
              "      <td>Approaching Target</td>\n",
              "      <td>Not Meeting Target</td>\n",
              "      <td>Exceeding Target</td>\n",
              "      <td>0.81</td>\n",
              "      <td>0.73</td>\n",
              "      <td>0.85</td>\n",
              "      <td>0.55</td>\n",
              "      <td>0.81</td>\n",
              "      <td>0.74</td>\n",
              "      <td>Well Developed</td>\n",
              "      <td>Well Developed</td>\n",
              "      <td>Well Developed</td>\n",
              "      <td>Well Developed</td>\n",
              "      <td>Proficient</td>\n",
              "      <td>2015-02-05 00:00:00</td>\n",
              "      <td>3.50</td>\n",
              "      <td>3.53</td>\n",
              "      <td>0.002</td>\n",
              "      <td>0.043</td>\n",
              "      <td>0.000</td>\n",
              "      <td>0.257</td>\n",
              "      <td>0.029</td>\n",
              "      <td>0.260</td>\n",
              "      <td>0.385</td>\n",
              "      <td>0.133</td>\n",
              "      <td>0.180</td>\n",
              "      <td>0.286</td>\n",
              "      <td>9.0</td>\n",
              "      <td>0.602</td>\n",
              "      <td>0.952</td>\n",
              "      <td>0.130</td>\n",
              "      <td>0.967</td>\n",
              "      <td>...</td>\n",
              "      <td>Meeting Target</td>\n",
              "      <td>Meeting Target</td>\n",
              "      <td>Exceeding Target</td>\n",
              "      <td>Meeting Target</td>\n",
              "      <td>Exceeding Target</td>\n",
              "      <td>0.82</td>\n",
              "      <td>0.76</td>\n",
              "      <td>0.71</td>\n",
              "      <td>0.78</td>\n",
              "      <td>0.93</td>\n",
              "      <td>0.84</td>\n",
              "      <td>Well Developed</td>\n",
              "      <td>Proficient</td>\n",
              "      <td>Proficient</td>\n",
              "      <td>Well Developed</td>\n",
              "      <td>Proficient</td>\n",
              "      <td>Well Developed</td>\n",
              "      <td>Well Developed</td>\n",
              "      <td>Proficient</td>\n",
              "      <td>Proficient</td>\n",
              "      <td>Well Developed</td>\n",
              "      <td>04/01/2017 12:00:00 AM</td>\n",
              "      <td>3.75</td>\n",
              "      <td>3.86</td>\n",
              "      <td>0.005</td>\n",
              "      <td>0.144</td>\n",
              "      <td>0.000</td>\n",
              "      <td>0.434</td>\n",
              "      <td>0.017</td>\n",
              "      <td>0.036</td>\n",
              "      <td>0.311</td>\n",
              "      <td>0.294</td>\n",
              "      <td>0.131</td>\n",
              "      <td>0.189</td>\n",
              "      <td>0.352</td>\n",
              "      <td>3.0</td>\n",
              "      <td>0.639</td>\n",
              "      <td>0.952</td>\n",
              "      <td>0.120</td>\n",
              "      <td>0.969</td>\n",
              "    </tr>\n",
              "  </tbody>\n",
              "</table>\n",
              "<p>5 rows × 170 columns</p>\n",
              "</div>"
            ],
            "text/plain": [
              "      DBN  ... Teacher Attendance Rate_1718\n",
              "0  01M292  ...                        0.965\n",
              "1  01M448  ...                        0.968\n",
              "2  01M450  ...                        0.989\n",
              "3  01M509  ...                        0.967\n",
              "4  01M539  ...                        0.969\n",
              "\n",
              "[5 rows x 170 columns]"
            ]
          },
          "metadata": {
            "tags": []
          },
          "execution_count": 25
        }
      ]
    },
    {
      "cell_type": "code",
      "metadata": {
        "colab": {
          "base_uri": "https://localhost:8080/"
        },
        "id": "0AZ0Qc7acrtd",
        "outputId": "ba8b9a2b-da32-4c00-be9b-e5179f448e49"
      },
      "source": [
        "len(full_df)"
      ],
      "execution_count": 26,
      "outputs": [
        {
          "output_type": "execute_result",
          "data": {
            "text/plain": [
              "520"
            ]
          },
          "metadata": {
            "tags": []
          },
          "execution_count": 26
        }
      ]
    },
    {
      "cell_type": "markdown",
      "metadata": {
        "id": "f75MabDOeBHC"
      },
      "source": [
        "Which Columns have the most nulls?  \n",
        "Looks like most of the columns are OK for nulls, except for Achievement Rating and Quality Review"
      ]
    },
    {
      "cell_type": "code",
      "metadata": {
        "colab": {
          "base_uri": "https://localhost:8080/"
        },
        "id": "mQmFLIwYdbUb",
        "outputId": "99bcf9b3-fcd5-4edf-b316-c66d074d6640"
      },
      "source": [
        "full_df.isna().sum().sort_values()[-20:]"
      ],
      "execution_count": 27,
      "outputs": [
        {
          "output_type": "execute_result",
          "data": {
            "text/plain": [
              "Quality Review - Dates of Review_1718                                                                    94\n",
              "Quality Review - How interesting and challenging is the curriculum?_1718                                 94\n",
              "Quality Review - How well do teachers work with each other?_1718                                         94\n",
              "Quality Review - How clearly are high expectations communicated to students and staff?_1718              94\n",
              "Quality Review - How well does the school assess what students are learning?_1718                        94\n",
              "Quality Review - How effective is the teaching and learning?_1718                                        94\n",
              "Years of principal experience at this school_1718                                                        95\n",
              "Strong Family-Community Ties Rating_1415                                                                 97\n",
              "Trust Rating_1415                                                                                        97\n",
              "Student Achievement Rating_1415                                                                         118\n",
              "Quality Review - How well does the school identify, track, and meet its goals?_1718                     241\n",
              "Quality Review - How safe and inclusive is the school while supporting social-emotional growth?_1718    241\n",
              "Quality Review - How well are school decisions evaluated and adjusted?_1718                             241\n",
              "Quality Review - How thoughtful is the school’s approach to teacher development and evaluation?_1718    241\n",
              "Quality Review - How well does the school allocate and manage resources?_1718                           241\n",
              "Quality Review - How well are school decisions evaluated and adjusted?_1617                             348\n",
              "Quality Review - How well does the school identify, track, and meet its goals?_1617                     348\n",
              "Quality Review - How well does the school allocate and manage resources?_1617                           348\n",
              "Quality Review - How safe and inclusive is the school while supporting social-emotional growth?_1617    348\n",
              "Quality Review - How thoughtful is the school’s approach to teacher development and evaluation?_1617    348\n",
              "dtype: int64"
            ]
          },
          "metadata": {
            "tags": []
          },
          "execution_count": 27
        }
      ]
    },
    {
      "cell_type": "code",
      "metadata": {
        "colab": {
          "base_uri": "https://localhost:8080/"
        },
        "id": "ZC497jKXeqFi",
        "outputId": "f41c0d06-eda7-4ffa-c397-78e0cab6b684"
      },
      "source": [
        "[col for col in full_df.columns][0:10]"
      ],
      "execution_count": 28,
      "outputs": [
        {
          "output_type": "execute_result",
          "data": {
            "text/plain": [
              "['DBN',\n",
              " 'School Name_1415',\n",
              " 'School Type_1415',\n",
              " 'Enrollment_1415',\n",
              " 'Rigorous Instruction Rating_1415',\n",
              " 'Collaborative Teachers Rating_1415',\n",
              " 'Supportive Environment Rating_1415',\n",
              " 'Effective School Leadership Rating_1415',\n",
              " 'Strong Family-Community Ties Rating_1415',\n",
              " 'Trust Rating_1415']"
            ]
          },
          "metadata": {
            "tags": []
          },
          "execution_count": 28
        }
      ]
    },
    {
      "cell_type": "markdown",
      "metadata": {
        "id": "gAQTKKUZelFo"
      },
      "source": [
        "We're looking to specifically take a look at three things: \n",
        "- 'HRA eligible', \n",
        "- 'economic need index', and \n",
        "- 'temp housing'"
      ]
    },
    {
      "cell_type": "code",
      "metadata": {
        "id": "0ikNqi1YfUCF"
      },
      "source": [
        "def ret_col(dataframe, word = \"\"):\n",
        "    return [col for col in dataframe.columns if word in col.lower()]"
      ],
      "execution_count": 29,
      "outputs": []
    },
    {
      "cell_type": "code",
      "metadata": {
        "id": "K-Ue9S2ihIcv"
      },
      "source": [
        "base_col = full_df.columns[0:3].tolist()"
      ],
      "execution_count": 30,
      "outputs": []
    },
    {
      "cell_type": "code",
      "metadata": {
        "id": "jCYs4Wzeeb0o"
      },
      "source": [
        "#HRA Eligible\n",
        "hra_elig = ret_col(full_df, 'hra')"
      ],
      "execution_count": 31,
      "outputs": []
    },
    {
      "cell_type": "code",
      "metadata": {
        "id": "HhlQm6aYfmvN"
      },
      "source": [
        "#Economic Need Index\n",
        "eco_need = ret_col(full_df, 'economic need')"
      ],
      "execution_count": 32,
      "outputs": []
    },
    {
      "cell_type": "code",
      "metadata": {
        "id": "rkNjH887fSvZ"
      },
      "source": [
        "#Temp Housing in columns\n",
        "temp_housing = ret_col(full_df, 'temp housing')"
      ],
      "execution_count": 33,
      "outputs": []
    },
    {
      "cell_type": "code",
      "metadata": {
        "colab": {
          "base_uri": "https://localhost:8080/",
          "height": 468
        },
        "id": "R9Gu048GgJ6h",
        "outputId": "71da5f74-d915-41d5-f3fc-5ac3f1072154"
      },
      "source": [
        "full_df[base_col + hra_elig + eco_need + temp_housing]"
      ],
      "execution_count": 34,
      "outputs": [
        {
          "output_type": "execute_result",
          "data": {
            "text/html": [
              "<div>\n",
              "<style scoped>\n",
              "    .dataframe tbody tr th:only-of-type {\n",
              "        vertical-align: middle;\n",
              "    }\n",
              "\n",
              "    .dataframe tbody tr th {\n",
              "        vertical-align: top;\n",
              "    }\n",
              "\n",
              "    .dataframe thead th {\n",
              "        text-align: right;\n",
              "    }\n",
              "</style>\n",
              "<table border=\"1\" class=\"dataframe\">\n",
              "  <thead>\n",
              "    <tr style=\"text-align: right;\">\n",
              "      <th></th>\n",
              "      <th>DBN</th>\n",
              "      <th>School Name_1415</th>\n",
              "      <th>School Type_1415</th>\n",
              "      <th>Percent HRA Eligible_1415</th>\n",
              "      <th>Percent HRA Eligible_1516</th>\n",
              "      <th>Percent HRA Eligible_1617</th>\n",
              "      <th>Percent HRA Eligible_1718</th>\n",
              "      <th>Economic Need Index_1415</th>\n",
              "      <th>Economic Need Index_1516</th>\n",
              "      <th>Economic Need Index_1617</th>\n",
              "      <th>Economic Need Index_1718</th>\n",
              "      <th>Percent in Temp Housing_1415</th>\n",
              "      <th>Percent in Temp Housing_1516</th>\n",
              "      <th>Percent in Temp Housing_1617</th>\n",
              "      <th>Percent in Temp Housing_1718</th>\n",
              "    </tr>\n",
              "  </thead>\n",
              "  <tbody>\n",
              "    <tr>\n",
              "      <th>0</th>\n",
              "      <td>01M292</td>\n",
              "      <td>Henry Street School for International Studies</td>\n",
              "      <td>High School</td>\n",
              "      <td>0.663</td>\n",
              "      <td>0.638</td>\n",
              "      <td>0.621</td>\n",
              "      <td>0.813</td>\n",
              "      <td>0.832</td>\n",
              "      <td>0.881</td>\n",
              "      <td>0.832</td>\n",
              "      <td>0.898</td>\n",
              "      <td>0.190</td>\n",
              "      <td>0.225</td>\n",
              "      <td>0.200</td>\n",
              "      <td>0.205</td>\n",
              "    </tr>\n",
              "    <tr>\n",
              "      <th>1</th>\n",
              "      <td>01M448</td>\n",
              "      <td>University Neighborhood High School</td>\n",
              "      <td>High School</td>\n",
              "      <td>0.599</td>\n",
              "      <td>0.548</td>\n",
              "      <td>0.538</td>\n",
              "      <td>0.738</td>\n",
              "      <td>0.812</td>\n",
              "      <td>0.771</td>\n",
              "      <td>0.757</td>\n",
              "      <td>0.825</td>\n",
              "      <td>0.263</td>\n",
              "      <td>0.198</td>\n",
              "      <td>0.173</td>\n",
              "      <td>0.189</td>\n",
              "    </tr>\n",
              "    <tr>\n",
              "      <th>2</th>\n",
              "      <td>01M450</td>\n",
              "      <td>East Side Community School</td>\n",
              "      <td>High School</td>\n",
              "      <td>0.447</td>\n",
              "      <td>0.420</td>\n",
              "      <td>0.405</td>\n",
              "      <td>0.496</td>\n",
              "      <td>0.610</td>\n",
              "      <td>0.591</td>\n",
              "      <td>0.586</td>\n",
              "      <td>0.648</td>\n",
              "      <td>0.057</td>\n",
              "      <td>0.057</td>\n",
              "      <td>0.056</td>\n",
              "      <td>0.052</td>\n",
              "    </tr>\n",
              "    <tr>\n",
              "      <th>3</th>\n",
              "      <td>01M509</td>\n",
              "      <td>Marta Valle High School</td>\n",
              "      <td>High School</td>\n",
              "      <td>0.595</td>\n",
              "      <td>0.643</td>\n",
              "      <td>0.618</td>\n",
              "      <td>0.743</td>\n",
              "      <td>0.767</td>\n",
              "      <td>0.794</td>\n",
              "      <td>0.767</td>\n",
              "      <td>0.823</td>\n",
              "      <td>0.149</td>\n",
              "      <td>0.154</td>\n",
              "      <td>0.142</td>\n",
              "      <td>0.162</td>\n",
              "    </tr>\n",
              "    <tr>\n",
              "      <th>4</th>\n",
              "      <td>01M539</td>\n",
              "      <td>New Explorations into Science, Technology and ...</td>\n",
              "      <td>High School</td>\n",
              "      <td>0.260</td>\n",
              "      <td>0.232</td>\n",
              "      <td>0.181</td>\n",
              "      <td>0.311</td>\n",
              "      <td>0.257</td>\n",
              "      <td>0.278</td>\n",
              "      <td>0.359</td>\n",
              "      <td>0.434</td>\n",
              "      <td>0.029</td>\n",
              "      <td>0.032</td>\n",
              "      <td>0.034</td>\n",
              "      <td>0.036</td>\n",
              "    </tr>\n",
              "    <tr>\n",
              "      <th>...</th>\n",
              "      <td>...</td>\n",
              "      <td>...</td>\n",
              "      <td>...</td>\n",
              "      <td>...</td>\n",
              "      <td>...</td>\n",
              "      <td>...</td>\n",
              "      <td>...</td>\n",
              "      <td>...</td>\n",
              "      <td>...</td>\n",
              "      <td>...</td>\n",
              "      <td>...</td>\n",
              "      <td>...</td>\n",
              "      <td>...</td>\n",
              "      <td>...</td>\n",
              "      <td>...</td>\n",
              "    </tr>\n",
              "    <tr>\n",
              "      <th>515</th>\n",
              "      <td>84M382</td>\n",
              "      <td>NaN</td>\n",
              "      <td>NaN</td>\n",
              "      <td>NaN</td>\n",
              "      <td>NaN</td>\n",
              "      <td>NaN</td>\n",
              "      <td>0.704</td>\n",
              "      <td>NaN</td>\n",
              "      <td>NaN</td>\n",
              "      <td>NaN</td>\n",
              "      <td>0.847</td>\n",
              "      <td>NaN</td>\n",
              "      <td>NaN</td>\n",
              "      <td>NaN</td>\n",
              "      <td>0.143</td>\n",
              "    </tr>\n",
              "    <tr>\n",
              "      <th>516</th>\n",
              "      <td>84M385</td>\n",
              "      <td>NaN</td>\n",
              "      <td>NaN</td>\n",
              "      <td>NaN</td>\n",
              "      <td>NaN</td>\n",
              "      <td>NaN</td>\n",
              "      <td>0.557</td>\n",
              "      <td>NaN</td>\n",
              "      <td>NaN</td>\n",
              "      <td>NaN</td>\n",
              "      <td>0.723</td>\n",
              "      <td>NaN</td>\n",
              "      <td>NaN</td>\n",
              "      <td>NaN</td>\n",
              "      <td>0.047</td>\n",
              "    </tr>\n",
              "    <tr>\n",
              "      <th>517</th>\n",
              "      <td>84Q373</td>\n",
              "      <td>NaN</td>\n",
              "      <td>NaN</td>\n",
              "      <td>NaN</td>\n",
              "      <td>NaN</td>\n",
              "      <td>NaN</td>\n",
              "      <td>0.651</td>\n",
              "      <td>NaN</td>\n",
              "      <td>NaN</td>\n",
              "      <td>NaN</td>\n",
              "      <td>0.728</td>\n",
              "      <td>NaN</td>\n",
              "      <td>NaN</td>\n",
              "      <td>NaN</td>\n",
              "      <td>0.116</td>\n",
              "    </tr>\n",
              "    <tr>\n",
              "      <th>518</th>\n",
              "      <td>84X461</td>\n",
              "      <td>NaN</td>\n",
              "      <td>NaN</td>\n",
              "      <td>NaN</td>\n",
              "      <td>NaN</td>\n",
              "      <td>NaN</td>\n",
              "      <td>0.714</td>\n",
              "      <td>NaN</td>\n",
              "      <td>NaN</td>\n",
              "      <td>NaN</td>\n",
              "      <td>0.843</td>\n",
              "      <td>NaN</td>\n",
              "      <td>NaN</td>\n",
              "      <td>NaN</td>\n",
              "      <td>0.061</td>\n",
              "    </tr>\n",
              "    <tr>\n",
              "      <th>519</th>\n",
              "      <td>84X471</td>\n",
              "      <td>NaN</td>\n",
              "      <td>NaN</td>\n",
              "      <td>NaN</td>\n",
              "      <td>NaN</td>\n",
              "      <td>NaN</td>\n",
              "      <td>0.779</td>\n",
              "      <td>NaN</td>\n",
              "      <td>NaN</td>\n",
              "      <td>NaN</td>\n",
              "      <td>0.926</td>\n",
              "      <td>NaN</td>\n",
              "      <td>NaN</td>\n",
              "      <td>NaN</td>\n",
              "      <td>0.116</td>\n",
              "    </tr>\n",
              "  </tbody>\n",
              "</table>\n",
              "<p>520 rows × 15 columns</p>\n",
              "</div>"
            ],
            "text/plain": [
              "        DBN  ... Percent in Temp Housing_1718\n",
              "0    01M292  ...                        0.205\n",
              "1    01M448  ...                        0.189\n",
              "2    01M450  ...                        0.052\n",
              "3    01M509  ...                        0.162\n",
              "4    01M539  ...                        0.036\n",
              "..      ...  ...                          ...\n",
              "515  84M382  ...                        0.143\n",
              "516  84M385  ...                        0.047\n",
              "517  84Q373  ...                        0.116\n",
              "518  84X461  ...                        0.061\n",
              "519  84X471  ...                        0.116\n",
              "\n",
              "[520 rows x 15 columns]"
            ]
          },
          "metadata": {
            "tags": []
          },
          "execution_count": 34
        }
      ]
    },
    {
      "cell_type": "markdown",
      "metadata": {
        "id": "3zGJ4yUviDP_"
      },
      "source": [
        "Checking to make sure that all the schools in School Type are OK here. "
      ]
    },
    {
      "cell_type": "code",
      "metadata": {
        "colab": {
          "base_uri": "https://localhost:8080/"
        },
        "id": "sxxDcT9chpcy",
        "outputId": "8c08ec79-37f5-4eeb-b982-d43d12da1f2a"
      },
      "source": [
        "full_df[ret_col(full_df, 'school type')].value_counts()"
      ],
      "execution_count": 35,
      "outputs": [
        {
          "output_type": "execute_result",
          "data": {
            "text/plain": [
              "School Type_1415  School Type_1516  School Type_1617  School Type_1718\n",
              "High School       High School       High School       High School         459\n",
              "dtype: int64"
            ]
          },
          "metadata": {
            "tags": []
          },
          "execution_count": 35
        }
      ]
    },
    {
      "cell_type": "markdown",
      "metadata": {
        "id": "ZmvVACIdhxdV"
      },
      "source": [
        "# Second Dataframe:\n",
        " A Look at general poverty statistics in New York City\n",
        "(df_all_poverty)"
      ]
    },
    {
      "cell_type": "code",
      "metadata": {
        "id": "iblgsXvEXQlA"
      },
      "source": [
        "#All Poverty Df (14-20)\n",
        "df_all_poverty = df_allpov = pd.read_csv('https://data.cityofnewyork.us/api/views/nie4-bv6q/rows.csv?accessType=DOWNLOAD')"
      ],
      "execution_count": 36,
      "outputs": []
    },
    {
      "cell_type": "code",
      "metadata": {
        "colab": {
          "base_uri": "https://localhost:8080/",
          "height": 481
        },
        "id": "rddI-stLhy-t",
        "outputId": "bff02c12-f306-40b7-bd66-ec2ef10d223c"
      },
      "source": [
        "df_all_poverty.head()"
      ],
      "execution_count": 37,
      "outputs": [
        {
          "output_type": "execute_result",
          "data": {
            "text/html": [
              "<div>\n",
              "<style scoped>\n",
              "    .dataframe tbody tr th:only-of-type {\n",
              "        vertical-align: middle;\n",
              "    }\n",
              "\n",
              "    .dataframe tbody tr th {\n",
              "        vertical-align: top;\n",
              "    }\n",
              "\n",
              "    .dataframe thead th {\n",
              "        text-align: right;\n",
              "    }\n",
              "</style>\n",
              "<table border=\"1\" class=\"dataframe\">\n",
              "  <thead>\n",
              "    <tr style=\"text-align: right;\">\n",
              "      <th></th>\n",
              "      <th>DBN</th>\n",
              "      <th>School Name</th>\n",
              "      <th>Year</th>\n",
              "      <th>Total Enrollment</th>\n",
              "      <th>Grade 3K+PK (Half Day &amp; Full Day)</th>\n",
              "      <th>Grade K</th>\n",
              "      <th>Grade 1</th>\n",
              "      <th>Grade 2</th>\n",
              "      <th>Grade 3</th>\n",
              "      <th>Grade 4</th>\n",
              "      <th>Grade 5</th>\n",
              "      <th>Grade 6</th>\n",
              "      <th>Grade 7</th>\n",
              "      <th>Grade 8</th>\n",
              "      <th>Grade 9</th>\n",
              "      <th>Grade 10</th>\n",
              "      <th>Grade 11</th>\n",
              "      <th>Grade 12</th>\n",
              "      <th># Female</th>\n",
              "      <th>% Female</th>\n",
              "      <th># Male</th>\n",
              "      <th>% Male</th>\n",
              "      <th># Asian</th>\n",
              "      <th>% Asian</th>\n",
              "      <th># Black</th>\n",
              "      <th>% Black</th>\n",
              "      <th># Hispanic</th>\n",
              "      <th>% Hispanic</th>\n",
              "      <th># Multiple Race Categories Not Represented</th>\n",
              "      <th>% Multiple Race Categories Not Represented</th>\n",
              "      <th># White</th>\n",
              "      <th>% White</th>\n",
              "      <th># Students with Disabilities</th>\n",
              "      <th>% Students with Disabilities</th>\n",
              "      <th># English Language Learners</th>\n",
              "      <th>% English Language Learners</th>\n",
              "      <th># Poverty</th>\n",
              "      <th>% Poverty</th>\n",
              "      <th>Economic Need Index</th>\n",
              "    </tr>\n",
              "  </thead>\n",
              "  <tbody>\n",
              "    <tr>\n",
              "      <th>0</th>\n",
              "      <td>01M015</td>\n",
              "      <td>P.S. 015 Roberto Clemente</td>\n",
              "      <td>2015-16</td>\n",
              "      <td>176</td>\n",
              "      <td>14</td>\n",
              "      <td>32</td>\n",
              "      <td>33</td>\n",
              "      <td>39</td>\n",
              "      <td>23</td>\n",
              "      <td>17</td>\n",
              "      <td>18</td>\n",
              "      <td>0</td>\n",
              "      <td>0</td>\n",
              "      <td>0</td>\n",
              "      <td>0</td>\n",
              "      <td>0</td>\n",
              "      <td>0</td>\n",
              "      <td>0</td>\n",
              "      <td>83</td>\n",
              "      <td>0.472</td>\n",
              "      <td>93</td>\n",
              "      <td>0.528</td>\n",
              "      <td>9</td>\n",
              "      <td>0.051</td>\n",
              "      <td>57</td>\n",
              "      <td>0.324</td>\n",
              "      <td>105</td>\n",
              "      <td>0.597</td>\n",
              "      <td>3</td>\n",
              "      <td>0.017</td>\n",
              "      <td>2</td>\n",
              "      <td>0.011</td>\n",
              "      <td>60</td>\n",
              "      <td>0.341</td>\n",
              "      <td>16</td>\n",
              "      <td>0.091</td>\n",
              "      <td>149</td>\n",
              "      <td>84.7%</td>\n",
              "      <td>88.9%</td>\n",
              "    </tr>\n",
              "    <tr>\n",
              "      <th>1</th>\n",
              "      <td>01M015</td>\n",
              "      <td>P.S. 015 Roberto Clemente</td>\n",
              "      <td>2016-17</td>\n",
              "      <td>178</td>\n",
              "      <td>17</td>\n",
              "      <td>28</td>\n",
              "      <td>33</td>\n",
              "      <td>27</td>\n",
              "      <td>31</td>\n",
              "      <td>24</td>\n",
              "      <td>18</td>\n",
              "      <td>0</td>\n",
              "      <td>0</td>\n",
              "      <td>0</td>\n",
              "      <td>0</td>\n",
              "      <td>0</td>\n",
              "      <td>0</td>\n",
              "      <td>0</td>\n",
              "      <td>83</td>\n",
              "      <td>0.466</td>\n",
              "      <td>95</td>\n",
              "      <td>0.534</td>\n",
              "      <td>14</td>\n",
              "      <td>0.079</td>\n",
              "      <td>51</td>\n",
              "      <td>0.287</td>\n",
              "      <td>105</td>\n",
              "      <td>0.590</td>\n",
              "      <td>4</td>\n",
              "      <td>0.022</td>\n",
              "      <td>4</td>\n",
              "      <td>0.022</td>\n",
              "      <td>51</td>\n",
              "      <td>0.287</td>\n",
              "      <td>12</td>\n",
              "      <td>0.067</td>\n",
              "      <td>152</td>\n",
              "      <td>85.4%</td>\n",
              "      <td>88.2%</td>\n",
              "    </tr>\n",
              "    <tr>\n",
              "      <th>2</th>\n",
              "      <td>01M015</td>\n",
              "      <td>P.S. 015 Roberto Clemente</td>\n",
              "      <td>2017-18</td>\n",
              "      <td>190</td>\n",
              "      <td>17</td>\n",
              "      <td>28</td>\n",
              "      <td>32</td>\n",
              "      <td>33</td>\n",
              "      <td>23</td>\n",
              "      <td>31</td>\n",
              "      <td>26</td>\n",
              "      <td>0</td>\n",
              "      <td>0</td>\n",
              "      <td>0</td>\n",
              "      <td>0</td>\n",
              "      <td>0</td>\n",
              "      <td>0</td>\n",
              "      <td>0</td>\n",
              "      <td>99</td>\n",
              "      <td>0.521</td>\n",
              "      <td>91</td>\n",
              "      <td>0.479</td>\n",
              "      <td>20</td>\n",
              "      <td>0.105</td>\n",
              "      <td>52</td>\n",
              "      <td>0.274</td>\n",
              "      <td>110</td>\n",
              "      <td>0.579</td>\n",
              "      <td>2</td>\n",
              "      <td>0.011</td>\n",
              "      <td>6</td>\n",
              "      <td>0.032</td>\n",
              "      <td>49</td>\n",
              "      <td>0.258</td>\n",
              "      <td>8</td>\n",
              "      <td>0.042</td>\n",
              "      <td>161</td>\n",
              "      <td>84.7%</td>\n",
              "      <td>89.0%</td>\n",
              "    </tr>\n",
              "    <tr>\n",
              "      <th>3</th>\n",
              "      <td>01M015</td>\n",
              "      <td>P.S. 015 Roberto Clemente</td>\n",
              "      <td>2018-19</td>\n",
              "      <td>174</td>\n",
              "      <td>13</td>\n",
              "      <td>20</td>\n",
              "      <td>33</td>\n",
              "      <td>30</td>\n",
              "      <td>30</td>\n",
              "      <td>20</td>\n",
              "      <td>28</td>\n",
              "      <td>0</td>\n",
              "      <td>0</td>\n",
              "      <td>0</td>\n",
              "      <td>0</td>\n",
              "      <td>0</td>\n",
              "      <td>0</td>\n",
              "      <td>0</td>\n",
              "      <td>85</td>\n",
              "      <td>0.489</td>\n",
              "      <td>89</td>\n",
              "      <td>0.511</td>\n",
              "      <td>24</td>\n",
              "      <td>0.138</td>\n",
              "      <td>48</td>\n",
              "      <td>0.276</td>\n",
              "      <td>95</td>\n",
              "      <td>0.546</td>\n",
              "      <td>1</td>\n",
              "      <td>0.006</td>\n",
              "      <td>6</td>\n",
              "      <td>0.034</td>\n",
              "      <td>39</td>\n",
              "      <td>0.224</td>\n",
              "      <td>8</td>\n",
              "      <td>0.046</td>\n",
              "      <td>147</td>\n",
              "      <td>84.5%</td>\n",
              "      <td>88.8%</td>\n",
              "    </tr>\n",
              "    <tr>\n",
              "      <th>4</th>\n",
              "      <td>01M015</td>\n",
              "      <td>P.S. 015 Roberto Clemente</td>\n",
              "      <td>2019-20</td>\n",
              "      <td>190</td>\n",
              "      <td>14</td>\n",
              "      <td>29</td>\n",
              "      <td>28</td>\n",
              "      <td>38</td>\n",
              "      <td>33</td>\n",
              "      <td>29</td>\n",
              "      <td>19</td>\n",
              "      <td>0</td>\n",
              "      <td>0</td>\n",
              "      <td>0</td>\n",
              "      <td>0</td>\n",
              "      <td>0</td>\n",
              "      <td>0</td>\n",
              "      <td>0</td>\n",
              "      <td>94</td>\n",
              "      <td>0.495</td>\n",
              "      <td>96</td>\n",
              "      <td>0.505</td>\n",
              "      <td>27</td>\n",
              "      <td>0.142</td>\n",
              "      <td>56</td>\n",
              "      <td>0.295</td>\n",
              "      <td>96</td>\n",
              "      <td>0.505</td>\n",
              "      <td>2</td>\n",
              "      <td>0.011</td>\n",
              "      <td>9</td>\n",
              "      <td>0.047</td>\n",
              "      <td>44</td>\n",
              "      <td>0.232</td>\n",
              "      <td>17</td>\n",
              "      <td>0.089</td>\n",
              "      <td>155</td>\n",
              "      <td>81.6%</td>\n",
              "      <td>86.9%</td>\n",
              "    </tr>\n",
              "  </tbody>\n",
              "</table>\n",
              "</div>"
            ],
            "text/plain": [
              "      DBN                School Name  ... % Poverty  Economic Need Index\n",
              "0  01M015  P.S. 015 Roberto Clemente  ...     84.7%                88.9%\n",
              "1  01M015  P.S. 015 Roberto Clemente  ...     85.4%                88.2%\n",
              "2  01M015  P.S. 015 Roberto Clemente  ...     84.7%                89.0%\n",
              "3  01M015  P.S. 015 Roberto Clemente  ...     84.5%                88.8%\n",
              "4  01M015  P.S. 015 Roberto Clemente  ...     81.6%                86.9%\n",
              "\n",
              "[5 rows x 39 columns]"
            ]
          },
          "metadata": {
            "tags": []
          },
          "execution_count": 37
        }
      ]
    },
    {
      "cell_type": "markdown",
      "metadata": {
        "id": "IrfyPhznjFwO"
      },
      "source": [
        "## To fix this information, we should do a few things \n",
        "-Convert all decimals to percents  \n",
        "-Change Above 95 and Below 5 to 95 and 5, respectively (no way to know either way how close we get)  \n",
        "-Change all to float  \n",
        "-Check again for nulls  "
      ]
    },
    {
      "cell_type": "code",
      "metadata": {
        "id": "ifIGUYUVnZi-"
      },
      "source": [
        "#Checking the other dataframe for poverty values\n",
        "df_all_poverty['% Poverty'].value_counts()\n",
        "pov_list = [num.replace(\"%\",\"\") for num in df_all_poverty['% Poverty'].to_list()]"
      ],
      "execution_count": 38,
      "outputs": []
    },
    {
      "cell_type": "code",
      "metadata": {
        "id": "u8F15VkbmT59"
      },
      "source": [
        "pov_fixed = []\n",
        "\n",
        "for elem in pov_list:\n",
        "    try:\n",
        "        elem = float(elem)\n",
        "\n",
        "        if elem <= 1:\n",
        "            elem = round(elem*100,1)\n",
        "\n",
        "    except:\n",
        "        if elem == 'Above 95':\n",
        "            elem = 97.5\n",
        "        elif elem == 'Below 5':\n",
        "            elem = 5.0\n",
        "    \n",
        "    pov_fixed.append(elem)"
      ],
      "execution_count": 39,
      "outputs": []
    },
    {
      "cell_type": "code",
      "metadata": {
        "id": "XYVnYmi8nmSS"
      },
      "source": [
        "df_all_poverty['Adjusted Poverty'] = pov_fixed"
      ],
      "execution_count": 40,
      "outputs": []
    },
    {
      "cell_type": "code",
      "metadata": {
        "colab": {
          "base_uri": "https://localhost:8080/",
          "height": 233
        },
        "id": "9ECk77XLntZn",
        "outputId": "4edc9647-a7fc-4dd6-cd54-777e08a0a8f8"
      },
      "source": [
        "df_all_poverty[['Year','Adjusted Poverty']].groupby('Year', as_index = False).agg(['mean', 'median', max, min]).reset_index()"
      ],
      "execution_count": 41,
      "outputs": [
        {
          "output_type": "execute_result",
          "data": {
            "text/html": [
              "<div>\n",
              "<style scoped>\n",
              "    .dataframe tbody tr th:only-of-type {\n",
              "        vertical-align: middle;\n",
              "    }\n",
              "\n",
              "    .dataframe tbody tr th {\n",
              "        vertical-align: top;\n",
              "    }\n",
              "\n",
              "    .dataframe thead tr th {\n",
              "        text-align: left;\n",
              "    }\n",
              "</style>\n",
              "<table border=\"1\" class=\"dataframe\">\n",
              "  <thead>\n",
              "    <tr>\n",
              "      <th></th>\n",
              "      <th>Year</th>\n",
              "      <th colspan=\"4\" halign=\"left\">Adjusted Poverty</th>\n",
              "    </tr>\n",
              "    <tr>\n",
              "      <th></th>\n",
              "      <th></th>\n",
              "      <th>mean</th>\n",
              "      <th>median</th>\n",
              "      <th>max</th>\n",
              "      <th>min</th>\n",
              "    </tr>\n",
              "  </thead>\n",
              "  <tbody>\n",
              "    <tr>\n",
              "      <th>0</th>\n",
              "      <td>2015-16</td>\n",
              "      <td>73.820472</td>\n",
              "      <td>78.4</td>\n",
              "      <td>97.5</td>\n",
              "      <td>5.0</td>\n",
              "    </tr>\n",
              "    <tr>\n",
              "      <th>1</th>\n",
              "      <td>2016-17</td>\n",
              "      <td>73.498384</td>\n",
              "      <td>78.4</td>\n",
              "      <td>97.5</td>\n",
              "      <td>5.0</td>\n",
              "    </tr>\n",
              "    <tr>\n",
              "      <th>2</th>\n",
              "      <td>2017-18</td>\n",
              "      <td>78.347163</td>\n",
              "      <td>84.1</td>\n",
              "      <td>97.5</td>\n",
              "      <td>5.6</td>\n",
              "    </tr>\n",
              "    <tr>\n",
              "      <th>3</th>\n",
              "      <td>2018-19</td>\n",
              "      <td>77.318478</td>\n",
              "      <td>82.8</td>\n",
              "      <td>97.5</td>\n",
              "      <td>6.0</td>\n",
              "    </tr>\n",
              "    <tr>\n",
              "      <th>4</th>\n",
              "      <td>2019-20</td>\n",
              "      <td>76.629872</td>\n",
              "      <td>82.5</td>\n",
              "      <td>97.5</td>\n",
              "      <td>5.6</td>\n",
              "    </tr>\n",
              "  </tbody>\n",
              "</table>\n",
              "</div>"
            ],
            "text/plain": [
              "      Year Adjusted Poverty                  \n",
              "                       mean median   max  min\n",
              "0  2015-16        73.820472   78.4  97.5  5.0\n",
              "1  2016-17        73.498384   78.4  97.5  5.0\n",
              "2  2017-18        78.347163   84.1  97.5  5.6\n",
              "3  2018-19        77.318478   82.8  97.5  6.0\n",
              "4  2019-20        76.629872   82.5  97.5  5.6"
            ]
          },
          "metadata": {
            "tags": []
          },
          "execution_count": 41
        }
      ]
    },
    {
      "cell_type": "markdown",
      "metadata": {
        "id": "Iv5NVKwCoKxX"
      },
      "source": [
        "## Visualize the Data"
      ]
    },
    {
      "cell_type": "code",
      "metadata": {
        "colab": {
          "base_uri": "https://localhost:8080/",
          "height": 1000
        },
        "id": "GyxEqAJl_IGx",
        "outputId": "80247839-0e2a-4aaa-a000-59bab139e284"
      },
      "source": [
        "df_all_poverty.groupby('DBN').head(5)"
      ],
      "execution_count": 42,
      "outputs": [
        {
          "output_type": "execute_result",
          "data": {
            "text/html": [
              "<div>\n",
              "<style scoped>\n",
              "    .dataframe tbody tr th:only-of-type {\n",
              "        vertical-align: middle;\n",
              "    }\n",
              "\n",
              "    .dataframe tbody tr th {\n",
              "        vertical-align: top;\n",
              "    }\n",
              "\n",
              "    .dataframe thead th {\n",
              "        text-align: right;\n",
              "    }\n",
              "</style>\n",
              "<table border=\"1\" class=\"dataframe\">\n",
              "  <thead>\n",
              "    <tr style=\"text-align: right;\">\n",
              "      <th></th>\n",
              "      <th>DBN</th>\n",
              "      <th>School Name</th>\n",
              "      <th>Year</th>\n",
              "      <th>Total Enrollment</th>\n",
              "      <th>Grade 3K+PK (Half Day &amp; Full Day)</th>\n",
              "      <th>Grade K</th>\n",
              "      <th>Grade 1</th>\n",
              "      <th>Grade 2</th>\n",
              "      <th>Grade 3</th>\n",
              "      <th>Grade 4</th>\n",
              "      <th>Grade 5</th>\n",
              "      <th>Grade 6</th>\n",
              "      <th>Grade 7</th>\n",
              "      <th>Grade 8</th>\n",
              "      <th>Grade 9</th>\n",
              "      <th>Grade 10</th>\n",
              "      <th>Grade 11</th>\n",
              "      <th>Grade 12</th>\n",
              "      <th># Female</th>\n",
              "      <th>% Female</th>\n",
              "      <th># Male</th>\n",
              "      <th>% Male</th>\n",
              "      <th># Asian</th>\n",
              "      <th>% Asian</th>\n",
              "      <th># Black</th>\n",
              "      <th>% Black</th>\n",
              "      <th># Hispanic</th>\n",
              "      <th>% Hispanic</th>\n",
              "      <th># Multiple Race Categories Not Represented</th>\n",
              "      <th>% Multiple Race Categories Not Represented</th>\n",
              "      <th># White</th>\n",
              "      <th>% White</th>\n",
              "      <th># Students with Disabilities</th>\n",
              "      <th>% Students with Disabilities</th>\n",
              "      <th># English Language Learners</th>\n",
              "      <th>% English Language Learners</th>\n",
              "      <th># Poverty</th>\n",
              "      <th>% Poverty</th>\n",
              "      <th>Economic Need Index</th>\n",
              "      <th>Adjusted Poverty</th>\n",
              "    </tr>\n",
              "  </thead>\n",
              "  <tbody>\n",
              "    <tr>\n",
              "      <th>0</th>\n",
              "      <td>01M015</td>\n",
              "      <td>P.S. 015 Roberto Clemente</td>\n",
              "      <td>2015-16</td>\n",
              "      <td>176</td>\n",
              "      <td>14</td>\n",
              "      <td>32</td>\n",
              "      <td>33</td>\n",
              "      <td>39</td>\n",
              "      <td>23</td>\n",
              "      <td>17</td>\n",
              "      <td>18</td>\n",
              "      <td>0</td>\n",
              "      <td>0</td>\n",
              "      <td>0</td>\n",
              "      <td>0</td>\n",
              "      <td>0</td>\n",
              "      <td>0</td>\n",
              "      <td>0</td>\n",
              "      <td>83</td>\n",
              "      <td>0.472000</td>\n",
              "      <td>93</td>\n",
              "      <td>0.528000</td>\n",
              "      <td>9</td>\n",
              "      <td>0.051000</td>\n",
              "      <td>57</td>\n",
              "      <td>0.324000</td>\n",
              "      <td>105</td>\n",
              "      <td>0.597000</td>\n",
              "      <td>3</td>\n",
              "      <td>0.017000</td>\n",
              "      <td>2</td>\n",
              "      <td>0.011000</td>\n",
              "      <td>60</td>\n",
              "      <td>0.341000</td>\n",
              "      <td>16</td>\n",
              "      <td>0.091000</td>\n",
              "      <td>149</td>\n",
              "      <td>84.7%</td>\n",
              "      <td>88.9%</td>\n",
              "      <td>84.7</td>\n",
              "    </tr>\n",
              "    <tr>\n",
              "      <th>1</th>\n",
              "      <td>01M015</td>\n",
              "      <td>P.S. 015 Roberto Clemente</td>\n",
              "      <td>2016-17</td>\n",
              "      <td>178</td>\n",
              "      <td>17</td>\n",
              "      <td>28</td>\n",
              "      <td>33</td>\n",
              "      <td>27</td>\n",
              "      <td>31</td>\n",
              "      <td>24</td>\n",
              "      <td>18</td>\n",
              "      <td>0</td>\n",
              "      <td>0</td>\n",
              "      <td>0</td>\n",
              "      <td>0</td>\n",
              "      <td>0</td>\n",
              "      <td>0</td>\n",
              "      <td>0</td>\n",
              "      <td>83</td>\n",
              "      <td>0.466000</td>\n",
              "      <td>95</td>\n",
              "      <td>0.534000</td>\n",
              "      <td>14</td>\n",
              "      <td>0.079000</td>\n",
              "      <td>51</td>\n",
              "      <td>0.287000</td>\n",
              "      <td>105</td>\n",
              "      <td>0.590000</td>\n",
              "      <td>4</td>\n",
              "      <td>0.022000</td>\n",
              "      <td>4</td>\n",
              "      <td>0.022000</td>\n",
              "      <td>51</td>\n",
              "      <td>0.287000</td>\n",
              "      <td>12</td>\n",
              "      <td>0.067000</td>\n",
              "      <td>152</td>\n",
              "      <td>85.4%</td>\n",
              "      <td>88.2%</td>\n",
              "      <td>85.4</td>\n",
              "    </tr>\n",
              "    <tr>\n",
              "      <th>2</th>\n",
              "      <td>01M015</td>\n",
              "      <td>P.S. 015 Roberto Clemente</td>\n",
              "      <td>2017-18</td>\n",
              "      <td>190</td>\n",
              "      <td>17</td>\n",
              "      <td>28</td>\n",
              "      <td>32</td>\n",
              "      <td>33</td>\n",
              "      <td>23</td>\n",
              "      <td>31</td>\n",
              "      <td>26</td>\n",
              "      <td>0</td>\n",
              "      <td>0</td>\n",
              "      <td>0</td>\n",
              "      <td>0</td>\n",
              "      <td>0</td>\n",
              "      <td>0</td>\n",
              "      <td>0</td>\n",
              "      <td>99</td>\n",
              "      <td>0.521000</td>\n",
              "      <td>91</td>\n",
              "      <td>0.479000</td>\n",
              "      <td>20</td>\n",
              "      <td>0.105000</td>\n",
              "      <td>52</td>\n",
              "      <td>0.274000</td>\n",
              "      <td>110</td>\n",
              "      <td>0.579000</td>\n",
              "      <td>2</td>\n",
              "      <td>0.011000</td>\n",
              "      <td>6</td>\n",
              "      <td>0.032000</td>\n",
              "      <td>49</td>\n",
              "      <td>0.258000</td>\n",
              "      <td>8</td>\n",
              "      <td>0.042000</td>\n",
              "      <td>161</td>\n",
              "      <td>84.7%</td>\n",
              "      <td>89.0%</td>\n",
              "      <td>84.7</td>\n",
              "    </tr>\n",
              "    <tr>\n",
              "      <th>3</th>\n",
              "      <td>01M015</td>\n",
              "      <td>P.S. 015 Roberto Clemente</td>\n",
              "      <td>2018-19</td>\n",
              "      <td>174</td>\n",
              "      <td>13</td>\n",
              "      <td>20</td>\n",
              "      <td>33</td>\n",
              "      <td>30</td>\n",
              "      <td>30</td>\n",
              "      <td>20</td>\n",
              "      <td>28</td>\n",
              "      <td>0</td>\n",
              "      <td>0</td>\n",
              "      <td>0</td>\n",
              "      <td>0</td>\n",
              "      <td>0</td>\n",
              "      <td>0</td>\n",
              "      <td>0</td>\n",
              "      <td>85</td>\n",
              "      <td>0.489000</td>\n",
              "      <td>89</td>\n",
              "      <td>0.511000</td>\n",
              "      <td>24</td>\n",
              "      <td>0.138000</td>\n",
              "      <td>48</td>\n",
              "      <td>0.276000</td>\n",
              "      <td>95</td>\n",
              "      <td>0.546000</td>\n",
              "      <td>1</td>\n",
              "      <td>0.006000</td>\n",
              "      <td>6</td>\n",
              "      <td>0.034000</td>\n",
              "      <td>39</td>\n",
              "      <td>0.224000</td>\n",
              "      <td>8</td>\n",
              "      <td>0.046000</td>\n",
              "      <td>147</td>\n",
              "      <td>84.5%</td>\n",
              "      <td>88.8%</td>\n",
              "      <td>84.5</td>\n",
              "    </tr>\n",
              "    <tr>\n",
              "      <th>4</th>\n",
              "      <td>01M015</td>\n",
              "      <td>P.S. 015 Roberto Clemente</td>\n",
              "      <td>2019-20</td>\n",
              "      <td>190</td>\n",
              "      <td>14</td>\n",
              "      <td>29</td>\n",
              "      <td>28</td>\n",
              "      <td>38</td>\n",
              "      <td>33</td>\n",
              "      <td>29</td>\n",
              "      <td>19</td>\n",
              "      <td>0</td>\n",
              "      <td>0</td>\n",
              "      <td>0</td>\n",
              "      <td>0</td>\n",
              "      <td>0</td>\n",
              "      <td>0</td>\n",
              "      <td>0</td>\n",
              "      <td>94</td>\n",
              "      <td>0.495000</td>\n",
              "      <td>96</td>\n",
              "      <td>0.505000</td>\n",
              "      <td>27</td>\n",
              "      <td>0.142000</td>\n",
              "      <td>56</td>\n",
              "      <td>0.295000</td>\n",
              "      <td>96</td>\n",
              "      <td>0.505000</td>\n",
              "      <td>2</td>\n",
              "      <td>0.011000</td>\n",
              "      <td>9</td>\n",
              "      <td>0.047000</td>\n",
              "      <td>44</td>\n",
              "      <td>0.232000</td>\n",
              "      <td>17</td>\n",
              "      <td>0.089000</td>\n",
              "      <td>155</td>\n",
              "      <td>81.6%</td>\n",
              "      <td>86.9%</td>\n",
              "      <td>81.6</td>\n",
              "    </tr>\n",
              "    <tr>\n",
              "      <th>...</th>\n",
              "      <td>...</td>\n",
              "      <td>...</td>\n",
              "      <td>...</td>\n",
              "      <td>...</td>\n",
              "      <td>...</td>\n",
              "      <td>...</td>\n",
              "      <td>...</td>\n",
              "      <td>...</td>\n",
              "      <td>...</td>\n",
              "      <td>...</td>\n",
              "      <td>...</td>\n",
              "      <td>...</td>\n",
              "      <td>...</td>\n",
              "      <td>...</td>\n",
              "      <td>...</td>\n",
              "      <td>...</td>\n",
              "      <td>...</td>\n",
              "      <td>...</td>\n",
              "      <td>...</td>\n",
              "      <td>...</td>\n",
              "      <td>...</td>\n",
              "      <td>...</td>\n",
              "      <td>...</td>\n",
              "      <td>...</td>\n",
              "      <td>...</td>\n",
              "      <td>...</td>\n",
              "      <td>...</td>\n",
              "      <td>...</td>\n",
              "      <td>...</td>\n",
              "      <td>...</td>\n",
              "      <td>...</td>\n",
              "      <td>...</td>\n",
              "      <td>...</td>\n",
              "      <td>...</td>\n",
              "      <td>...</td>\n",
              "      <td>...</td>\n",
              "      <td>...</td>\n",
              "      <td>...</td>\n",
              "      <td>...</td>\n",
              "      <td>...</td>\n",
              "    </tr>\n",
              "    <tr>\n",
              "      <th>9091</th>\n",
              "      <td>84X730</td>\n",
              "      <td>Bronx Charter School for the Arts</td>\n",
              "      <td>2015-16</td>\n",
              "      <td>323</td>\n",
              "      <td>0</td>\n",
              "      <td>51</td>\n",
              "      <td>57</td>\n",
              "      <td>55</td>\n",
              "      <td>55</td>\n",
              "      <td>57</td>\n",
              "      <td>48</td>\n",
              "      <td>0</td>\n",
              "      <td>0</td>\n",
              "      <td>0</td>\n",
              "      <td>0</td>\n",
              "      <td>0</td>\n",
              "      <td>0</td>\n",
              "      <td>0</td>\n",
              "      <td>165</td>\n",
              "      <td>0.510836</td>\n",
              "      <td>158</td>\n",
              "      <td>0.489164</td>\n",
              "      <td>2</td>\n",
              "      <td>0.006192</td>\n",
              "      <td>92</td>\n",
              "      <td>0.284830</td>\n",
              "      <td>218</td>\n",
              "      <td>0.674923</td>\n",
              "      <td>6</td>\n",
              "      <td>0.018576</td>\n",
              "      <td>5</td>\n",
              "      <td>0.015480</td>\n",
              "      <td>61</td>\n",
              "      <td>0.188854</td>\n",
              "      <td>49</td>\n",
              "      <td>0.151703</td>\n",
              "      <td>268</td>\n",
              "      <td>0.8297213912010193</td>\n",
              "      <td>0.8211898803710938</td>\n",
              "      <td>83.0</td>\n",
              "    </tr>\n",
              "    <tr>\n",
              "      <th>9092</th>\n",
              "      <td>84X730</td>\n",
              "      <td>Bronx Charter School for the Arts</td>\n",
              "      <td>2016-17</td>\n",
              "      <td>320</td>\n",
              "      <td>0</td>\n",
              "      <td>53</td>\n",
              "      <td>53</td>\n",
              "      <td>55</td>\n",
              "      <td>52</td>\n",
              "      <td>53</td>\n",
              "      <td>52</td>\n",
              "      <td>2</td>\n",
              "      <td>0</td>\n",
              "      <td>0</td>\n",
              "      <td>0</td>\n",
              "      <td>0</td>\n",
              "      <td>0</td>\n",
              "      <td>0</td>\n",
              "      <td>168</td>\n",
              "      <td>0.525000</td>\n",
              "      <td>152</td>\n",
              "      <td>0.475000</td>\n",
              "      <td>2</td>\n",
              "      <td>0.006250</td>\n",
              "      <td>76</td>\n",
              "      <td>0.237500</td>\n",
              "      <td>236</td>\n",
              "      <td>0.737500</td>\n",
              "      <td>3</td>\n",
              "      <td>0.009375</td>\n",
              "      <td>3</td>\n",
              "      <td>0.009375</td>\n",
              "      <td>67</td>\n",
              "      <td>0.209375</td>\n",
              "      <td>51</td>\n",
              "      <td>0.159375</td>\n",
              "      <td>235</td>\n",
              "      <td>0.734375</td>\n",
              "      <td>0.8401687741279602</td>\n",
              "      <td>73.4</td>\n",
              "    </tr>\n",
              "    <tr>\n",
              "      <th>9093</th>\n",
              "      <td>84X730</td>\n",
              "      <td>Bronx Charter School for the Arts</td>\n",
              "      <td>2017-18</td>\n",
              "      <td>314</td>\n",
              "      <td>0</td>\n",
              "      <td>50</td>\n",
              "      <td>51</td>\n",
              "      <td>54</td>\n",
              "      <td>51</td>\n",
              "      <td>52</td>\n",
              "      <td>54</td>\n",
              "      <td>2</td>\n",
              "      <td>0</td>\n",
              "      <td>0</td>\n",
              "      <td>0</td>\n",
              "      <td>0</td>\n",
              "      <td>0</td>\n",
              "      <td>0</td>\n",
              "      <td>173</td>\n",
              "      <td>0.550955</td>\n",
              "      <td>141</td>\n",
              "      <td>0.449045</td>\n",
              "      <td>2</td>\n",
              "      <td>0.006369</td>\n",
              "      <td>65</td>\n",
              "      <td>0.207006</td>\n",
              "      <td>243</td>\n",
              "      <td>0.773885</td>\n",
              "      <td>3</td>\n",
              "      <td>0.009554</td>\n",
              "      <td>1</td>\n",
              "      <td>0.003185</td>\n",
              "      <td>68</td>\n",
              "      <td>0.216561</td>\n",
              "      <td>57</td>\n",
              "      <td>0.181529</td>\n",
              "      <td>258</td>\n",
              "      <td>0.8216560482978821</td>\n",
              "      <td>0.8905859589576721</td>\n",
              "      <td>82.2</td>\n",
              "    </tr>\n",
              "    <tr>\n",
              "      <th>9094</th>\n",
              "      <td>84X730</td>\n",
              "      <td>Bronx Charter School for the Arts</td>\n",
              "      <td>2018-19</td>\n",
              "      <td>430</td>\n",
              "      <td>0</td>\n",
              "      <td>49</td>\n",
              "      <td>54</td>\n",
              "      <td>49</td>\n",
              "      <td>54</td>\n",
              "      <td>51</td>\n",
              "      <td>53</td>\n",
              "      <td>120</td>\n",
              "      <td>0</td>\n",
              "      <td>0</td>\n",
              "      <td>0</td>\n",
              "      <td>0</td>\n",
              "      <td>0</td>\n",
              "      <td>0</td>\n",
              "      <td>232</td>\n",
              "      <td>0.539535</td>\n",
              "      <td>198</td>\n",
              "      <td>0.460465</td>\n",
              "      <td>2</td>\n",
              "      <td>0.004651</td>\n",
              "      <td>98</td>\n",
              "      <td>0.227907</td>\n",
              "      <td>321</td>\n",
              "      <td>0.746512</td>\n",
              "      <td>6</td>\n",
              "      <td>0.013953</td>\n",
              "      <td>3</td>\n",
              "      <td>0.006977</td>\n",
              "      <td>103</td>\n",
              "      <td>0.239535</td>\n",
              "      <td>71</td>\n",
              "      <td>0.165116</td>\n",
              "      <td>363</td>\n",
              "      <td>0.8441860675811768</td>\n",
              "      <td>0.8878604769706726</td>\n",
              "      <td>84.4</td>\n",
              "    </tr>\n",
              "    <tr>\n",
              "      <th>9095</th>\n",
              "      <td>84X730</td>\n",
              "      <td>Bronx Charter School for the Arts</td>\n",
              "      <td>2019-20</td>\n",
              "      <td>523</td>\n",
              "      <td>0</td>\n",
              "      <td>51</td>\n",
              "      <td>50</td>\n",
              "      <td>53</td>\n",
              "      <td>52</td>\n",
              "      <td>55</td>\n",
              "      <td>49</td>\n",
              "      <td>107</td>\n",
              "      <td>106</td>\n",
              "      <td>0</td>\n",
              "      <td>0</td>\n",
              "      <td>0</td>\n",
              "      <td>0</td>\n",
              "      <td>0</td>\n",
              "      <td>280</td>\n",
              "      <td>0.535373</td>\n",
              "      <td>243</td>\n",
              "      <td>0.464627</td>\n",
              "      <td>1</td>\n",
              "      <td>0.001912</td>\n",
              "      <td>131</td>\n",
              "      <td>0.250478</td>\n",
              "      <td>378</td>\n",
              "      <td>0.722753</td>\n",
              "      <td>8</td>\n",
              "      <td>0.015296</td>\n",
              "      <td>5</td>\n",
              "      <td>0.009560</td>\n",
              "      <td>115</td>\n",
              "      <td>0.219885</td>\n",
              "      <td>69</td>\n",
              "      <td>0.131931</td>\n",
              "      <td>452</td>\n",
              "      <td>0.8642447590827942</td>\n",
              "      <td>0.8886004090309143</td>\n",
              "      <td>86.4</td>\n",
              "    </tr>\n",
              "  </tbody>\n",
              "</table>\n",
              "<p>9096 rows × 40 columns</p>\n",
              "</div>"
            ],
            "text/plain": [
              "         DBN  ... Adjusted Poverty\n",
              "0     01M015  ...             84.7\n",
              "1     01M015  ...             85.4\n",
              "2     01M015  ...             84.7\n",
              "3     01M015  ...             84.5\n",
              "4     01M015  ...             81.6\n",
              "...      ...  ...              ...\n",
              "9091  84X730  ...             83.0\n",
              "9092  84X730  ...             73.4\n",
              "9093  84X730  ...             82.2\n",
              "9094  84X730  ...             84.4\n",
              "9095  84X730  ...             86.4\n",
              "\n",
              "[9096 rows x 40 columns]"
            ]
          },
          "metadata": {
            "tags": []
          },
          "execution_count": 42
        }
      ]
    },
    {
      "cell_type": "code",
      "metadata": {
        "colab": {
          "base_uri": "https://localhost:8080/"
        },
        "id": "EWeiV_dSNgRD",
        "outputId": "ace8915a-3f5f-4b56-e174-4b8bb506da58"
      },
      "source": [
        "corr_matrix = df_all_poverty.corr()\n",
        "corr_matrix['Adjusted Poverty'].sort_values(ascending = True)"
      ],
      "execution_count": 43,
      "outputs": [
        {
          "output_type": "execute_result",
          "data": {
            "text/plain": [
              "% White                                      -0.776823\n",
              "# White                                      -0.530278\n",
              "% Multiple Race Categories Not Represented   -0.401544\n",
              "# Multiple Race Categories Not Represented   -0.377535\n",
              "% Asian                                      -0.269766\n",
              "# Asian                                      -0.175086\n",
              "# Female                                     -0.165745\n",
              "Grade K                                      -0.160136\n",
              "Total Enrollment                             -0.157860\n",
              "Grade 1                                      -0.143870\n",
              "# Male                                       -0.141132\n",
              "Grade 2                                      -0.135745\n",
              "Grade 3                                      -0.126808\n",
              "Grade 4                                      -0.114341\n",
              "Grade 5                                      -0.102131\n",
              "Grade 3K+PK (Half Day & Full Day)            -0.093054\n",
              "% Female                                     -0.052402\n",
              "Grade 12                                     -0.048584\n",
              "Grade 11                                     -0.044652\n",
              "Grade 6                                      -0.043561\n",
              "Grade 10                                     -0.037944\n",
              "Grade 7                                      -0.034079\n",
              "Grade 9                                      -0.030013\n",
              "Grade 8                                      -0.026659\n",
              "# Students with Disabilities                 -0.010406\n",
              "% Male                                        0.052451\n",
              "# Black                                       0.146419\n",
              "% Students with Disabilities                  0.150740\n",
              "# English Language Learners                   0.180311\n",
              "# Hispanic                                    0.192006\n",
              "% Black                                       0.299230\n",
              "% English Language Learners                   0.332351\n",
              "% Hispanic                                    0.459347\n",
              "Adjusted Poverty                              1.000000\n",
              "Name: Adjusted Poverty, dtype: float64"
            ]
          },
          "metadata": {
            "tags": []
          },
          "execution_count": 43
        }
      ]
    },
    {
      "cell_type": "markdown",
      "metadata": {
        "id": "lmpU2Gh86XXx"
      },
      "source": [
        "## Graph and Visualize"
      ]
    },
    {
      "cell_type": "markdown",
      "metadata": {
        "id": "ltt-HJkl9Zap"
      },
      "source": [
        "- Change the 'Year' to being a numerical variable"
      ]
    },
    {
      "cell_type": "code",
      "metadata": {
        "colab": {
          "base_uri": "https://localhost:8080/"
        },
        "id": "NkGsbjPE9fuA",
        "outputId": "ef6e50ae-2758-4694-cc46-cb961a7d714a"
      },
      "source": [
        "#What type are years stored as?\n",
        "df_all_poverty.Year.dtypes"
      ],
      "execution_count": 44,
      "outputs": [
        {
          "output_type": "execute_result",
          "data": {
            "text/plain": [
              "dtype('O')"
            ]
          },
          "metadata": {
            "tags": []
          },
          "execution_count": 44
        }
      ]
    },
    {
      "cell_type": "code",
      "metadata": {
        "colab": {
          "base_uri": "https://localhost:8080/"
        },
        "id": "KT7DFtRi9l5y",
        "outputId": "0d4b321a-fdb9-4a8b-fde9-cc2f488f9c79"
      },
      "source": [
        "#How many schools do we have for each year?\n",
        "df_all_poverty.Year.value_counts()"
      ],
      "execution_count": 45,
      "outputs": [
        {
          "output_type": "execute_result",
          "data": {
            "text/plain": [
              "2019-20    1868\n",
              "2018-19    1840\n",
              "2017-18    1815\n",
              "2016-17    1795\n",
              "2015-16    1778\n",
              "Name: Year, dtype: int64"
            ]
          },
          "metadata": {
            "tags": []
          },
          "execution_count": 45
        }
      ]
    },
    {
      "cell_type": "markdown",
      "metadata": {
        "id": "4umiykhA9r97"
      },
      "source": [
        "- Thankfully, there are no weird elements here. \n",
        "- So, we'll need to create a function to isolate and return starting years, so that we can plot them later."
      ]
    },
    {
      "cell_type": "code",
      "metadata": {
        "id": "Boqs_Rkl78xY"
      },
      "source": [
        "def years_convert(year):\n",
        "    year = year.split(\"-\")\n",
        "    try:\n",
        "        year = int(year[0])\n",
        "    except:\n",
        "        pass\n",
        "    return year"
      ],
      "execution_count": 46,
      "outputs": []
    },
    {
      "cell_type": "code",
      "metadata": {
        "colab": {
          "base_uri": "https://localhost:8080/"
        },
        "id": "erCrr0QJ8jOm",
        "outputId": "1add1299-d609-4b42-e642-bd58878bf247"
      },
      "source": [
        "years_convert('2015-2016')"
      ],
      "execution_count": 47,
      "outputs": [
        {
          "output_type": "execute_result",
          "data": {
            "text/plain": [
              "2015"
            ]
          },
          "metadata": {
            "tags": []
          },
          "execution_count": 47
        }
      ]
    },
    {
      "cell_type": "code",
      "metadata": {
        "id": "rKCIaWfw8Dvl"
      },
      "source": [
        "#Apply values to a new column\n",
        "df_all_poverty['Year_start'] = df_all_poverty['Year'].apply(years_convert)"
      ],
      "execution_count": 48,
      "outputs": []
    },
    {
      "cell_type": "code",
      "metadata": {
        "colab": {
          "base_uri": "https://localhost:8080/",
          "height": 202
        },
        "id": "1-jfYbIM9PmM",
        "outputId": "a54489d8-73a8-43f9-b95c-6a10154dc11a"
      },
      "source": [
        "#Check to make sure that it worked\n",
        "df_all_poverty[['Year','Year_start']].head()"
      ],
      "execution_count": 49,
      "outputs": [
        {
          "output_type": "execute_result",
          "data": {
            "text/html": [
              "<div>\n",
              "<style scoped>\n",
              "    .dataframe tbody tr th:only-of-type {\n",
              "        vertical-align: middle;\n",
              "    }\n",
              "\n",
              "    .dataframe tbody tr th {\n",
              "        vertical-align: top;\n",
              "    }\n",
              "\n",
              "    .dataframe thead th {\n",
              "        text-align: right;\n",
              "    }\n",
              "</style>\n",
              "<table border=\"1\" class=\"dataframe\">\n",
              "  <thead>\n",
              "    <tr style=\"text-align: right;\">\n",
              "      <th></th>\n",
              "      <th>Year</th>\n",
              "      <th>Year_start</th>\n",
              "    </tr>\n",
              "  </thead>\n",
              "  <tbody>\n",
              "    <tr>\n",
              "      <th>0</th>\n",
              "      <td>2015-16</td>\n",
              "      <td>2015</td>\n",
              "    </tr>\n",
              "    <tr>\n",
              "      <th>1</th>\n",
              "      <td>2016-17</td>\n",
              "      <td>2016</td>\n",
              "    </tr>\n",
              "    <tr>\n",
              "      <th>2</th>\n",
              "      <td>2017-18</td>\n",
              "      <td>2017</td>\n",
              "    </tr>\n",
              "    <tr>\n",
              "      <th>3</th>\n",
              "      <td>2018-19</td>\n",
              "      <td>2018</td>\n",
              "    </tr>\n",
              "    <tr>\n",
              "      <th>4</th>\n",
              "      <td>2019-20</td>\n",
              "      <td>2019</td>\n",
              "    </tr>\n",
              "  </tbody>\n",
              "</table>\n",
              "</div>"
            ],
            "text/plain": [
              "      Year  Year_start\n",
              "0  2015-16        2015\n",
              "1  2016-17        2016\n",
              "2  2017-18        2017\n",
              "3  2018-19        2018\n",
              "4  2019-20        2019"
            ]
          },
          "metadata": {
            "tags": []
          },
          "execution_count": 49
        }
      ]
    },
    {
      "cell_type": "markdown",
      "metadata": {
        "id": "bih5QGJm0ZCD"
      },
      "source": [
        "### Graphing Poverty Rates in Public Schools  \n",
        "Histogram of the poverty rates in public schools:\n",
        "\n",
        "**ref:** https://stackoverflow.com/questions/12608788/changing-the-tick-frequency-on-x-or-y-axis-in-matplotlib?rq=1"
      ]
    },
    {
      "cell_type": "code",
      "metadata": {
        "colab": {
          "base_uri": "https://localhost:8080/",
          "height": 740
        },
        "id": "SjaL2rOxNUpL",
        "outputId": "99130a46-7bb3-4c29-ad5c-703f7de54a0a"
      },
      "source": [
        "fig, ax = plt.subplots(1, figsize = (20,12), sharex = True, sharey = True)\n",
        "sns.set_theme()\n",
        "\n",
        "sns.histplot(x = df_all_poverty['Adjusted Poverty'], bins = 40)\n",
        "sns.histplot(x = df_all_poverty['Adjusted Poverty'], alpha = .25, bins = 20)\n",
        "sns.histplot(x = df_all_poverty['Adjusted Poverty'], alpha = .05, bins = 10)\n",
        "\n",
        "#Labels and Graphics\n",
        "ax.set_title(f\"Poverty Rates in New York Public Schools ({min(df_all_poverty.Year_start)} - {max(df_all_poverty.Year_start)})\", size = 20 )\n",
        "ax.set_xlabel(f\"Poverty Rate by %\", size = 16)\n",
        "ax.set_ylabel(f\"Number of New York Schools (Out of {len(df_all_poverty)}\", size = 16)\n",
        "ax.grid()\n",
        "\n",
        "start, end = ax.get_xlim()\n",
        "stepsize = 5\n",
        "ax.xaxis.set_ticks(np.arange(start-.3, end, stepsize))\n",
        "\n",
        "ax.grid(color='gray', alpha = .5, linestyle='-', linewidth=.5)\n",
        "sns.despine()"
      ],
      "execution_count": 50,
      "outputs": [
        {
          "output_type": "display_data",
          "data": {
            "image/png": "[encoded data removed]",
            "text/plain": [
              "<Figure size 1440x864 with 1 Axes>"
            ]
          },
          "metadata": {
            "tags": [],
            "needs_background": "light"
          }
        }
      ]
    },
    {
      "cell_type": "markdown",
      "metadata": {
        "id": "1P-8woZVyQ3o"
      },
      "source": [
        "*Note:* This histogram is a little deceptive because of the encoding any 'higher than 95' as being 95. Regardless, there are a huge number of schools in the New York City school systems with poverty rates that are at least 95%."
      ]
    },
    {
      "cell_type": "markdown",
      "metadata": {
        "id": "2UN0Jz2J_ti-"
      },
      "source": [
        "Alpha for Boxplot\n",
        "ref: https://github.com/mwaskom/seaborn/issues/979"
      ]
    },
    {
      "cell_type": "markdown",
      "metadata": {
        "id": "_4-iM5QOwxJx"
      },
      "source": [
        "New York High Schools show an exponential increasing trend- the number of schools that have higher poverty increases in likelihood the higher the poverty rate increases. In New York High Schools, poverty is very high above 90%."
      ]
    },
    {
      "cell_type": "markdown",
      "metadata": {
        "id": "YjMbZkcaymvA"
      },
      "source": [
        "### Plotting High School Poverty Rates by Year\n",
        "- What do poverty rates in New York Schools look like, by year?  \n",
        "- How have they changed over the last 5 years?"
      ]
    },
    {
      "cell_type": "code",
      "metadata": {
        "colab": {
          "base_uri": "https://localhost:8080/",
          "height": 743
        },
        "id": "NGxbgU1ln3MV",
        "outputId": "ca055219-77d0-47f0-8451-e05f5a99c2f1"
      },
      "source": [
        "#Set sample size for data (Currently set at half)\n",
        "sample_size = int(round(len(df_all_poverty) / 2, 0))\n",
        "sns.set_theme()\n",
        "\n",
        "df_sample = df_all_poverty.sample(sample_size) #Samples because seaborn limits number of dots\n",
        "\n",
        "#Plot the data\n",
        "fig, ax = plt.subplots(1, figsize = (20,12), sharex = True, sharey = True)\n",
        "\n",
        "sns.swarmplot(x = 'Year_start', \n",
        "              y = 'Adjusted Poverty',\n",
        "              data = df_all_poverty.sample(2000), \n",
        "              size = 4,\n",
        "              alpha = 1,\n",
        "              color = 'black',)\n",
        "\n",
        "sns.boxplot(x = 'Year_start', \n",
        "            y = 'Adjusted Poverty',\n",
        "            data = df_all_poverty,\n",
        "            color = 'black',\n",
        "            palette = 'gray_r',\n",
        "            width = .6,\n",
        "            boxprops=dict(alpha=.5))\n",
        "\n",
        "#Labels and Graphics\n",
        "ax.set_title(f\"Swarm Plot/Box Plot: Poverty Rates in New York Public Schools ({min(df_all_poverty.Year_start)} - {max(df_all_poverty.Year_start)})\", size = 20 )\n",
        "ax.set_xlabel(f\"Years: {min(df_all_poverty.Year_start)} - {max(df_all_poverty.Year_start)}\", size = 16)\n",
        "ax.set_ylabel(\"School Poverty Rate (0-100%)\", size = 16)\n",
        "ax.grid()\n",
        "\n",
        "ax.grid(color='gray', alpha = .5, linestyle='-', linewidth=.5)\n",
        "sns.despine()"
      ],
      "execution_count": 51,
      "outputs": [
        {
          "output_type": "display_data",
          "data": {
            "image/png": "[encoded data removed]",
            "text/plain": [
              "<Figure size 1440x864 with 1 Axes>"
            ]
          },
          "metadata": {
            "tags": []
          }
        }
      ]
    },
    {
      "cell_type": "code",
      "metadata": {
        "colab": {
          "base_uri": "https://localhost:8080/",
          "height": 264
        },
        "id": "iiybP3t1ORJF",
        "outputId": "08cc358a-263c-4f0c-e291-5725c17e2408"
      },
      "source": [
        "#Aggregate Statics for Adjusted Poverty\n",
        "df_all_poverty[['Year_start','Adjusted Poverty']].groupby('Year_start').agg(['mean','median', np.var, np.std, min,max])"
      ],
      "execution_count": 52,
      "outputs": [
        {
          "output_type": "execute_result",
          "data": {
            "text/html": [
              "<div>\n",
              "<style scoped>\n",
              "    .dataframe tbody tr th:only-of-type {\n",
              "        vertical-align: middle;\n",
              "    }\n",
              "\n",
              "    .dataframe tbody tr th {\n",
              "        vertical-align: top;\n",
              "    }\n",
              "\n",
              "    .dataframe thead tr th {\n",
              "        text-align: left;\n",
              "    }\n",
              "\n",
              "    .dataframe thead tr:last-of-type th {\n",
              "        text-align: right;\n",
              "    }\n",
              "</style>\n",
              "<table border=\"1\" class=\"dataframe\">\n",
              "  <thead>\n",
              "    <tr>\n",
              "      <th></th>\n",
              "      <th colspan=\"6\" halign=\"left\">Adjusted Poverty</th>\n",
              "    </tr>\n",
              "    <tr>\n",
              "      <th></th>\n",
              "      <th>mean</th>\n",
              "      <th>median</th>\n",
              "      <th>var</th>\n",
              "      <th>std</th>\n",
              "      <th>min</th>\n",
              "      <th>max</th>\n",
              "    </tr>\n",
              "    <tr>\n",
              "      <th>Year_start</th>\n",
              "      <th></th>\n",
              "      <th></th>\n",
              "      <th></th>\n",
              "      <th></th>\n",
              "      <th></th>\n",
              "      <th></th>\n",
              "    </tr>\n",
              "  </thead>\n",
              "  <tbody>\n",
              "    <tr>\n",
              "      <th>2015</th>\n",
              "      <td>73.820472</td>\n",
              "      <td>78.4</td>\n",
              "      <td>392.494246</td>\n",
              "      <td>19.811468</td>\n",
              "      <td>5.0</td>\n",
              "      <td>97.5</td>\n",
              "    </tr>\n",
              "    <tr>\n",
              "      <th>2016</th>\n",
              "      <td>73.498384</td>\n",
              "      <td>78.4</td>\n",
              "      <td>418.022456</td>\n",
              "      <td>20.445597</td>\n",
              "      <td>5.0</td>\n",
              "      <td>97.5</td>\n",
              "    </tr>\n",
              "    <tr>\n",
              "      <th>2017</th>\n",
              "      <td>78.347163</td>\n",
              "      <td>84.1</td>\n",
              "      <td>373.560421</td>\n",
              "      <td>19.327711</td>\n",
              "      <td>5.6</td>\n",
              "      <td>97.5</td>\n",
              "    </tr>\n",
              "    <tr>\n",
              "      <th>2018</th>\n",
              "      <td>77.318478</td>\n",
              "      <td>82.8</td>\n",
              "      <td>367.414003</td>\n",
              "      <td>19.168046</td>\n",
              "      <td>6.0</td>\n",
              "      <td>97.5</td>\n",
              "    </tr>\n",
              "    <tr>\n",
              "      <th>2019</th>\n",
              "      <td>76.629872</td>\n",
              "      <td>82.5</td>\n",
              "      <td>377.371276</td>\n",
              "      <td>19.426046</td>\n",
              "      <td>5.6</td>\n",
              "      <td>97.5</td>\n",
              "    </tr>\n",
              "  </tbody>\n",
              "</table>\n",
              "</div>"
            ],
            "text/plain": [
              "           Adjusted Poverty                                         \n",
              "                       mean median         var        std  min   max\n",
              "Year_start                                                          \n",
              "2015              73.820472   78.4  392.494246  19.811468  5.0  97.5\n",
              "2016              73.498384   78.4  418.022456  20.445597  5.0  97.5\n",
              "2017              78.347163   84.1  373.560421  19.327711  5.6  97.5\n",
              "2018              77.318478   82.8  367.414003  19.168046  6.0  97.5\n",
              "2019              76.629872   82.5  377.371276  19.426046  5.6  97.5"
            ]
          },
          "metadata": {
            "tags": []
          },
          "execution_count": 52
        }
      ]
    },
    {
      "cell_type": "markdown",
      "metadata": {
        "id": "B7CvtpUtC0J3"
      },
      "source": [
        "## Note on Adjusted Poverty Rate:\n",
        "There is a noticeable poverty rate spike in 2017, where median adjusted poverty rate rose from 78.4% - 84.1%, and mean adjusted poverty rate rose from 73.2% to 78%. Additionally, the standard deviation was similar, so this appears to be a significant change."
      ]
    },
    {
      "cell_type": "markdown",
      "metadata": {
        "id": "1FyX3zSoytcG"
      },
      "source": [
        "#Focus on New York Public High Schools\n",
        "One of the issues with the data in the dataset for schools is that New York's schools are not coded by type. I've chosen to look at four different datasets of the Public High Schools, to specifically focus on how poverty rates are, and how they may have changed. "
      ]
    },
    {
      "cell_type": "markdown",
      "metadata": {
        "id": "esWQ1-eeO5Hg"
      },
      "source": [
        ""
      ]
    },
    {
      "cell_type": "markdown",
      "metadata": {
        "id": "2mqcxtuyJoU-"
      },
      "source": [
        "Other Predictor"
      ]
    },
    {
      "cell_type": "code",
      "metadata": {
        "colab": {
          "base_uri": "https://localhost:8080/",
          "height": 666
        },
        "id": "V1IOENjkTxx0",
        "outputId": "0ffe61de-743a-49a4-9f9b-77e624c1b816"
      },
      "source": [
        "full_df.head()"
      ],
      "execution_count": 53,
      "outputs": [
        {
          "output_type": "execute_result",
          "data": {
            "text/html": [
              "<div>\n",
              "<style scoped>\n",
              "    .dataframe tbody tr th:only-of-type {\n",
              "        vertical-align: middle;\n",
              "    }\n",
              "\n",
              "    .dataframe tbody tr th {\n",
              "        vertical-align: top;\n",
              "    }\n",
              "\n",
              "    .dataframe thead th {\n",
              "        text-align: right;\n",
              "    }\n",
              "</style>\n",
              "<table border=\"1\" class=\"dataframe\">\n",
              "  <thead>\n",
              "    <tr style=\"text-align: right;\">\n",
              "      <th></th>\n",
              "      <th>DBN</th>\n",
              "      <th>School Name_1415</th>\n",
              "      <th>School Type_1415</th>\n",
              "      <th>Enrollment_1415</th>\n",
              "      <th>Rigorous Instruction Rating_1415</th>\n",
              "      <th>Collaborative Teachers Rating_1415</th>\n",
              "      <th>Supportive Environment Rating_1415</th>\n",
              "      <th>Effective School Leadership Rating_1415</th>\n",
              "      <th>Strong Family-Community Ties Rating_1415</th>\n",
              "      <th>Trust Rating_1415</th>\n",
              "      <th>Student Achievement Rating_1415</th>\n",
              "      <th>Rigorous Instruction - Percent Positive_1415</th>\n",
              "      <th>Collaborative Teachers - Percent Positive_1415</th>\n",
              "      <th>Supportive Environment - Percent Positive_1415</th>\n",
              "      <th>Effective School Leadership - Percent Positive_1415</th>\n",
              "      <th>Strong Family-Community Ties - Percent Positive_1415</th>\n",
              "      <th>Trust - Percent Positive_1415</th>\n",
              "      <th>Quality Review - How interesting and challenging is the curriculum?_1415</th>\n",
              "      <th>Quality Review - How effective is the teaching and learning?_1415</th>\n",
              "      <th>Quality Review - How well does the school assess what students are learning?_1415</th>\n",
              "      <th>Quality Review - How well do teachers work with each other?_1415</th>\n",
              "      <th>Quality Review - How clearly are high expectations communicated to students and staff?_1415</th>\n",
              "      <th>Quality Review - Dates of Review_1415</th>\n",
              "      <th>Average Grade 8 English Proficiency_1415</th>\n",
              "      <th>Average Grade 8 Math Proficiency_1415</th>\n",
              "      <th>Percent English Language Learners_1415</th>\n",
              "      <th>Percent Students with Disabilities_1415</th>\n",
              "      <th>Percent Self-Contained_1415</th>\n",
              "      <th>Economic Need Index_1415</th>\n",
              "      <th>Percent in Temp Housing_1415</th>\n",
              "      <th>Percent HRA Eligible_1415</th>\n",
              "      <th>Percent Asian_1415</th>\n",
              "      <th>Percent Black_1415</th>\n",
              "      <th>Percent Hispanic_1415</th>\n",
              "      <th>Percent White_1415</th>\n",
              "      <th>Years of principal experience at this school_1415</th>\n",
              "      <th>Percent of teachers with 3 or more years of experience_1415</th>\n",
              "      <th>Student Attendance Rate_1415</th>\n",
              "      <th>Percent of Students Chronically Absent_1415</th>\n",
              "      <th>Teacher Attendance Rate_1415</th>\n",
              "      <th>...</th>\n",
              "      <th>Supportive Environment Rating_1718</th>\n",
              "      <th>Effective School Leadership Rating_1718</th>\n",
              "      <th>Strong Family-Community Ties Rating_1718</th>\n",
              "      <th>Trust Rating_1718</th>\n",
              "      <th>Student Achievement Rating_1718</th>\n",
              "      <th>Rigorous Instruction - Percent Positive_1718</th>\n",
              "      <th>Collaborative Teachers - Percent Positive_1718</th>\n",
              "      <th>Supportive Environment - Percent Positive_1718</th>\n",
              "      <th>Effective School Leadership - Percent Positive_1718</th>\n",
              "      <th>Strong Family-Community Ties - Percent Positive_1718</th>\n",
              "      <th>Trust - Percent Positive_1718</th>\n",
              "      <th>Quality Review - How interesting and challenging is the curriculum?_1718</th>\n",
              "      <th>Quality Review - How effective is the teaching and learning?_1718</th>\n",
              "      <th>Quality Review - How well does the school assess what students are learning?_1718</th>\n",
              "      <th>Quality Review - How clearly are high expectations communicated to students and staff?_1718</th>\n",
              "      <th>Quality Review - How well do teachers work with each other?_1718</th>\n",
              "      <th>Quality Review - How safe and inclusive is the school while supporting social-emotional growth?_1718</th>\n",
              "      <th>Quality Review - How well does the school allocate and manage resources?_1718</th>\n",
              "      <th>Quality Review - How well does the school identify, track, and meet its goals?_1718</th>\n",
              "      <th>Quality Review - How thoughtful is the school’s approach to teacher development and evaluation?_1718</th>\n",
              "      <th>Quality Review - How well are school decisions evaluated and adjusted?_1718</th>\n",
              "      <th>Quality Review - Dates of Review_1718</th>\n",
              "      <th>Average Grade 8 English Proficiency_1718</th>\n",
              "      <th>Average Grade 8 Math Proficiency_1718</th>\n",
              "      <th>Percent English Language Learners_1718</th>\n",
              "      <th>Percent Students with Disabilities_1718</th>\n",
              "      <th>Percent Self-Contained_1718</th>\n",
              "      <th>Economic Need Index_1718</th>\n",
              "      <th>Percent Overage/Undercredited_y</th>\n",
              "      <th>Percent in Temp Housing_1718</th>\n",
              "      <th>Percent HRA Eligible_1718</th>\n",
              "      <th>Percent Asian_1718</th>\n",
              "      <th>Percent Black_1718</th>\n",
              "      <th>Percent Hispanic_1718</th>\n",
              "      <th>Percent White_1718</th>\n",
              "      <th>Years of principal experience at this school_1718</th>\n",
              "      <th>Percent of teachers with 3 or more years of experience_1718</th>\n",
              "      <th>Student Attendance Rate_1718</th>\n",
              "      <th>Percent of Students Chronically Absent_1718</th>\n",
              "      <th>Teacher Attendance Rate_1718</th>\n",
              "    </tr>\n",
              "  </thead>\n",
              "  <tbody>\n",
              "    <tr>\n",
              "      <th>0</th>\n",
              "      <td>01M292</td>\n",
              "      <td>Henry Street School for International Studies</td>\n",
              "      <td>High School</td>\n",
              "      <td>255.0</td>\n",
              "      <td>Not Meeting Target</td>\n",
              "      <td>Approaching Target</td>\n",
              "      <td>Approaching Target</td>\n",
              "      <td>Approaching Target</td>\n",
              "      <td>Approaching Target</td>\n",
              "      <td>Meeting Target</td>\n",
              "      <td>Meeting Target</td>\n",
              "      <td>0.72</td>\n",
              "      <td>0.77</td>\n",
              "      <td>0.77</td>\n",
              "      <td>0.72</td>\n",
              "      <td>0.76</td>\n",
              "      <td>0.87</td>\n",
              "      <td>Developing</td>\n",
              "      <td>Developing</td>\n",
              "      <td>Developing</td>\n",
              "      <td>Developing</td>\n",
              "      <td>Developing</td>\n",
              "      <td>2015-05-01 00:00:00</td>\n",
              "      <td>2.18</td>\n",
              "      <td>2.06</td>\n",
              "      <td>0.127</td>\n",
              "      <td>0.298</td>\n",
              "      <td>0.015</td>\n",
              "      <td>0.832</td>\n",
              "      <td>0.190</td>\n",
              "      <td>0.663</td>\n",
              "      <td>0.132</td>\n",
              "      <td>0.244</td>\n",
              "      <td>0.566</td>\n",
              "      <td>0.039</td>\n",
              "      <td>3.0</td>\n",
              "      <td>0.667</td>\n",
              "      <td>0.766</td>\n",
              "      <td>0.568</td>\n",
              "      <td>0.971</td>\n",
              "      <td>...</td>\n",
              "      <td>Meeting Target</td>\n",
              "      <td>Meeting Target</td>\n",
              "      <td>Meeting Target</td>\n",
              "      <td>Exceeding Target</td>\n",
              "      <td>Meeting Target</td>\n",
              "      <td>0.82</td>\n",
              "      <td>0.87</td>\n",
              "      <td>0.78</td>\n",
              "      <td>0.91</td>\n",
              "      <td>0.85</td>\n",
              "      <td>0.92</td>\n",
              "      <td>Proficient</td>\n",
              "      <td>Proficient</td>\n",
              "      <td>Proficient</td>\n",
              "      <td>Proficient</td>\n",
              "      <td>Proficient</td>\n",
              "      <td>Well Developed</td>\n",
              "      <td>Proficient</td>\n",
              "      <td>Proficient</td>\n",
              "      <td>Well Developed</td>\n",
              "      <td>Proficient</td>\n",
              "      <td>04/01/2017 12:00:00 AM</td>\n",
              "      <td>2.75</td>\n",
              "      <td>2.28</td>\n",
              "      <td>0.135</td>\n",
              "      <td>0.240</td>\n",
              "      <td>0.012</td>\n",
              "      <td>0.898</td>\n",
              "      <td>0.047</td>\n",
              "      <td>0.205</td>\n",
              "      <td>0.813</td>\n",
              "      <td>0.117</td>\n",
              "      <td>0.246</td>\n",
              "      <td>0.567</td>\n",
              "      <td>0.047</td>\n",
              "      <td>2.9</td>\n",
              "      <td>0.684</td>\n",
              "      <td>0.886</td>\n",
              "      <td>0.364</td>\n",
              "      <td>0.965</td>\n",
              "    </tr>\n",
              "    <tr>\n",
              "      <th>1</th>\n",
              "      <td>01M448</td>\n",
              "      <td>University Neighborhood High School</td>\n",
              "      <td>High School</td>\n",
              "      <td>304.0</td>\n",
              "      <td>Meeting Target</td>\n",
              "      <td>Meeting Target</td>\n",
              "      <td>Exceeding Target</td>\n",
              "      <td>Exceeding Target</td>\n",
              "      <td>Meeting Target</td>\n",
              "      <td>Exceeding Target</td>\n",
              "      <td>Exceeding Target</td>\n",
              "      <td>0.85</td>\n",
              "      <td>0.95</td>\n",
              "      <td>0.87</td>\n",
              "      <td>0.93</td>\n",
              "      <td>0.79</td>\n",
              "      <td>0.95</td>\n",
              "      <td>Well Developed</td>\n",
              "      <td>Proficient</td>\n",
              "      <td>Proficient</td>\n",
              "      <td>Well Developed</td>\n",
              "      <td>Proficient</td>\n",
              "      <td>2015-04-21 00:00:00</td>\n",
              "      <td>2.27</td>\n",
              "      <td>2.37</td>\n",
              "      <td>0.194</td>\n",
              "      <td>0.220</td>\n",
              "      <td>0.003</td>\n",
              "      <td>0.812</td>\n",
              "      <td>0.263</td>\n",
              "      <td>0.599</td>\n",
              "      <td>0.299</td>\n",
              "      <td>0.250</td>\n",
              "      <td>0.411</td>\n",
              "      <td>0.033</td>\n",
              "      <td>5.5</td>\n",
              "      <td>0.696</td>\n",
              "      <td>0.880</td>\n",
              "      <td>0.347</td>\n",
              "      <td>0.971</td>\n",
              "      <td>...</td>\n",
              "      <td>Exceeding Target</td>\n",
              "      <td>Exceeding Target</td>\n",
              "      <td>Exceeding Target</td>\n",
              "      <td>Exceeding Target</td>\n",
              "      <td>Meeting Target</td>\n",
              "      <td>0.87</td>\n",
              "      <td>0.93</td>\n",
              "      <td>0.82</td>\n",
              "      <td>0.95</td>\n",
              "      <td>0.87</td>\n",
              "      <td>0.94</td>\n",
              "      <td>Well Developed</td>\n",
              "      <td>Proficient</td>\n",
              "      <td>Proficient</td>\n",
              "      <td>Well Developed</td>\n",
              "      <td>Proficient</td>\n",
              "      <td>NaN</td>\n",
              "      <td>NaN</td>\n",
              "      <td>NaN</td>\n",
              "      <td>NaN</td>\n",
              "      <td>NaN</td>\n",
              "      <td>04/21/2015 12:00:00 AM</td>\n",
              "      <td>2.96</td>\n",
              "      <td>2.86</td>\n",
              "      <td>0.105</td>\n",
              "      <td>0.172</td>\n",
              "      <td>0.002</td>\n",
              "      <td>0.825</td>\n",
              "      <td>0.062</td>\n",
              "      <td>0.189</td>\n",
              "      <td>0.738</td>\n",
              "      <td>0.303</td>\n",
              "      <td>0.215</td>\n",
              "      <td>0.443</td>\n",
              "      <td>0.032</td>\n",
              "      <td>8.5</td>\n",
              "      <td>0.419</td>\n",
              "      <td>0.922</td>\n",
              "      <td>0.252</td>\n",
              "      <td>0.968</td>\n",
              "    </tr>\n",
              "    <tr>\n",
              "      <th>2</th>\n",
              "      <td>01M450</td>\n",
              "      <td>East Side Community School</td>\n",
              "      <td>High School</td>\n",
              "      <td>666.0</td>\n",
              "      <td>Exceeding Target</td>\n",
              "      <td>Exceeding Target</td>\n",
              "      <td>Exceeding Target</td>\n",
              "      <td>Exceeding Target</td>\n",
              "      <td>Exceeding Target</td>\n",
              "      <td>Exceeding Target</td>\n",
              "      <td>Exceeding Target</td>\n",
              "      <td>0.92</td>\n",
              "      <td>0.95</td>\n",
              "      <td>0.92</td>\n",
              "      <td>0.96</td>\n",
              "      <td>0.88</td>\n",
              "      <td>0.95</td>\n",
              "      <td>Well Developed</td>\n",
              "      <td>Proficient</td>\n",
              "      <td>Well Developed</td>\n",
              "      <td>Well Developed</td>\n",
              "      <td>Well Developed</td>\n",
              "      <td>2015-05-26 00:00:00</td>\n",
              "      <td>2.66</td>\n",
              "      <td>2.63</td>\n",
              "      <td>0.018</td>\n",
              "      <td>0.234</td>\n",
              "      <td>0.000</td>\n",
              "      <td>0.610</td>\n",
              "      <td>0.057</td>\n",
              "      <td>0.447</td>\n",
              "      <td>0.094</td>\n",
              "      <td>0.221</td>\n",
              "      <td>0.579</td>\n",
              "      <td>0.083</td>\n",
              "      <td>13.8</td>\n",
              "      <td>0.784</td>\n",
              "      <td>0.938</td>\n",
              "      <td>0.165</td>\n",
              "      <td>0.961</td>\n",
              "      <td>...</td>\n",
              "      <td>Exceeding Target</td>\n",
              "      <td>Exceeding Target</td>\n",
              "      <td>Exceeding Target</td>\n",
              "      <td>Exceeding Target</td>\n",
              "      <td>Meeting Target</td>\n",
              "      <td>0.87</td>\n",
              "      <td>0.89</td>\n",
              "      <td>0.83</td>\n",
              "      <td>0.93</td>\n",
              "      <td>0.96</td>\n",
              "      <td>0.94</td>\n",
              "      <td>Well Developed</td>\n",
              "      <td>Proficient</td>\n",
              "      <td>Well Developed</td>\n",
              "      <td>Well Developed</td>\n",
              "      <td>Well Developed</td>\n",
              "      <td>NaN</td>\n",
              "      <td>NaN</td>\n",
              "      <td>NaN</td>\n",
              "      <td>NaN</td>\n",
              "      <td>NaN</td>\n",
              "      <td>05/26/2015 12:00:00 AM</td>\n",
              "      <td>3.14</td>\n",
              "      <td>3.11</td>\n",
              "      <td>0.010</td>\n",
              "      <td>0.234</td>\n",
              "      <td>0.000</td>\n",
              "      <td>0.648</td>\n",
              "      <td>0.013</td>\n",
              "      <td>0.052</td>\n",
              "      <td>0.496</td>\n",
              "      <td>0.122</td>\n",
              "      <td>0.195</td>\n",
              "      <td>0.543</td>\n",
              "      <td>0.106</td>\n",
              "      <td>16.8</td>\n",
              "      <td>0.796</td>\n",
              "      <td>0.940</td>\n",
              "      <td>0.174</td>\n",
              "      <td>0.989</td>\n",
              "    </tr>\n",
              "    <tr>\n",
              "      <th>3</th>\n",
              "      <td>01M509</td>\n",
              "      <td>Marta Valle High School</td>\n",
              "      <td>High School</td>\n",
              "      <td>363.0</td>\n",
              "      <td>Approaching Target</td>\n",
              "      <td>Approaching Target</td>\n",
              "      <td>Approaching Target</td>\n",
              "      <td>Approaching Target</td>\n",
              "      <td>Approaching Target</td>\n",
              "      <td>Approaching Target</td>\n",
              "      <td>Approaching Target</td>\n",
              "      <td>0.86</td>\n",
              "      <td>0.76</td>\n",
              "      <td>0.81</td>\n",
              "      <td>0.69</td>\n",
              "      <td>0.70</td>\n",
              "      <td>0.82</td>\n",
              "      <td>Developing</td>\n",
              "      <td>Developing</td>\n",
              "      <td>Developing</td>\n",
              "      <td>Developing</td>\n",
              "      <td>Proficient</td>\n",
              "      <td>2015-01-08 00:00:00</td>\n",
              "      <td>2.28</td>\n",
              "      <td>2.09</td>\n",
              "      <td>0.091</td>\n",
              "      <td>0.284</td>\n",
              "      <td>0.146</td>\n",
              "      <td>0.767</td>\n",
              "      <td>0.149</td>\n",
              "      <td>0.595</td>\n",
              "      <td>0.058</td>\n",
              "      <td>0.399</td>\n",
              "      <td>0.512</td>\n",
              "      <td>0.025</td>\n",
              "      <td>1.9</td>\n",
              "      <td>0.690</td>\n",
              "      <td>0.768</td>\n",
              "      <td>0.647</td>\n",
              "      <td>0.971</td>\n",
              "      <td>...</td>\n",
              "      <td>Approaching Target</td>\n",
              "      <td>Meeting Target</td>\n",
              "      <td>NaN</td>\n",
              "      <td>NaN</td>\n",
              "      <td>Approaching Target</td>\n",
              "      <td>0.64</td>\n",
              "      <td>0.88</td>\n",
              "      <td>0.61</td>\n",
              "      <td>0.94</td>\n",
              "      <td>0.83</td>\n",
              "      <td>0.86</td>\n",
              "      <td>Developing</td>\n",
              "      <td>Developing</td>\n",
              "      <td>Developing</td>\n",
              "      <td>Proficient</td>\n",
              "      <td>Developing</td>\n",
              "      <td>Proficient</td>\n",
              "      <td>Proficient</td>\n",
              "      <td>Proficient</td>\n",
              "      <td>Proficient</td>\n",
              "      <td>Proficient</td>\n",
              "      <td>12/01/2016 12:00:00 AM</td>\n",
              "      <td>2.71</td>\n",
              "      <td>2.27</td>\n",
              "      <td>0.068</td>\n",
              "      <td>0.257</td>\n",
              "      <td>0.047</td>\n",
              "      <td>0.823</td>\n",
              "      <td>0.081</td>\n",
              "      <td>0.162</td>\n",
              "      <td>0.743</td>\n",
              "      <td>0.047</td>\n",
              "      <td>0.318</td>\n",
              "      <td>0.595</td>\n",
              "      <td>0.027</td>\n",
              "      <td>3.0</td>\n",
              "      <td>0.429</td>\n",
              "      <td>0.798</td>\n",
              "      <td>0.631</td>\n",
              "      <td>0.967</td>\n",
              "    </tr>\n",
              "    <tr>\n",
              "      <th>4</th>\n",
              "      <td>01M539</td>\n",
              "      <td>New Explorations into Science, Technology and ...</td>\n",
              "      <td>High School</td>\n",
              "      <td>1735.0</td>\n",
              "      <td>Exceeding Target</td>\n",
              "      <td>Approaching Target</td>\n",
              "      <td>Meeting Target</td>\n",
              "      <td>Not Meeting Target</td>\n",
              "      <td>Approaching Target</td>\n",
              "      <td>Not Meeting Target</td>\n",
              "      <td>Exceeding Target</td>\n",
              "      <td>0.81</td>\n",
              "      <td>0.73</td>\n",
              "      <td>0.85</td>\n",
              "      <td>0.55</td>\n",
              "      <td>0.81</td>\n",
              "      <td>0.74</td>\n",
              "      <td>Well Developed</td>\n",
              "      <td>Well Developed</td>\n",
              "      <td>Well Developed</td>\n",
              "      <td>Well Developed</td>\n",
              "      <td>Proficient</td>\n",
              "      <td>2015-02-05 00:00:00</td>\n",
              "      <td>3.50</td>\n",
              "      <td>3.53</td>\n",
              "      <td>0.002</td>\n",
              "      <td>0.043</td>\n",
              "      <td>0.000</td>\n",
              "      <td>0.257</td>\n",
              "      <td>0.029</td>\n",
              "      <td>0.260</td>\n",
              "      <td>0.385</td>\n",
              "      <td>0.133</td>\n",
              "      <td>0.180</td>\n",
              "      <td>0.286</td>\n",
              "      <td>9.0</td>\n",
              "      <td>0.602</td>\n",
              "      <td>0.952</td>\n",
              "      <td>0.130</td>\n",
              "      <td>0.967</td>\n",
              "      <td>...</td>\n",
              "      <td>Meeting Target</td>\n",
              "      <td>Meeting Target</td>\n",
              "      <td>Exceeding Target</td>\n",
              "      <td>Meeting Target</td>\n",
              "      <td>Exceeding Target</td>\n",
              "      <td>0.82</td>\n",
              "      <td>0.76</td>\n",
              "      <td>0.71</td>\n",
              "      <td>0.78</td>\n",
              "      <td>0.93</td>\n",
              "      <td>0.84</td>\n",
              "      <td>Well Developed</td>\n",
              "      <td>Proficient</td>\n",
              "      <td>Proficient</td>\n",
              "      <td>Well Developed</td>\n",
              "      <td>Proficient</td>\n",
              "      <td>Well Developed</td>\n",
              "      <td>Well Developed</td>\n",
              "      <td>Proficient</td>\n",
              "      <td>Proficient</td>\n",
              "      <td>Well Developed</td>\n",
              "      <td>04/01/2017 12:00:00 AM</td>\n",
              "      <td>3.75</td>\n",
              "      <td>3.86</td>\n",
              "      <td>0.005</td>\n",
              "      <td>0.144</td>\n",
              "      <td>0.000</td>\n",
              "      <td>0.434</td>\n",
              "      <td>0.017</td>\n",
              "      <td>0.036</td>\n",
              "      <td>0.311</td>\n",
              "      <td>0.294</td>\n",
              "      <td>0.131</td>\n",
              "      <td>0.189</td>\n",
              "      <td>0.352</td>\n",
              "      <td>3.0</td>\n",
              "      <td>0.639</td>\n",
              "      <td>0.952</td>\n",
              "      <td>0.120</td>\n",
              "      <td>0.969</td>\n",
              "    </tr>\n",
              "  </tbody>\n",
              "</table>\n",
              "<p>5 rows × 170 columns</p>\n",
              "</div>"
            ],
            "text/plain": [
              "      DBN  ... Teacher Attendance Rate_1718\n",
              "0  01M292  ...                        0.965\n",
              "1  01M448  ...                        0.968\n",
              "2  01M450  ...                        0.989\n",
              "3  01M509  ...                        0.967\n",
              "4  01M539  ...                        0.969\n",
              "\n",
              "[5 rows x 170 columns]"
            ]
          },
          "metadata": {
            "tags": []
          },
          "execution_count": 53
        }
      ]
    },
    {
      "cell_type": "markdown",
      "metadata": {
        "id": "DSzAg_26LKZU"
      },
      "source": [
        "Check and apply an average function across the four years for each item (so that we can compare them later). "
      ]
    },
    {
      "cell_type": "code",
      "metadata": {
        "colab": {
          "base_uri": "https://localhost:8080/",
          "height": 202
        },
        "id": "6hUOL8E3K4Z1",
        "outputId": "7974e3cf-b7f0-4eff-c1ee-513965d87075"
      },
      "source": [
        "eco_need_cols = [col for col in full_df.columns if \"economic need\" in col.lower()]\n",
        "full_df[['DBN'] + eco_need_cols].head()"
      ],
      "execution_count": 54,
      "outputs": [
        {
          "output_type": "execute_result",
          "data": {
            "text/html": [
              "<div>\n",
              "<style scoped>\n",
              "    .dataframe tbody tr th:only-of-type {\n",
              "        vertical-align: middle;\n",
              "    }\n",
              "\n",
              "    .dataframe tbody tr th {\n",
              "        vertical-align: top;\n",
              "    }\n",
              "\n",
              "    .dataframe thead th {\n",
              "        text-align: right;\n",
              "    }\n",
              "</style>\n",
              "<table border=\"1\" class=\"dataframe\">\n",
              "  <thead>\n",
              "    <tr style=\"text-align: right;\">\n",
              "      <th></th>\n",
              "      <th>DBN</th>\n",
              "      <th>Economic Need Index_1415</th>\n",
              "      <th>Economic Need Index_1516</th>\n",
              "      <th>Economic Need Index_1617</th>\n",
              "      <th>Economic Need Index_1718</th>\n",
              "    </tr>\n",
              "  </thead>\n",
              "  <tbody>\n",
              "    <tr>\n",
              "      <th>0</th>\n",
              "      <td>01M292</td>\n",
              "      <td>0.832</td>\n",
              "      <td>0.881</td>\n",
              "      <td>0.832</td>\n",
              "      <td>0.898</td>\n",
              "    </tr>\n",
              "    <tr>\n",
              "      <th>1</th>\n",
              "      <td>01M448</td>\n",
              "      <td>0.812</td>\n",
              "      <td>0.771</td>\n",
              "      <td>0.757</td>\n",
              "      <td>0.825</td>\n",
              "    </tr>\n",
              "    <tr>\n",
              "      <th>2</th>\n",
              "      <td>01M450</td>\n",
              "      <td>0.610</td>\n",
              "      <td>0.591</td>\n",
              "      <td>0.586</td>\n",
              "      <td>0.648</td>\n",
              "    </tr>\n",
              "    <tr>\n",
              "      <th>3</th>\n",
              "      <td>01M509</td>\n",
              "      <td>0.767</td>\n",
              "      <td>0.794</td>\n",
              "      <td>0.767</td>\n",
              "      <td>0.823</td>\n",
              "    </tr>\n",
              "    <tr>\n",
              "      <th>4</th>\n",
              "      <td>01M539</td>\n",
              "      <td>0.257</td>\n",
              "      <td>0.278</td>\n",
              "      <td>0.359</td>\n",
              "      <td>0.434</td>\n",
              "    </tr>\n",
              "  </tbody>\n",
              "</table>\n",
              "</div>"
            ],
            "text/plain": [
              "      DBN  ...  Economic Need Index_1718\n",
              "0  01M292  ...                     0.898\n",
              "1  01M448  ...                     0.825\n",
              "2  01M450  ...                     0.648\n",
              "3  01M509  ...                     0.823\n",
              "4  01M539  ...                     0.434\n",
              "\n",
              "[5 rows x 5 columns]"
            ]
          },
          "metadata": {
            "tags": []
          },
          "execution_count": 54
        }
      ]
    },
    {
      "cell_type": "code",
      "metadata": {
        "id": "SyY9EHOUNQZi"
      },
      "source": [
        "def avg_cols(dataframe_, term = \"\"):\n",
        "    cols_ = [col for col in dataframe_.columns if term in col.lower()]\n",
        "    \n",
        "    if len(cols_) > 0:\n",
        "        return dataframe_[cols_].mean(axis = 1, skipna = True)\n",
        "    \n",
        "    else:\n",
        "        print(\"No terms found to average\")\n",
        "        return \"\""
      ],
      "execution_count": 55,
      "outputs": []
    },
    {
      "cell_type": "code",
      "metadata": {
        "id": "nVwa-b-lM9WZ"
      },
      "source": [
        "full_df['Economic Need Average'] = avg_cols(full_df, \"economic need\")"
      ],
      "execution_count": 56,
      "outputs": []
    },
    {
      "cell_type": "code",
      "metadata": {
        "colab": {
          "base_uri": "https://localhost:8080/"
        },
        "id": "P6WosC4rMqKz",
        "outputId": "af5b589d-64e9-4597-f418-bba2015e1bf8"
      },
      "source": [
        "full_df['Economic Need Average'][0:3]"
      ],
      "execution_count": 57,
      "outputs": [
        {
          "output_type": "execute_result",
          "data": {
            "text/plain": [
              "0    0.86075\n",
              "1    0.79125\n",
              "2    0.60875\n",
              "Name: Economic Need Average, dtype: float64"
            ]
          },
          "metadata": {
            "tags": []
          },
          "execution_count": 57
        }
      ]
    },
    {
      "cell_type": "code",
      "metadata": {
        "id": "0lI9rIiRO6q1"
      },
      "source": [
        "full_df['HRA average'] = avg_cols(full_df, \"hra\")"
      ],
      "execution_count": 58,
      "outputs": []
    },
    {
      "cell_type": "code",
      "metadata": {
        "colab": {
          "base_uri": "https://localhost:8080/"
        },
        "id": "OlJ26IUAO-Au",
        "outputId": "e88de843-56cf-45f3-c366-3bb7c0cee7ff"
      },
      "source": [
        "full_df['HRA average']"
      ],
      "execution_count": 59,
      "outputs": [
        {
          "output_type": "execute_result",
          "data": {
            "text/plain": [
              "0      0.68375\n",
              "1      0.60575\n",
              "2      0.44200\n",
              "3      0.64975\n",
              "4      0.24600\n",
              "        ...   \n",
              "515    0.70400\n",
              "516    0.55700\n",
              "517    0.65100\n",
              "518    0.71400\n",
              "519    0.77900\n",
              "Name: HRA average, Length: 520, dtype: float64"
            ]
          },
          "metadata": {
            "tags": []
          },
          "execution_count": 59
        }
      ]
    },
    {
      "cell_type": "code",
      "metadata": {
        "id": "8N2Yl3SBPAG6"
      },
      "source": [
        "full_df['Temp Housing Avg'] = avg_cols(full_df, \"temp housing\")"
      ],
      "execution_count": 60,
      "outputs": []
    },
    {
      "cell_type": "code",
      "metadata": {
        "colab": {
          "base_uri": "https://localhost:8080/"
        },
        "id": "X3GmpvUbPH5h",
        "outputId": "bcc67446-0e04-4522-c8ea-caa79bf69b3d"
      },
      "source": [
        "full_df['Temp Housing Avg'][0:3]"
      ],
      "execution_count": 61,
      "outputs": [
        {
          "output_type": "execute_result",
          "data": {
            "text/plain": [
              "0    0.20500\n",
              "1    0.20575\n",
              "2    0.05550\n",
              "Name: Temp Housing Avg, dtype: float64"
            ]
          },
          "metadata": {
            "tags": []
          },
          "execution_count": 61
        }
      ]
    },
    {
      "cell_type": "code",
      "metadata": {
        "colab": {
          "base_uri": "https://localhost:8080/",
          "height": 286
        },
        "id": "P5efc-QZQNlj",
        "outputId": "0994c2f4-dca5-479b-b0eb-2c52a81da964"
      },
      "source": [
        "#Let's Plot the Findings\n",
        "plt.scatter(y = full_df['Temp Housing Avg'], \n",
        "            x = full_df['Economic Need Average'])"
      ],
      "execution_count": 62,
      "outputs": [
        {
          "output_type": "execute_result",
          "data": {
            "text/plain": [
              "<matplotlib.collections.PathCollection at 0x7f5a8bd958d0>"
            ]
          },
          "metadata": {
            "tags": []
          },
          "execution_count": 62
        },
        {
          "output_type": "display_data",
          "data": {
            "image/png": "[encoded data removed]",
            "text/plain": [
              "<Figure size 432x288 with 1 Axes>"
            ]
          },
          "metadata": {
            "tags": []
          }
        }
      ]
    },
    {
      "cell_type": "code",
      "metadata": {
        "colab": {
          "base_uri": "https://localhost:8080/",
          "height": 415
        },
        "id": "dkyO0g-9K9sM",
        "outputId": "242a9db0-20de-49e1-b62a-42d0027663b1"
      },
      "source": [
        "all_df_corr = full_df[['Economic Need Average', 'Temp Housing Avg', 'HRA average']].corr()\n",
        "all_df_corr['Economic Need Average'].sort_values(ascending = False)\n",
        "\n",
        "sns.heatmap(all_df_corr, \n",
        "        xticklabels=all_df_corr.columns,\n",
        "        yticklabels=all_df_corr.columns)"
      ],
      "execution_count": 63,
      "outputs": [
        {
          "output_type": "execute_result",
          "data": {
            "text/plain": [
              "<matplotlib.axes._subplots.AxesSubplot at 0x7f5a8bac4e90>"
            ]
          },
          "metadata": {
            "tags": []
          },
          "execution_count": 63
        },
        {
          "output_type": "display_data",
          "data": {
            "image/png": "[encoded data removed]",
            "text/plain": [
              "<Figure size 432x288 with 2 Axes>"
            ]
          },
          "metadata": {
            "tags": []
          }
        }
      ]
    },
    {
      "cell_type": "code",
      "metadata": {
        "colab": {
          "base_uri": "https://localhost:8080/",
          "height": 884
        },
        "id": "WrSOpKUEGd0t",
        "outputId": "a6bc4c37-554c-45dd-949a-596e3a4a1f18"
      },
      "source": [
        "#Pairplot of the features we are looking for\n",
        "sns.pairplot(full_df[['Economic Need Average', 'Temp Housing Avg', 'HRA average']],\n",
        "             dropna = True,\n",
        "             height = 4,\n",
        "             corner = True)"
      ],
      "execution_count": 80,
      "outputs": [
        {
          "output_type": "execute_result",
          "data": {
            "text/plain": [
              "<seaborn.axisgrid.PairGrid at 0x7f5a77ebcc50>"
            ]
          },
          "metadata": {
            "tags": []
          },
          "execution_count": 80
        },
        {
          "output_type": "display_data",
          "data": {
            "image/png": "[encoded data removed]",
            "text/plain": [
              "<Figure size 864x864 with 9 Axes>"
            ]
          },
          "metadata": {
            "tags": []
          }
        }
      ]
    },
    {
      "cell_type": "markdown",
      "metadata": {
        "id": "BAG4RauQIaLT"
      },
      "source": [
        "From the plots, we can see how strong the Economic Need to HRA average is (looks almost like a straight line). Temp housing and HRA also have a relatively strong correlation."
      ]
    },
    {
      "cell_type": "markdown",
      "metadata": {
        "id": "x7o4-RzcIofb"
      },
      "source": [
        ""
      ]
    },
    {
      "cell_type": "markdown",
      "metadata": {
        "id": "S030mx_aNeMZ"
      },
      "source": [
        "What's troubling here is how correlated 'Percent Hispanic' is to the economic need index. It is interesting, and troubling, to note that the more hispanic the school, the higher the need becomes, but this correlation is even stronger than correlation between need and those in temporary housing. No other group trends so strongly; schools with higher African American populations correlate weakly. \n",
        "\n",
        "In looking at simple racial disparities in terms of economic need, schools with high caucasian populations appear to be much lower on the Economic Need Index, with a somewhat-strong negative -.657 correlation.\n",
        "\n",
        "More positive is that as economic need rises, there are only small negative correlations in Effective School Leadership, Teacher Attendance, Supportive Enviromnents, and Rigor of instruction. This suggests that students' education is not largely negatively impacted, regardless of economic level. "
      ]
    },
    {
      "cell_type": "code",
      "metadata": {
        "id": "7KerS3gRLHf2",
        "colab": {
          "base_uri": "https://localhost:8080/",
          "height": 187
        },
        "outputId": "ba2c1f08-984d-4f7a-8386-b7da2536ff60"
      },
      "source": [
        "#sns.scatterplot(x = all_dfs['Percent Hispanic'], y = all_dfs['Economic Need Index'])\n",
        "sns.regplot(x = all_dfs['Percent Hispanic'], y = all_dfs['Economic Need Index'], color = 'blue')"
      ],
      "execution_count": 65,
      "outputs": [
        {
          "output_type": "error",
          "ename": "TypeError",
          "evalue": "ignored",
          "traceback": [
            "\u001b[0;31m---------------------------------------------------------------------------\u001b[0m",
            "\u001b[0;31mTypeError\u001b[0m                                 Traceback (most recent call last)",
            "\u001b[0;32m<ipython-input-65-c5bdac2b7f11>\u001b[0m in \u001b[0;36m<module>\u001b[0;34m()\u001b[0m\n\u001b[1;32m      1\u001b[0m \u001b[0;31m#sns.scatterplot(x = all_dfs['Percent Hispanic'], y = all_dfs['Economic Need Index'])\u001b[0m\u001b[0;34m\u001b[0m\u001b[0;34m\u001b[0m\u001b[0;34m\u001b[0m\u001b[0m\n\u001b[0;32m----> 2\u001b[0;31m \u001b[0msns\u001b[0m\u001b[0;34m.\u001b[0m\u001b[0mregplot\u001b[0m\u001b[0;34m(\u001b[0m\u001b[0mx\u001b[0m \u001b[0;34m=\u001b[0m \u001b[0mall_dfs\u001b[0m\u001b[0;34m[\u001b[0m\u001b[0;34m'Percent Hispanic'\u001b[0m\u001b[0;34m]\u001b[0m\u001b[0;34m,\u001b[0m \u001b[0my\u001b[0m \u001b[0;34m=\u001b[0m \u001b[0mall_dfs\u001b[0m\u001b[0;34m[\u001b[0m\u001b[0;34m'Economic Need Index'\u001b[0m\u001b[0;34m]\u001b[0m\u001b[0;34m,\u001b[0m \u001b[0mcolor\u001b[0m \u001b[0;34m=\u001b[0m \u001b[0;34m'blue'\u001b[0m\u001b[0;34m)\u001b[0m\u001b[0;34m\u001b[0m\u001b[0;34m\u001b[0m\u001b[0m\n\u001b[0m",
            "\u001b[0;31mTypeError\u001b[0m: list indices must be integers or slices, not str"
          ]
        }
      ]
    },
    {
      "cell_type": "markdown",
      "metadata": {
        "id": "ZMJZqZAAWUS0"
      },
      "source": [
        "# Display a Dashboard of All Metrics Changes  \n",
        "Ref: https://www.datacamp.com/community/tutorials/learn-build-dash-python\n"
      ]
    },
    {
      "cell_type": "code",
      "metadata": {
        "id": "_vucDW19XGSN"
      },
      "source": [
        "!pip install dash"
      ],
      "execution_count": null,
      "outputs": []
    },
    {
      "cell_type": "code",
      "metadata": {
        "id": "ynsmhM8IWXxA"
      },
      "source": [
        "#Let's make a dashboard\n",
        "import dash\n",
        "import dash_core_components as dcc\n",
        "import dash_html_components as html\n",
        "\n",
        "app = dash.Dash(__name__)"
      ],
      "execution_count": null,
      "outputs": []
    },
    {
      "cell_type": "code",
      "metadata": {
        "id": "OnmvAmE3XQMJ"
      },
      "source": [
        "df_all_poverty[['Year_start','Adjusted Poverty']].groupby('Year_start').agg(['mean','median', np.var, np.std, min,max])"
      ],
      "execution_count": null,
      "outputs": []
    },
    {
      "cell_type": "code",
      "metadata": {
        "id": "ID8YoBZvW8Rc"
      },
      "source": [
        "app.layout = html.Div(\n",
        "    children=[\n",
        "        html.H1(children=\"Avocado Analytics\",),\n",
        "        html.P(\n",
        "            children=\"Analyze the behavior of avocado prices\"\n",
        "            \" and the number of avocados sold in the US\"\n",
        "            \" between 2015 and 2018\",\n",
        "        ),\n",
        "        dcc.Graph(\n",
        "            figure={\n",
        "                \"data\": [\n",
        "                    {\n",
        "                        \"x\": df_all_poverty['Year_start'],\n",
        "                        \"y\": df_all_poverty['Adjusted Poverty'],\n",
        "                        \"type\": \"lines\",\n",
        "                    },\n",
        "                ],\n",
        "                \"layout\": {\"title\": \"Average Price of Avocados\"},\n",
        "            },\n",
        "        ),\n",
        "        dcc.Graph(\n",
        "            figure={\n",
        "                \"data\": [\n",
        "                    {\n",
        "                        \"x\": df_all_poverty['Year_start'],\n",
        "                        \"y\": df_all_poverty['Adjusted Poverty'],\n",
        "                        \"type\": \"lines\",\n",
        "                    },\n",
        "                ],\n",
        "                \"layout\": {\"title\": \"Avocados Sold\"},\n",
        "            },\n",
        "        ),\n",
        "    ]\n",
        ")"
      ],
      "execution_count": null,
      "outputs": []
    },
    {
      "cell_type": "code",
      "metadata": {
        "id": "9IyYJwwJW8m7"
      },
      "source": [
        "if __name__ == \"__main__\":\n",
        "    app.run_server(debug=True)"
      ],
      "execution_count": null,
      "outputs": []
    },
    {
      "cell_type": "code",
      "metadata": {
        "id": "CXKrhib4Xl8U"
      },
      "source": [
        ""
      ],
      "execution_count": null,
      "outputs": []
    }
  ]
}